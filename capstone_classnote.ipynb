{
  "nbformat": 4,
  "nbformat_minor": 0,
  "metadata": {
    "colab": {
      "provenance": [],
      "mount_file_id": "1FGOUfJrU_o114FuoF4N11J68CjzrWVnU",
      "authorship_tag": "ABX9TyMlSIAG4Rg1Bh8641/0yTJM",
      "include_colab_link": true
    },
    "kernelspec": {
      "name": "python3",
      "display_name": "Python 3"
    },
    "language_info": {
      "name": "python"
    }
  },
  "cells": [
    {
      "cell_type": "markdown",
      "metadata": {
        "id": "view-in-github",
        "colab_type": "text"
      },
      "source": [
        "<a href=\"https://colab.research.google.com/github/m-rafiul-islam/capstone/blob/main/capstone_classnote.ipynb\" target=\"_parent\"><img src=\"https://colab.research.google.com/assets/colab-badge.svg\" alt=\"Open In Colab\"/></a>"
      ]
    },
    {
      "cell_type": "markdown",
      "source": [
        "# Outline: Capstone in Data Science\n",
        "\n",
        "**Introduction:**\n",
        "\n",
        "* **Data Science Fundamentals:**\n",
        "    * Definition, workflow, career paths, and ethics\n",
        "    * Python basics, data structures, and scientific libraries (NumPy, Pandas)\n",
        "    * Web scraping, API integration, database connections, data cleaning, and EDA\n",
        "    * Project Selection & Proposal: Brainstorming ideas, identifying datasets, research questions, and hypotheses\n",
        "\n",
        "**Data Analysis & Machine Learning:**\n",
        "\n",
        "* **Data Visualization:** Tools and best practices for effective storytelling with data (Matplotlib, Seaborn)\n",
        "* **Statistics & Probability:** Descriptive statistics, hypothesis testing, correlation analysis, and regression\n",
        "* **Machine Learning Essentials:** Supervised learning (classification and regression) and unsupervised learning (clustering)\n",
        "* **Feature Engineering & Model Evaluation:** Data preparation, model training & testing, error analysis, and cross-validation\n",
        "\n",
        "**Advanced Techniques & Project Deep Dive:**\n",
        "\n",
        "* **Natural Language Processing (NLP):** Text mining, sentiment analysis, and topic modeling\n",
        "* **Big Data & Cloud Computing:** Overview of large-scale data processing with Spark and cloud platforms (AWS, Azure)\n",
        "* **Project Progress & Feedback:** Individual meetings for guidance and troubleshooting\n",
        "* **Presentation Skills & Communication:** Effective data storytelling, visuals, and crafting narratives\n",
        "\n",
        "**Project Finalization & Presentations:**\n",
        "\n",
        "* **Model Refinement & Results Interpretation:** Fine-tuning models, interpreting results, drawing conclusions, and addressing limitations\n",
        "* **Project Presentations:** Individual presentations, discussions, and Q&A sessions\n",
        "* **Reflection & Feedback:** Course recap, self-evaluation, instructor feedback, and career planning insights\n",
        "\n",
        "**Additional Elements (Optional):**\n",
        "* **Guest Speaker Sessions:** Industry professionals sharing real-world experiences\n",
        "* **Teamwork Opportunities:** Collaboration on projects to simulate professional settings\n",
        "* **Open-Source Exploration:** Utilizing popular open-source libraries and tools\n",
        "\n",
        "\n",
        "\n",
        "\n"
      ],
      "metadata": {
        "id": "SeWizv702Zai"
      }
    },
    {
      "cell_type": "markdown",
      "source": [
        "# Assesment\n",
        "* Homewok\n",
        "* Quiz\n",
        "* Midterm\n",
        "* Projects"
      ],
      "metadata": {
        "id": "7m26Tesv3qhk"
      }
    },
    {
      "cell_type": "markdown",
      "source": [
        "# Project ideas\n",
        "\n",
        "## Workflow Automation\n",
        "\n",
        "Automate your daily life activities\n",
        "- Email sending\n",
        "- File managemant.\n",
        "-\n",
        "\n",
        "[20 Automation Project Ideas](https://www.simplilearn.com/tutorials/python-tutorial/python-automation-projects#file_management)\n",
        "\n",
        "\n",
        "##  Exploratory Data Analyis (EDA)  \n",
        "\n",
        "---\n",
        "Data Mining (Web Scrapping)\n",
        "https://builtin.com/data-science/data-science-projects  \n",
        "\n",
        "---\n",
        "\n",
        "## Predictive Modelling\n",
        "- Sentiment Analysis\n",
        "- Chatbot\n",
        "---\n",
        "\n"
      ],
      "metadata": {
        "id": "WtwF8ohq6hFP"
      }
    },
    {
      "cell_type": "code",
      "source": [
        "# Data 2365 Review\n",
        "# Career Discussion\n",
        "# Project ideas\n",
        "# https://builtin.com/data-science/data-science-projects\n"
      ],
      "metadata": {
        "id": "iKtEP13J2bAr"
      },
      "execution_count": null,
      "outputs": []
    },
    {
      "cell_type": "code",
      "source": [
        "# https://www.coursera.org/programs/it-automation-with-python-certificate-ux4b6/professional-certificates/google-it-automation?collectionId=AMEeB#courses"
      ],
      "metadata": {
        "id": "6FFWTpeg4Ew9"
      },
      "execution_count": null,
      "outputs": []
    },
    {
      "cell_type": "code",
      "source": [
        "# bank\n",
        "# Real-estate\n",
        "# gov\n",
        "#"
      ],
      "metadata": {
        "id": "B-ZJnnQoIGGE"
      },
      "execution_count": null,
      "outputs": []
    },
    {
      "cell_type": "code",
      "source": [
        "# Intership\n",
        "# Data entry\n",
        "# Software --- excel --- ? Python\n",
        "# SPSS"
      ],
      "metadata": {
        "id": "sG0NjYK9IFqT"
      },
      "execution_count": null,
      "outputs": []
    },
    {
      "cell_type": "code",
      "source": [
        "# Job Fair\n",
        "# CV/Protflio"
      ],
      "metadata": {
        "id": "cFj_VGXWIs9H"
      },
      "execution_count": null,
      "outputs": []
    },
    {
      "cell_type": "code",
      "source": [
        "#LInkedin\n"
      ],
      "metadata": {
        "id": "spip9upXI3ST"
      },
      "execution_count": null,
      "outputs": []
    },
    {
      "cell_type": "markdown",
      "source": [
        "# Next two weeks plan\n",
        "#Michael\n",
        "-- Enroll in google certificate and complete some courses\n",
        "--\n",
        "\n",
        "# Marcela\n",
        "--- Last two courese on IT Automations\n",
        "--- MatLab  \n",
        "---\n",
        "\n",
        "# Both\n",
        "-- Attend DATA 2365\n",
        "-- Review python stuffs as much as posible\n",
        "-- Github\n",
        "-- command-line commands (virtual terminlas for windows)\n"
      ],
      "metadata": {
        "id": "Dfu7M_I0PrZI"
      }
    },
    {
      "cell_type": "markdown",
      "source": [
        "# Project 1: Workflow Automation"
      ],
      "metadata": {
        "id": "Tr5usC8_93zX"
      }
    },
    {
      "cell_type": "markdown",
      "source": [
        "Here are a few examples of workflow automation using Python:\n",
        "\n",
        "**File Management:**\n",
        "\n",
        "Task: Automatically organize files in a specific directory.\n",
        "Automation Steps: Use the os module to list files, categorize them based on criteria, and move or rename files accordingly.\n",
        "\n",
        "**Automated Email Sending:**\n",
        "\n",
        "Task: Send emails automatically based on triggers or schedules.\n",
        "Automation Steps: Use the smtplib library to send emails, and schedule the script execution using a task scheduler.\n",
        "\n",
        "**-Caution: Use a new email account for testing**"
      ],
      "metadata": {
        "id": "NpTC1M4Y-B0G"
      }
    },
    {
      "cell_type": "markdown",
      "source": [
        "**Useful Materials:**\n",
        "\n",
        "Book: Automate the Boring Stuff with Python By Al Sweigart\n",
        "https://automatetheboringstuff.com/\n",
        "\n",
        "https://www.youtube.com/watch?v=g_j6ILT-X0k\n",
        "\n"
      ],
      "metadata": {
        "id": "XaREnHcg-a8X"
      }
    },
    {
      "cell_type": "code",
      "source": [],
      "metadata": {
        "id": "KW2cQzlO9_Y8"
      },
      "execution_count": null,
      "outputs": []
    },
    {
      "cell_type": "markdown",
      "source": [
        "## Sending emails"
      ],
      "metadata": {
        "id": "l2QnA1VTVlnv"
      }
    },
    {
      "cell_type": "code",
      "source": [
        "# https://www.youtube.com/watch?v=g_j6ILT-X0k\n",
        "# https://myaccount.google.com/ --- active two steps verifications\n",
        "# https://myaccount.google.com/u/0/apppasswords\n",
        "test_p = 'jysuzdflgwk*****' #your password here --- hide it"
      ],
      "metadata": {
        "id": "7wj2RqyeVo47"
      },
      "execution_count": null,
      "outputs": []
    },
    {
      "cell_type": "code",
      "source": [
        "import smtplib\n",
        "import ssl\n",
        "from email.message import EmailMessage"
      ],
      "metadata": {
        "id": "T1pcVn_QX6b3"
      },
      "execution_count": null,
      "outputs": []
    },
    {
      "cell_type": "code",
      "source": [
        "# Define email sender and receiver\n",
        "email_sender = 'rafiul208@gmail.com'\n",
        "email_password = test_p\n",
        "email_receiver ='maayala3@student.uiwtx.edu' # 'mniescie@student.uiwtx.edu' #\n",
        "\n",
        "# Set the subject and body of the email\n",
        "subject = 'Automated email'\n",
        "body = \"\"\"\n",
        "Automated email body\n",
        "\"\"\"\n",
        "\n",
        "em = EmailMessage() # creating and email object\n",
        "em['From'] = email_sender\n",
        "em['To'] = email_receiver\n",
        "em['Subject'] = subject\n",
        "em.set_content(body)\n",
        "\n",
        "# Add SSL (layer of security)\n",
        "context = ssl.create_default_context()\n",
        "\n",
        "# Log in and send the email\n",
        "with smtplib.SMTP_SSL('smtp.gmail.com', 465, context=context) as smtp:\n",
        "    smtp.login(email_sender, email_password)\n",
        "    smtp.sendmail(email_sender, email_receiver, em.as_string())"
      ],
      "metadata": {
        "id": "xnj6BvpUX4Xj"
      },
      "execution_count": null,
      "outputs": []
    },
    {
      "cell_type": "code",
      "source": [
        "# hide your password\n",
        "# send the emailed to multiple recepients\n",
        "# plain-email + attachement\n",
        "# scheduel the time\n",
        "# customized email body based on the recepient\n",
        "# time pause -- schedule the time.\n",
        "# ----\n",
        "# downlaod all previous emails (some) from your inbox\n",
        "# Note: create a new email or use your secondary (unimportant email)"
      ],
      "metadata": {
        "colab": {
          "base_uri": "https://localhost:8080/",
          "height": 35
        },
        "id": "l_M7olwSerbA",
        "outputId": "81fa92fc-2eed-4c8e-e4be-e0d56554a505"
      },
      "execution_count": null,
      "outputs": [
        {
          "output_type": "execute_result",
          "data": {
            "text/plain": [
              "'/content'"
            ],
            "application/vnd.google.colaboratory.intrinsic+json": {
              "type": "string"
            }
          },
          "metadata": {},
          "execution_count": 13
        }
      ]
    },
    {
      "cell_type": "markdown",
      "source": [
        "## File management\n",
        "- organized the file based on file type\n",
        "- time created\n",
        "- time modified\n",
        "- time opened\n",
        "- by size\n",
        "\n",
        "Or do your own research\n"
      ],
      "metadata": {
        "id": "8Cwj8IOtlKKp"
      }
    },
    {
      "cell_type": "markdown",
      "source": [
        "Important read:\n",
        "\n",
        "[File and Directory Access](https://docs.python.org/3/library/filesys.html)  \n",
        "\n",
        "[10 important python command-line commands](https://www.geeksforgeeks.org/10-python-file-system-methods-you-should-know/)\n",
        "\n",
        "File and Diretory Managemant Packages:\n",
        " - os\n",
        " - shutil\n",
        " - glob  \n",
        "\n",
        "\n",
        "\n"
      ],
      "metadata": {
        "id": "FS0VKxPbIjwM"
      }
    },
    {
      "cell_type": "markdown",
      "source": [
        "Here are some common file system operations you can do with Python:\n",
        "Get the current working directory.:\n",
        "- The os.getcwd() function returns the current working directory.\n",
        "- List the contents of a directory.: The os.listdir() function returns a list of the files and directories in a directory.\n",
        "- Join paths.: The os.path.join() function joins two or more path components into a single path.\n",
        "- Create a directory.: The os.makedirs() function creates a directory and any necessary parent directories.\n",
        "- Rename a file.: The os.rename() function renames a file.\n",
        "- Check if a file exists.: The os.path.exists() function checks if a file exists.\n",
        "- Get metadata.: The os.path.getsize() function returns the size of a file. The os.path.getmtime() function returns the last modified time of a file."
      ],
      "metadata": {
        "id": "yciPKfb6AGMT"
      }
    },
    {
      "cell_type": "markdown",
      "source": [
        "/content is the base directory in google colab"
      ],
      "metadata": {
        "id": "-D7-HNDoOOXD"
      }
    },
    {
      "cell_type": "markdown",
      "source": [
        "cd: change directory"
      ],
      "metadata": {
        "id": "htuZY7y6OelV"
      }
    },
    {
      "cell_type": "code",
      "source": [
        "cd drive"
      ],
      "metadata": {
        "colab": {
          "base_uri": "https://localhost:8080/"
        },
        "id": "hCu1iENLOEMA",
        "outputId": "dbbbeadd-31f3-4367-d8d4-edb807981a70"
      },
      "execution_count": null,
      "outputs": [
        {
          "output_type": "stream",
          "name": "stdout",
          "text": [
            "/content/drive\n"
          ]
        }
      ]
    },
    {
      "cell_type": "code",
      "source": [
        "ls"
      ],
      "metadata": {
        "colab": {
          "base_uri": "https://localhost:8080/"
        },
        "id": "2ZI8QdeXOkdE",
        "outputId": "d8933d20-a2fb-46af-c0cb-6d118961cd03"
      },
      "execution_count": null,
      "outputs": [
        {
          "output_type": "stream",
          "name": "stdout",
          "text": [
            "\u001b[0m\u001b[01;34mMyDrive\u001b[0m/  \u001b[01;34mShareddrives\u001b[0m/\n"
          ]
        }
      ]
    },
    {
      "cell_type": "code",
      "source": [
        "cd MyDrive/"
      ],
      "metadata": {
        "colab": {
          "base_uri": "https://localhost:8080/"
        },
        "id": "7s9GYVQmOuyh",
        "outputId": "decaf733-196e-4423-a949-ea281f40a4a8"
      },
      "execution_count": null,
      "outputs": [
        {
          "output_type": "stream",
          "name": "stdout",
          "text": [
            "/content/drive/MyDrive\n"
          ]
        }
      ]
    },
    {
      "cell_type": "code",
      "source": [
        "mkdir Data_Capstone"
      ],
      "metadata": {
        "colab": {
          "base_uri": "https://localhost:8080/"
        },
        "id": "DI3tZtwAOyn5",
        "outputId": "c445eba4-0910-449f-96cb-129771c7d66c"
      },
      "execution_count": null,
      "outputs": [
        {
          "output_type": "stream",
          "name": "stdout",
          "text": [
            "mkdir: cannot create directory ‘Data_Capstone’: File exists\n"
          ]
        }
      ]
    },
    {
      "cell_type": "code",
      "source": [
        "import os\n",
        "import time\n",
        "\n",
        "def create_directory(directory_path):\n",
        "    try:\n",
        "        os.makedirs(directory_path, exist_ok=True)\n",
        "        print(f\"Directory '{directory_path}' created successfully.\")\n",
        "    except FileExistsError:\n",
        "        print(f\"Directory '{directory_path}' already exists.\")\n",
        "\n",
        "def create_file(file_path, content=\"\"):\n",
        "    with open(file_path, 'w') as file:\n",
        "        file.write(content)\n",
        "        print(f\"File '{file_path}' created successfully.\")\n",
        "\n",
        "def list_files(directory_path):\n",
        "    print(f\"Files in directory '{directory_path}':\")\n",
        "    for filename in os.listdir(directory_path):\n",
        "        print(filename)\n",
        "\n",
        "def delete_file(file_path):\n",
        "    try:\n",
        "        os.remove(file_path)\n",
        "        print(f\"File '{file_path}' deleted successfully.\")\n",
        "    except FileNotFoundError:\n",
        "        print(f\"File '{file_path}' not found.\")\n",
        "\n",
        "def move_files(file_name, input_folder, out_folder):\n",
        "    # Your implementation for moving files goes here\n",
        "    pass\n",
        "\n",
        "def get_file_metadata(file_path):\n",
        "    try:\n",
        "        # Get file size\n",
        "        size = os.path.getsize(file_path)\n",
        "\n",
        "        # Get last modified timestamp\n",
        "        last_modified = os.path.getmtime(file_path)\n",
        "        last_modified_time = time.ctime(last_modified)\n",
        "\n",
        "        # Get creation timestamp (Not available on all platforms)\n",
        "        try:\n",
        "            created_time = time.ctime(os.path.getctime(file_path))\n",
        "        except OSError:\n",
        "            created_time = \"N/A\"\n",
        "\n",
        "        # Get file extension\n",
        "        file_extension = os.path.splitext(file_path)[1]\n",
        "\n",
        "        # Display the file metadata\n",
        "        print(f\"File Path: {file_path}\")\n",
        "        print(f\"Size: {size} bytes\")\n",
        "        print(f\"Last Modified: {last_modified_time}\")\n",
        "        print(f\"Created Time: {created_time}\")\n",
        "        print(f\"File Extension: {file_extension}\")\n",
        "\n",
        "    except FileNotFoundError:\n",
        "        print(f\"File '{file_path}' not found.\")\n",
        "\n",
        "def find_all_files_names(path):\n",
        "  pass\n",
        "\n",
        "\n",
        "# Example usage:\n",
        "directory_name = \"MyFiles\"\n",
        "file_name = \"example.jpg\"\n",
        "\n",
        "# Note: In Colab, use '/content/' as the base directory\n",
        "base_directory = '/content/'\n",
        "\n",
        "create_directory(os.path.join(base_directory, directory_name))\n",
        "create_file(os.path.join(base_directory, directory_name, file_name), \"This is some content.\")\n",
        "list_files(os.path.join(base_directory, directory_name))\n",
        "\n",
        "file_path = os.path.join(base_directory, directory_name, file_name)\n",
        "get_file_metadata(file_path)\n",
        "\n",
        "# delete_file(file_path)\n",
        "# list_files(os.path.join(base_directory, directory_name))\n"
      ],
      "metadata": {
        "colab": {
          "base_uri": "https://localhost:8080/"
        },
        "id": "FJfkhOgeE38S",
        "outputId": "169e2b8d-07ee-45f3-9e46-b730ee027e3e"
      },
      "execution_count": null,
      "outputs": [
        {
          "output_type": "stream",
          "name": "stdout",
          "text": [
            "Directory '/content/MyFiles' created successfully.\n",
            "File '/content/MyFiles/example.jpg' created successfully.\n",
            "Files in directory '/content/MyFiles':\n",
            "example.jpg\n",
            "File Path: /content/MyFiles/example.jpg\n",
            "Size: 21 bytes\n",
            "Last Modified: Thu Feb  1 17:08:33 2024\n",
            "Created Time: Thu Feb  1 17:08:33 2024\n",
            "File Extension: .jpg\n"
          ]
        }
      ]
    },
    {
      "cell_type": "code",
      "source": [
        "get_file_metadata(file_path)"
      ],
      "metadata": {
        "colab": {
          "base_uri": "https://localhost:8080/"
        },
        "id": "RsQNn17LpHKG",
        "outputId": "d71f5e20-d685-4b8f-e686-0579f040e256"
      },
      "execution_count": null,
      "outputs": [
        {
          "output_type": "stream",
          "name": "stdout",
          "text": [
            "File Path: /content/MyFiles/example.jpg\n",
            "Size: 21 bytes\n",
            "Last Modified: Thu Feb  1 17:08:33 2024\n",
            "Created Time: Thu Feb  1 17:08:33 2024\n",
            "File Extension: .jpg\n"
          ]
        }
      ]
    },
    {
      "cell_type": "code",
      "source": [
        "path = '/content/drive/MyDrive'\n",
        "path"
      ],
      "metadata": {
        "colab": {
          "base_uri": "https://localhost:8080/",
          "height": 35
        },
        "id": "zzbBDoCPTOmi",
        "outputId": "dbd30246-bd71-4a69-85af-0d8c07c5600f"
      },
      "execution_count": null,
      "outputs": [
        {
          "output_type": "execute_result",
          "data": {
            "text/plain": [
              "'/content/drive/MyDrive'"
            ],
            "application/vnd.google.colaboratory.intrinsic+json": {
              "type": "string"
            }
          },
          "metadata": {},
          "execution_count": 37
        }
      ]
    },
    {
      "cell_type": "code",
      "source": [
        "import os\n",
        "path = os.getcwd() # similar as pwd\n",
        "path"
      ],
      "metadata": {
        "colab": {
          "base_uri": "https://localhost:8080/",
          "height": 35
        },
        "id": "snHPZbf-TWCz",
        "outputId": "c4e58391-4f85-49f3-acc4-d552f9506d3f"
      },
      "execution_count": null,
      "outputs": [
        {
          "output_type": "execute_result",
          "data": {
            "text/plain": [
              "'/content/drive/MyDrive'"
            ],
            "application/vnd.google.colaboratory.intrinsic+json": {
              "type": "string"
            }
          },
          "metadata": {},
          "execution_count": 52
        }
      ]
    },
    {
      "cell_type": "code",
      "source": [
        "we_want_go = path+'/Data_Capstone'\n",
        "we_want_go"
      ],
      "metadata": {
        "colab": {
          "base_uri": "https://localhost:8080/",
          "height": 35
        },
        "id": "dveG3UktVZ8G",
        "outputId": "9ba45471-3b1b-4727-e54f-f59283285b6e"
      },
      "execution_count": null,
      "outputs": [
        {
          "output_type": "execute_result",
          "data": {
            "text/plain": [
              "'/content/drive/MyDrive/Data_Capstone'"
            ],
            "application/vnd.google.colaboratory.intrinsic+json": {
              "type": "string"
            }
          },
          "metadata": {},
          "execution_count": 53
        }
      ]
    },
    {
      "cell_type": "code",
      "source": [
        "new_path = os.chdir(we_want_go) #change directory, similiar as cd"
      ],
      "metadata": {
        "id": "NiDWe5XaT0JT"
      },
      "execution_count": null,
      "outputs": []
    },
    {
      "cell_type": "code",
      "source": [
        "cd Data_Capstone/"
      ],
      "metadata": {
        "colab": {
          "base_uri": "https://localhost:8080/"
        },
        "id": "tYs8Rk0HT6H3",
        "outputId": "06470cfb-f4e7-4c11-ad7e-2db71d18411b"
      },
      "execution_count": null,
      "outputs": [
        {
          "output_type": "stream",
          "name": "stdout",
          "text": [
            "/content/drive/MyDrive/Data_Capstone\n"
          ]
        }
      ]
    },
    {
      "cell_type": "code",
      "source": [
        "cd .."
      ],
      "metadata": {
        "colab": {
          "base_uri": "https://localhost:8080/"
        },
        "id": "xr6O37jlUfip",
        "outputId": "514c8c07-a718-45f8-f534-015f9fd3b0a4"
      },
      "execution_count": null,
      "outputs": [
        {
          "output_type": "stream",
          "name": "stdout",
          "text": [
            "/content/drive/MyDrive\n"
          ]
        }
      ]
    },
    {
      "cell_type": "code",
      "source": [
        "#one step back, previous folder"
      ],
      "metadata": {
        "id": "o4pAYYQ6UqdB"
      },
      "execution_count": null,
      "outputs": []
    },
    {
      "cell_type": "code",
      "source": [
        "from google.colab import drive\n",
        "drive.mount('/content/drive')"
      ],
      "metadata": {
        "colab": {
          "base_uri": "https://localhost:8080/"
        },
        "id": "8KdDOgtFDdYS",
        "outputId": "f676ea0c-55ef-4959-e623-61009878a47f"
      },
      "execution_count": null,
      "outputs": [
        {
          "output_type": "stream",
          "name": "stdout",
          "text": [
            "Mounted at /content/drive\n"
          ]
        }
      ]
    },
    {
      "cell_type": "code",
      "source": [
        "ls"
      ],
      "metadata": {
        "colab": {
          "base_uri": "https://localhost:8080/"
        },
        "id": "5osAgAhXDoAd",
        "outputId": "f50d51fe-40ba-4ad4-d0bf-38b6205875d1"
      },
      "execution_count": null,
      "outputs": [
        {
          "output_type": "stream",
          "name": "stdout",
          "text": [
            "\u001b[0m\u001b[01;34mdrive\u001b[0m/  \u001b[01;34msample_data\u001b[0m/\n"
          ]
        }
      ]
    },
    {
      "cell_type": "code",
      "source": [
        "cd drive"
      ],
      "metadata": {
        "colab": {
          "base_uri": "https://localhost:8080/"
        },
        "id": "WAJItRWXDqBm",
        "outputId": "63922670-533f-4c96-cad1-88addd8679c6"
      },
      "execution_count": null,
      "outputs": [
        {
          "output_type": "stream",
          "name": "stdout",
          "text": [
            "/content/drive\n"
          ]
        }
      ]
    },
    {
      "cell_type": "code",
      "source": [
        "cd MyDrive/"
      ],
      "metadata": {
        "colab": {
          "base_uri": "https://localhost:8080/"
        },
        "id": "c1zJUQRcDsN_",
        "outputId": "4738bfa5-c816-46d2-f04a-5138a1c78e78"
      },
      "execution_count": null,
      "outputs": [
        {
          "output_type": "stream",
          "name": "stdout",
          "text": [
            "/content/drive/MyDrive\n"
          ]
        }
      ]
    },
    {
      "cell_type": "code",
      "source": [
        "ls"
      ],
      "metadata": {
        "id": "SH3SpAkIDxXs"
      },
      "execution_count": null,
      "outputs": []
    },
    {
      "cell_type": "code",
      "source": [
        "pwd"
      ],
      "metadata": {
        "colab": {
          "base_uri": "https://localhost:8080/",
          "height": 35
        },
        "id": "LMjMtlotEMXz",
        "outputId": "42e8d272-494a-4a01-d100-b2ba3dff7f65"
      },
      "execution_count": null,
      "outputs": [
        {
          "output_type": "execute_result",
          "data": {
            "text/plain": [
              "'/content/drive/MyDrive'"
            ],
            "application/vnd.google.colaboratory.intrinsic+json": {
              "type": "string"
            }
          },
          "metadata": {},
          "execution_count": 8
        }
      ]
    },
    {
      "cell_type": "code",
      "source": [
        "mkdir Data_Capstone"
      ],
      "metadata": {
        "colab": {
          "base_uri": "https://localhost:8080/"
        },
        "id": "ikSFMNZqEOXI",
        "outputId": "975a9eda-77c7-4a7b-d62d-5701da3dfe8f"
      },
      "execution_count": null,
      "outputs": [
        {
          "output_type": "stream",
          "name": "stdout",
          "text": [
            "mkdir: cannot create directory ‘Data_Capstone’: File exists\n"
          ]
        }
      ]
    },
    {
      "cell_type": "code",
      "source": [
        "cd Data_Capstone"
      ],
      "metadata": {
        "colab": {
          "base_uri": "https://localhost:8080/"
        },
        "id": "SeQRD_IrEcPq",
        "outputId": "5f281b97-31d9-4efa-e334-84537ee3fa5a"
      },
      "execution_count": null,
      "outputs": [
        {
          "output_type": "stream",
          "name": "stdout",
          "text": [
            "/content/drive/MyDrive/Data_Capstone\n"
          ]
        }
      ]
    },
    {
      "cell_type": "code",
      "source": [
        "ls"
      ],
      "metadata": {
        "id": "_VOB5plMEdcA"
      },
      "execution_count": null,
      "outputs": []
    },
    {
      "cell_type": "code",
      "source": [
        "cd .."
      ],
      "metadata": {
        "colab": {
          "base_uri": "https://localhost:8080/"
        },
        "id": "KN-mXYlbEfyO",
        "outputId": "8e4c8fdc-cdb6-418d-86e2-c60a3c4a807a"
      },
      "execution_count": null,
      "outputs": [
        {
          "output_type": "stream",
          "name": "stdout",
          "text": [
            "/content/drive/MyDrive\n"
          ]
        }
      ]
    },
    {
      "cell_type": "markdown",
      "source": [
        "## open to you"
      ],
      "metadata": {
        "id": "sVo5PpxElpTE"
      }
    },
    {
      "cell_type": "markdown",
      "source": [
        "##  compare prices from other companies\n",
        "-- product price\n",
        "\n",
        "web scraping\n",
        "\n",
        "-- request module\n",
        "\n",
        "-- beautifulsoup module  \n",
        "\n",
        "-- re module  "
      ],
      "metadata": {
        "id": "hp868Kh0l1KX"
      }
    },
    {
      "cell_type": "markdown",
      "source": [
        "## request module"
      ],
      "metadata": {
        "id": "4yEjNFMOndwp"
      }
    },
    {
      "cell_type": "code",
      "source": [
        "import requests"
      ],
      "metadata": {
        "id": "PborNs46nqt0"
      },
      "execution_count": null,
      "outputs": []
    },
    {
      "cell_type": "code",
      "source": [
        "url = 'https://www.google.com/'\n",
        "# Making a GET request to a website\n",
        "response  = requests.get(url)"
      ],
      "metadata": {
        "id": "FZBe6PI9n6pA"
      },
      "execution_count": null,
      "outputs": []
    },
    {
      "cell_type": "code",
      "source": [
        "# hearder information\n",
        "# do not send request frequestly, try to send request minimum times\n",
        "# save the response in a file for future use"
      ],
      "metadata": {
        "id": "0fAVDgQgpJdx"
      },
      "execution_count": null,
      "outputs": []
    },
    {
      "cell_type": "markdown",
      "source": [
        "### checking a good response"
      ],
      "metadata": {
        "id": "rrLDF2gZpscl"
      }
    },
    {
      "cell_type": "code",
      "source": [
        "if response.status_code == 200:\n",
        "  print('Successful response')\n",
        "else:\n",
        "  print('An error occured')"
      ],
      "metadata": {
        "colab": {
          "base_uri": "https://localhost:8080/"
        },
        "id": "hssfNkNPpxo7",
        "outputId": "36341cb7-ee59-47ab-d660-4d6e7e6c7c4f"
      },
      "execution_count": null,
      "outputs": [
        {
          "output_type": "stream",
          "name": "stdout",
          "text": [
            "Successful response\n"
          ]
        }
      ]
    },
    {
      "cell_type": "code",
      "source": [],
      "metadata": {
        "id": "BD3USSSAprci"
      },
      "execution_count": null,
      "outputs": []
    },
    {
      "cell_type": "code",
      "source": [
        "response.text"
      ],
      "metadata": {
        "colab": {
          "base_uri": "https://localhost:8080/",
          "height": 253
        },
        "id": "bZGGICxQojpa",
        "outputId": "7b52e9a5-51ac-45f7-9795-454f4075704d"
      },
      "execution_count": null,
      "outputs": [
        {
          "output_type": "execute_result",
          "data": {
            "text/plain": [
              "'<!doctype html><html itemscope=\"\" itemtype=\"http://schema.org/WebPage\" lang=\"en\"><head><meta content=\"Search the world\\'s information, including webpages, images, videos and more. Google has many special features to help you find exactly what you\\'re looking for.\" name=\"description\"><meta content=\"noodp\" name=\"robots\"><meta content=\"text/html; charset=UTF-8\" http-equiv=\"Content-Type\"><meta content=\"/images/branding/googleg/1x/googleg_standard_color_128dp.png\" itemprop=\"image\"><title>Google</title><script nonce=\"DLmrd8TkqQu4mVWn5kidQA\">(function(){var _g={kEI:\\'agbFZdeUA-TBkPIP59SQCA\\',kEXPI:\\'0,1365467,207,4804,1132070,1827,136,868574,327165,699,341,379749,44798,23792,12316,2818,14765,4998,17075,38444,2872,2891,3926,213,7615,606,67087,8927,781,1244,1,16916,2652,4,59617,2980,24058,6636,7596,1,42154,2,16395,342,23024,6700,31121,4568,6256,24673,30152,2912,2,2,1,24626,2006,8155,23351,22435,9779,38678,3781,20199,6049,30697,3801,2412,29228,991,2266,764,11151,4665,356,1448,7734,6626,1,6650,4821,7794,13456,1632,8842,47520,5209124,303,712,2,1390,81,361,201,124,5992808,2806666,31869,8,2,1,1,1,3,1,1,2,80,9,7443482,13275883,5992914,1271212,1008,15664,43887,3,1603,3,262,3,234,3,2121276,2585,22636438,392913,8163,4636,8408,8028,872,7766,13022,4428,352,1925,8299,5878,14606,2852,7647,2,5885,6573,2640,2,789,507,2370,6197,210,2765,1345,5663,744,7,84,3238,884,194,11874,1359,424,429,149,5210,1,6,2313,502,390,490,3256,3781,218,3,2626,2480,4496,5,1169,2,2142,6058,100,466,1256,150,24,2221,462,880,1129,1,1531,193,2722,1376,3,1776,673,4,3201,112,533,133,100,1199,22,1223,542,282,1727,214,2979,1,215,4,1202,2,2528,507,420,2,6,1,175,2,4,96,4488,1053,4,2216,1368,1503,656,299,12,410,840,3,216,323,72,382,37,866,2086,783,6,191,234,291,35,1,3,88,28,1,1,1,109,1363,255,2,331,1,3,417,235,186,1088,378,74,378,496,2,2,2,935,3,324,231,3,651,50,22,35,364,446,1539,75,55,690,4,4,13,273,300,3,1,85,2,492,105,192,288,988,843,232,480,366,431,137,92,364,363,1,185,1672,1,65,1129,25,1,1268,816,582,21280022,421028,7564,531,429,968,810\\',kBL:\\'Q3p-\\',kOPI:89978449};(function(){var a;(null==(a=window.google)?0:a.stvsc)?google.kEI=_g.kEI:window.google=_g;}).call(this);})();(function(){google.sn=\\'webhp\\';google.kHL=\\'en\\';})();(function(){\\nvar h=this||self;function l(){return void 0!==window.google&&void 0!==window.google.kOPI&&0!==window.google.kOPI?window.google.kOPI:null};var m,n=[];function p(a){for(var b;a&&(!a.getAttribute||!(b=a.getAttribute(\"eid\")));)a=a.parentNode;return b||m}function q(a){for(var b=null;a&&(!a.getAttribute||!(b=a.getAttribute(\"leid\")));)a=a.parentNode;return b}function r(a){/^http:/i.test(a)&&\"https:\"===window.location.protocol&&(google.ml&&google.ml(Error(\"a\"),!1,{src:a,glmm:1}),a=\"\");return a}\\nfunction t(a,b,c,d,k){var e=\"\";-1===b.search(\"&ei=\")&&(e=\"&ei=\"+p(d),-1===b.search(\"&lei=\")&&(d=q(d))&&(e+=\"&lei=\"+d));d=\"\";var g=-1===b.search(\"&cshid=\")&&\"slh\"!==a,f=[];f.push([\"zx\",Date.now().toString()]);h._cshid&&g&&f.push([\"cshid\",h._cshid]);c=c();null!=c&&f.push([\"opi\",c.toString()]);for(c=0;c<f.length;c++){if(0===c||0<c)d+=\"&\";d+=f[c][0]+\"=\"+f[c][1]}return\"/\"+(k||\"gen_204\")+\"?atyp=i&ct=\"+String(a)+\"&cad=\"+(b+e+d)};m=google.kEI;google.getEI=p;google.getLEI=q;google.ml=function(){return null};google.log=function(a,b,c,d,k,e){e=void 0===e?l:e;c||(c=t(a,b,e,d,k));if(c=r(c)){a=new Image;var g=n.length;n[g]=a;a.onerror=a.onload=a.onabort=function(){delete n[g]};a.src=c}};google.logUrl=function(a,b){b=void 0===b?l:b;return t(\"\",a,b)};}).call(this);(function(){google.y={};google.sy=[];google.x=function(a,b){if(a)var c=a.id;else{do c=Math.random();while(google.y[c])}google.y[c]=[a,b];return!1};google.sx=function(a){google.sy.push(a)};google.lm=[];google.plm=function(a){google.lm.push.apply(google.lm,a)};google.lq=[];google.load=function(a,b,c){google.lq.push([[a],b,c])};google.loadAll=function(a,b){google.lq.push([a,b])};google.bx=!1;google.lx=function(){};var d=[];google.fce=function(a,b,c,e){d.push([a,b,c,e])};google.qce=d;}).call(this);google.f={};(function(){\\ndocument.documentElement.addEventListener(\"submit\",function(b){var a;if(a=b.target){var c=a.getAttribute(\"data-submitfalse\");a=\"1\"===c||\"q\"===c&&!a.elements.q.value?!0:!1}else a=!1;a&&(b.preventDefault(),b.stopPropagation())},!0);document.documentElement.addEventListener(\"click\",function(b){var a;a:{for(a=b.target;a&&a!==document.documentElement;a=a.parentElement)if(\"A\"===a.tagName){a=\"1\"===a.getAttribute(\"data-nohref\");break a}a=!1}a&&b.preventDefault()},!0);}).call(this);</script><style>#gbar,#guser{font-size:13px;padding-top:1px !important;}#gbar{height:22px}#guser{padding-bottom:7px !important;text-align:right}.gbh,.gbd{border-top:1px solid #c9d7f1;font-size:1px}.gbh{height:0;position:absolute;top:24px;width:100%}@media all{.gb1{height:22px;margin-right:.5em;vertical-align:top}#gbar{float:left}}a.gb1,a.gb4{text-decoration:underline !important}a.gb1,a.gb4{color:#00c !important}.gbi .gb4{color:#dd8e27 !important}.gbf .gb4{color:#900 !important}\\n</style><style>body,td,a,p,.h{font-family:arial,sans-serif}body{margin:0;overflow-y:scroll}#gog{padding:3px 8px 0}td{line-height:.8em}.gac_m td{line-height:17px}form{margin-bottom:20px}.h{color:#1967d2}em{font-weight:bold;font-style:normal}.lst{height:25px;width:496px}.gsfi,.lst{font:18px arial,sans-serif}.gsfs{font:17px arial,sans-serif}.ds{display:inline-box;display:inline-block;margin:3px 0 4px;margin-left:4px}input{font-family:inherit}body{background:#fff;color:#000}a{color:#681da8;text-decoration:none}a:hover,a:active{text-decoration:underline}.fl a{color:#1967d2}a:visited{color:#681da8}.sblc{padding-top:5px}.sblc a{display:block;margin:2px 0;margin-left:13px;font-size:11px}.lsbb{background:#f8f9fa;border:solid 1px;border-color:#dadce0 #70757a #70757a #dadce0;height:30px}.lsbb{display:block}#WqQANb a{display:inline-block;margin:0 12px}.lsb{background:url(/images/nav_logo229.png) 0 -261px repeat-x;color:#000;border:none;cursor:pointer;height:30px;margin:0;outline:0;font:15px arial,sans-serif;vertical-align:top}.lsb:active{background:#dadce0}.lst:focus{outline:none}</style><script nonce=\"DLmrd8TkqQu4mVWn5kidQA\">(function(){window.google.erd={jsr:1,bv:1951,de:true};\\nvar h=this||self;var k,l=null!=(k=h.mei)?k:1,n,p=null!=(n=h.sdo)?n:!0,q=0,r,t=google.erd,v=t.jsr;google.ml=function(a,b,d,m,e){e=void 0===e?2:e;b&&(r=a&&a.message);void 0===d&&(d={});d.cad=\"ple_\"+google.ple+\".aple_\"+google.aple;if(google.dl)return google.dl(a,e,d),null;b=d;if(0>v){window.console&&console.error(a,b);if(-2===v)throw a;b=!1}else b=!a||!a.message||\"Error loading script\"===a.message||q>=l&&!m?!1:!0;if(!b)return null;q++;d=d||{};b=encodeURIComponent;var c=\"/gen_204?atyp=i&ei=\"+b(google.kEI);google.kEXPI&&(c+=\"&jexpid=\"+b(google.kEXPI));c+=\"&srcpg=\"+b(google.sn)+\"&jsr=\"+b(t.jsr)+\"&bver=\"+\\nb(t.bv);var f=a.lineNumber;void 0!==f&&(c+=\"&line=\"+f);var g=a.fileName;g&&(0<g.indexOf(\"-extension:/\")&&(e=3),c+=\"&script=\"+b(g),f&&g===window.location.href&&(f=document.documentElement.outerHTML.split(\"\\\\n\")[f],c+=\"&cad=\"+b(f?f.substring(0,300):\"No script found.\")));google.ple&&1===google.ple&&(e=2);c+=\"&jsel=\"+e;for(var u in d)c+=\"&\",c+=b(u),c+=\"=\",c+=b(d[u]);c=c+\"&emsg=\"+b(a.name+\": \"+a.message);c=c+\"&jsst=\"+b(a.stack||\"N/A\");12288<=c.length&&(c=c.substr(0,12288));a=c;m||google.log(0,\"\",a);return a};window.onerror=function(a,b,d,m,e){r!==a&&(a=e instanceof Error?e:Error(a),void 0===d||\"lineNumber\"in a||(a.lineNumber=d),void 0===b||\"fileName\"in a||(a.fileName=b),google.ml(a,!1,void 0,!1,\"SyntaxError\"===a.name||\"SyntaxError\"===a.message.substring(0,11)||-1!==a.message.indexOf(\"Script error\")?3:0));r=null;p&&q>=l&&(window.onerror=null)};})();</script></head><body bgcolor=\"#fff\"><script nonce=\"DLmrd8TkqQu4mVWn5kidQA\">(function(){var src=\\'/images/nav_logo229.png\\';var iesg=false;document.body.onload = function(){window.n && window.n();if (document.images){new Image().src=src;}\\nif (!iesg){document.f&&document.f.q.focus();document.gbqf&&document.gbqf.q.focus();}\\n}\\n})();</script><div id=\"mngb\"><div id=gbar><nobr><b class=gb1>Search</b> <a class=gb1 href=\"https://www.google.com/imghp?hl=en&tab=wi\">Images</a> <a class=gb1 href=\"https://maps.google.com/maps?hl=en&tab=wl\">Maps</a> <a class=gb1 href=\"https://play.google.com/?hl=en&tab=w8\">Play</a> <a class=gb1 href=\"https://www.youtube.com/?tab=w1\">YouTube</a> <a class=gb1 href=\"https://news.google.com/?tab=wn\">News</a> <a class=gb1 href=\"https://mail.google.com/mail/?tab=wm\">Gmail</a> <a class=gb1 href=\"https://drive.google.com/?tab=wo\">Drive</a> <a class=gb1 style=\"text-decoration:none\" href=\"https://www.google.com/intl/en/about/products?tab=wh\"><u>More</u> &raquo;</a></nobr></div><div id=guser width=100%><nobr><span id=gbn class=gbi></span><span id=gbf class=gbf></span><span id=gbe></span><a href=\"http://www.google.com/history/optout?hl=en\" class=gb4>Web History</a> | <a  href=\"/preferences?hl=en\" class=gb4>Settings</a> | <a target=_top id=gb_70 href=\"https://accounts.google.com/ServiceLogin?hl=en&passive=true&continue=https://www.google.com/&ec=GAZAAQ\" class=gb4>Sign in</a></nobr></div><div class=gbh style=left:0></div><div class=gbh style=right:0></div></div><center><br clear=\"all\" id=\"lgpd\"><div id=\"lga\"><img alt=\"Google\" height=\"92\" src=\"/images/branding/googlelogo/1x/googlelogo_white_background_color_272x92dp.png\" style=\"padding:28px 0 14px\" width=\"272\" id=\"hplogo\"><br><br></div><form action=\"/search\" name=\"f\"><table cellpadding=\"0\" cellspacing=\"0\"><tr valign=\"top\"><td width=\"25%\">&nbsp;</td><td align=\"center\" nowrap=\"\"><input name=\"ie\" value=\"ISO-8859-1\" type=\"hidden\"><input value=\"en\" name=\"hl\" type=\"hidden\"><input name=\"source\" type=\"hidden\" value=\"hp\"><input name=\"biw\" type=\"hidden\"><input name=\"bih\" type=\"hidden\"><div class=\"ds\" style=\"height:32px;margin:4px 0\"><input class=\"lst\" style=\"margin:0;padding:5px 8px 0 6px;vertical-align:top;color:#000\" autocomplete=\"off\" value=\"\" title=\"Google Search\" maxlength=\"2048\" name=\"q\" size=\"57\"></div><br style=\"line-height:0\"><span class=\"ds\"><span class=\"lsbb\"><input class=\"lsb\" value=\"Google Search\" name=\"btnG\" type=\"submit\"></span></span><span class=\"ds\"><span class=\"lsbb\"><input class=\"lsb\" id=\"tsuid_1\" value=\"I\\'m Feeling Lucky\" name=\"btnI\" type=\"submit\"><script nonce=\"DLmrd8TkqQu4mVWn5kidQA\">(function(){var id=\\'tsuid_1\\';document.getElementById(id).onclick = function(){if (this.form.q.value){this.checked = 1;if (this.form.iflsig)this.form.iflsig.disabled = false;}\\nelse top.location=\\'/doodles/\\';};})();</script><input value=\"ANes7DEAAAAAZcUUehYm35ESFqsqJiZ2nkwDuKDAitGq\" name=\"iflsig\" type=\"hidden\"></span></span></td><td class=\"fl sblc\" align=\"left\" nowrap=\"\" width=\"25%\"><a href=\"/advanced_search?hl=en&amp;authuser=0\">Advanced search</a></td></tr></table><input id=\"gbv\" name=\"gbv\" type=\"hidden\" value=\"1\"><script nonce=\"DLmrd8TkqQu4mVWn5kidQA\">(function(){var a,b=\"1\";if(document&&document.getElementById)if(\"undefined\"!=typeof XMLHttpRequest)b=\"2\";else if(\"undefined\"!=typeof ActiveXObject){var c,d,e=[\"MSXML2.XMLHTTP.6.0\",\"MSXML2.XMLHTTP.3.0\",\"MSXML2.XMLHTTP\",\"Microsoft.XMLHTTP\"];for(c=0;d=e[c++];)try{new ActiveXObject(d),b=\"2\"}catch(h){}}a=b;if(\"2\"==a&&-1==location.search.indexOf(\"&gbv=2\")){var f=google.gbvu,g=document.getElementById(\"gbv\");g&&(g.value=a);f&&window.setTimeout(function(){location.href=f},0)};}).call(this);</script></form><div id=\"gac_scont\"></div><div style=\"font-size:83%;min-height:3.5em\"><br></div><span id=\"footer\"><div style=\"font-size:10pt\"><div style=\"margin:19px auto;text-align:center\" id=\"WqQANb\"><a href=\"/intl/en/ads/\">Advertising</a><a href=\"/services/\">Business Solutions</a><a href=\"/intl/en/about.html\">About Google</a></div></div><p style=\"font-size:8pt;color:#70757a\">&copy; 2024 - <a href=\"/intl/en/policies/privacy/\">Privacy</a> - <a href=\"/intl/en/policies/terms/\">Terms</a></p></span></center><script nonce=\"DLmrd8TkqQu4mVWn5kidQA\">(function(){window.google.cdo={height:757,width:1440};(function(){var a=window.innerWidth,b=window.innerHeight;if(!a||!b){var c=window.document,d=\"CSS1Compat\"==c.compatMode?c.documentElement:c.body;a=d.clientWidth;b=d.clientHeight}\\nif(a&&b&&(a!=google.cdo.width||b!=google.cdo.height)){var e=google,f=e.log,g=\"/client_204?&atyp=i&biw=\"+a+\"&bih=\"+b+\"&ei=\"+google.kEI,h=\"\",k=[],l=void 0!==window.google&&void 0!==window.google.kOPI&&0!==window.google.kOPI?window.google.kOPI:null;null!=l&&k.push([\"opi\",l.toString()]);for(var m=0;m<k.length;m++){if(0===m||0<m)h+=\"&\";h+=k[m][0]+\"=\"+k[m][1]}f.call(e,\"\",\"\",g+h)};}).call(this);})();</script> <script nonce=\"DLmrd8TkqQu4mVWn5kidQA\">(function(){google.xjs={ck:\\'xjs.hp.lRye2YmQI7k.L.X.O\\',combam:\\'AAAAAAAAAAAAAAAAAAAAAAAAAAACAAAAAAA4AACAAAgAAADAAAAAAAAAAAgADqIjABiAIwAAvA\\',cs:\\'ACT90oGm7qmrtPdTIp-VpcGVGtzsIoSCcA\\',cssam:\\'AAAAAAAAAAAAAAAAAAAAAAAAAAAAAAAAAAAAAACAAAgAAAAAAAAAAAAAAAg\\',cssopt:false,csss:\\'ACT90oHkhLz8gH6KnOAdTq8VJsyQ1M6nAQ\\',excm:[],sepam:false,sepcss:false};})();</script>     <script nonce=\"DLmrd8TkqQu4mVWn5kidQA\">(function(){var u=\\'/xjs/_/js/k\\\\x3dxjs.hp.en.JcAH5GHJlTQ.O/am\\\\x3dAAAAAAAAAAAAAAAAAAAAAAAAAAACAAAAAAA4AACAAAgAAADAAAAAAAAAAAgADqIjABiAIwAAvA/d\\\\x3d1/ed\\\\x3d1/rs\\\\x3dACT90oHXsP8WbNVofk_NHppZJ-oFCsLerA/m\\\\x3dsb_he,d\\';var amd=0;\\nvar e=this||self,f=function(a){return a};var g;var h=function(a){this.g=a};h.prototype.toString=function(){return this.g+\"\"};var k={};var l=function(){var a=document;var b=\"SCRIPT\";\"application/xhtml+xml\"===a.contentType&&(b=b.toLowerCase());return a.createElement(b)};\\nfunction m(a,b){a.src=b instanceof h&&b.constructor===h?b.g:\"type_error:TrustedResourceUrl\";var c,d;(c=(b=null==(d=(c=(a.ownerDocument&&a.ownerDocument.defaultView||window).document).querySelector)?void 0:d.call(c,\"script[nonce]\"))?b.nonce||b.getAttribute(\"nonce\")||\"\":\"\")&&a.setAttribute(\"nonce\",c)};function n(a){a=null===a?\"null\":void 0===a?\"undefined\":a;if(void 0===g){var b=null;var c=e.trustedTypes;if(c&&c.createPolicy){try{b=c.createPolicy(\"goog#html\",{createHTML:f,createScript:f,createScriptURL:f})}catch(d){e.console&&e.console.error(d.message)}g=b}else g=b}a=(b=g)?b.createScriptURL(a):a;return new h(a,k)};void 0===google.ps&&(google.ps=[]);function p(){var a=u,b=function(){};google.lx=google.stvsc?b:function(){q(a);google.lx=b};google.bx||google.lx()}function r(a,b){b&&m(a,n(b));var c=a.onload;a.onload=function(d){c&&c(d);google.ps=google.ps.filter(function(t){return a!==t})};google.ps.push(a);document.body.appendChild(a)}google.as=r;function q(a){google.timers&&google.timers.load&&google.tick&&google.tick(\"load\",\"xjsls\");var b=l();b.onerror=function(){google.ple=1};b.onload=function(){google.ple=0};google.xjsus=void 0;r(b,a);google.aple=-1;google.psa=!0};google.xjsu=u;e._F_jsUrl=u;setTimeout(function(){0<amd?google.caft(function(){return p()},amd):p()},0);})();window._ = window._ || {};window._DumpException = _._DumpException = function(e){throw e;};window._s = window._s || {};_s._DumpException = _._DumpException;window._qs = window._qs || {};_qs._DumpException = _._DumpException;(function(){var t=[1,0,0,0,0,2560,0,536872974,264192,33751040,8388608,131072,2335246,9314400,770048];window._F_toggles = window._xjs_toggles = t;})();function _F_installCss(c){}\\n(function(){google.jl={bfl:0,blt:\\'none\\',chnk:0,dw:false,dwu:true,emtn:0,end:0,ico:false,ikb:0,ine:false,injs:\\'none\\',injt:0,injth:0,injv2:false,lls:\\'default\\',pdt:0,rep:0,snet:true,strt:0,ubm:false,uwp:true};})();(function(){var pmc=\\'{\\\\x22d\\\\x22:{},\\\\x22sb_he\\\\x22:{\\\\x22agen\\\\x22:false,\\\\x22cgen\\\\x22:false,\\\\x22client\\\\x22:\\\\x22heirloom-hp\\\\x22,\\\\x22dh\\\\x22:true,\\\\x22ds\\\\x22:\\\\x22\\\\x22,\\\\x22fl\\\\x22:true,\\\\x22host\\\\x22:\\\\x22google.com\\\\x22,\\\\x22jsonp\\\\x22:true,\\\\x22msgs\\\\x22:{\\\\x22cibl\\\\x22:\\\\x22Clear Search\\\\x22,\\\\x22dym\\\\x22:\\\\x22Did you mean:\\\\x22,\\\\x22lcky\\\\x22:\\\\x22I\\\\\\\\u0026#39;m Feeling Lucky\\\\x22,\\\\x22lml\\\\x22:\\\\x22Learn more\\\\x22,\\\\x22psrc\\\\x22:\\\\x22This search was removed from your \\\\\\\\u003Ca href\\\\x3d\\\\\\\\\\\\x22/history\\\\\\\\\\\\x22\\\\\\\\u003EWeb History\\\\\\\\u003C/a\\\\\\\\u003E\\\\x22,\\\\x22psrl\\\\x22:\\\\x22Remove\\\\x22,\\\\x22sbit\\\\x22:\\\\x22Search by image\\\\x22,\\\\x22srch\\\\x22:\\\\x22Google Search\\\\x22},\\\\x22ovr\\\\x22:{},\\\\x22pq\\\\x22:\\\\x22\\\\x22,\\\\x22rfs\\\\x22:[],\\\\x22sbas\\\\x22:\\\\x220 3px 8px 0 rgba(0,0,0,0.2),0 0 0 1px rgba(0,0,0,0.08)\\\\x22,\\\\x22stok\\\\x22:\\\\x221QYYGXLzvO4dpIonF719ethEkvA\\\\x22}}\\';google.pmc=JSON.parse(pmc);})();(function(){var b=function(a){var c=0;return function(){return c<a.length?{done:!1,value:a[c++]}:{done:!0}}};\\nvar e=this||self;var g,h;a:{for(var k=[\"CLOSURE_FLAGS\"],l=e,n=0;n<k.length;n++)if(l=l[k[n]],null==l){h=null;break a}h=l}var p=h&&h[610401301];g=null!=p?p:!1;var q,r=e.navigator;q=r?r.userAgentData||null:null;function t(a){return g?q?q.brands.some(function(c){return(c=c.brand)&&-1!=c.indexOf(a)}):!1:!1}function u(a){var c;a:{if(c=e.navigator)if(c=c.userAgent)break a;c=\"\"}return-1!=c.indexOf(a)};function v(){return g?!!q&&0<q.brands.length:!1}function w(){return u(\"Safari\")&&!(x()||(v()?0:u(\"Coast\"))||(v()?0:u(\"Opera\"))||(v()?0:u(\"Edge\"))||(v()?t(\"Microsoft Edge\"):u(\"Edg/\"))||(v()?t(\"Opera\"):u(\"OPR\"))||u(\"Firefox\")||u(\"FxiOS\")||u(\"Silk\")||u(\"Android\"))}function x(){return v()?t(\"Chromium\"):(u(\"Chrome\")||u(\"CriOS\"))&&!(v()?0:u(\"Edge\"))||u(\"Silk\")}function y(){return u(\"Android\")&&!(x()||u(\"Firefox\")||u(\"FxiOS\")||(v()?0:u(\"Opera\"))||u(\"Silk\"))};var z=v()?!1:u(\"Trident\")||u(\"MSIE\");y();x();w();Object.freeze(new function(){});Object.freeze(new function(){});var A=!z&&!w(),D=function(a){if(/-[a-z]/.test(\"ved\"))return null;if(A&&a.dataset){if(y()&&!(\"ved\"in a.dataset))return null;a=a.dataset.ved;return void 0===a?null:a}return a.getAttribute(\"data-\"+\"ved\".replace(/([A-Z])/g,\"-$1\").toLowerCase())};var E=[],F=null;function G(a){a=a.target;var c=performance.now(),f=[],H=f.concat,d=E;if(!(d instanceof Array)){var m=\"undefined\"!=typeof Symbol&&Symbol.iterator&&d[Symbol.iterator];if(m)d=m.call(d);else if(\"number\"==typeof d.length)d={next:b(d)};else throw Error(\"a`\"+String(d));for(var B=[];!(m=d.next()).done;)B.push(m.value);d=B}E=H.call(f,d,[c]);if(a&&a instanceof HTMLElement)if(a===F){if(c=4<=E.length)c=5>(E[E.length-1]-E[E.length-4])/1E3;if(c){c=google.getEI(a);a.hasAttribute(\"data-ved\")?f=a?D(a)||\"\":\"\":f=(f=\\na.closest(\"[data-ved]\"))?D(f)||\"\":\"\";f=f||\"\";if(a.hasAttribute(\"jsname\"))a=a.getAttribute(\"jsname\");else{var C;a=null==(C=a.closest(\"[jsname]\"))?void 0:C.getAttribute(\"jsname\")}google.log(\"rcm\",\"&ei=\"+c+\"&ved=\"+f+\"&jsname=\"+(a||\"\"))}}else F=a,E=[c]}window.document.addEventListener(\"DOMContentLoaded\",function(){document.body.addEventListener(\"click\",G)});}).call(this);</script></body></html>'"
            ],
            "application/vnd.google.colaboratory.intrinsic+json": {
              "type": "string"
            }
          },
          "metadata": {},
          "execution_count": 9
        }
      ]
    },
    {
      "cell_type": "markdown",
      "source": [
        "https://www.whatismybrowser.com/detect/what-http-headers-is-my-browser-sending"
      ],
      "metadata": {
        "id": "PWhuhRduxG-S"
      }
    },
    {
      "cell_type": "code",
      "source": [
        "header = {'User-Agent': 'Mozilla/5.0 (Windows NT 10.0; Win64; x64) AppleWebKit/537.36 (KHTML, like Gecko) Chrome/115.0.0.0 Safari/537.36',\n",
        "          'Accept': 'text/html,application/xhtml+xml,application/xml;q=0.9,image/avif,image/webp,image/apng,*/*;q=0.8,application/signed-exchange;v=b3;q=0.7'\n",
        "}"
      ],
      "metadata": {
        "id": "uGuiKA80t57w"
      },
      "execution_count": null,
      "outputs": []
    },
    {
      "cell_type": "code",
      "source": [
        "url = 'https://www.heb.com/'\n",
        "# Making a GET request to a website\n",
        "response  = requests.get(url, headers = header)\n",
        "response"
      ],
      "metadata": {
        "colab": {
          "base_uri": "https://localhost:8080/"
        },
        "id": "kMZbeb13std1",
        "outputId": "4a29c728-ffb8-4c3a-c58a-f36e52931cab"
      },
      "execution_count": null,
      "outputs": [
        {
          "output_type": "execute_result",
          "data": {
            "text/plain": [
              "<Response [200]>"
            ]
          },
          "metadata": {},
          "execution_count": 31
        }
      ]
    },
    {
      "cell_type": "markdown",
      "source": [
        "### convert this respose into soup using beautifulsoup module"
      ],
      "metadata": {
        "id": "m84oHvbIwc0o"
      }
    },
    {
      "cell_type": "code",
      "source": [
        "from bs4 import BeautifulSoup"
      ],
      "metadata": {
        "id": "8SyZcMVpv8ew"
      },
      "execution_count": null,
      "outputs": []
    },
    {
      "cell_type": "code",
      "source": [
        "soup = BeautifulSoup(response.content)\n",
        "soup"
      ],
      "metadata": {
        "colab": {
          "base_uri": "https://localhost:8080/"
        },
        "id": "hv5VpVaRyDGE",
        "outputId": "ae52df25-ef0f-49ad-8f45-89ce69e48587"
      },
      "execution_count": null,
      "outputs": [
        {
          "output_type": "execute_result",
          "data": {
            "text/plain": [
              "<html style=\"height:100%\"><head><meta content=\"NOINDEX, NOFOLLOW\" name=\"ROBOTS\"/><meta content=\"telephone=no\" name=\"format-detection\"/><meta content=\"initial-scale=1.0\" name=\"viewport\"/><meta content=\"IE=edge,chrome=1\" http-equiv=\"X-UA-Compatible\"/><script async=\"\" src=\"/u-How-Aleppose-Yet-this-gone-Bear-Bound-say-Hayl\"></script></head><body style=\"margin:0px;height:100%\"><iframe frameborder=\"0\" height=\"100%\" id=\"main-iframe\" marginheight=\"0px\" marginwidth=\"0px\" src=\"/_Incapsula_Resource?SWUDNSAI=31&amp;xinfo=11-19270781-0%200NNN%20RT%281707412952325%2040%29%20q%280%20-1%20-1%20-1%29%20r%280%20-1%29%20B12%284%2c316%2c0%29%20U5&amp;incident_id=1248001260056860368-102228304855048075&amp;edet=12&amp;cinfo=04000000&amp;rpinfo=0&amp;cts=Abe2UVpE8YyFbanSVzMdoY7DK4DO%2fp1PHZBvD2K1HRyOMVSmYrEyHd5N3jAINQKf&amp;mth=GET\" width=\"100%\">Request unsuccessful. Incapsula incident ID: 1248001260056860368-102228304855048075</iframe></body></html>"
            ]
          },
          "metadata": {},
          "execution_count": 38
        }
      ]
    },
    {
      "cell_type": "code",
      "source": [
        "#save it in a file\n",
        "file_name = 'heb.html'\n",
        "mode = 'w'\n",
        "with open(file_name,mode) as file:\n",
        "  file.write(str(soup))"
      ],
      "metadata": {
        "id": "ppOZ6GwRymGd"
      },
      "execution_count": null,
      "outputs": []
    },
    {
      "cell_type": "code",
      "source": [
        "file_name = 'heb.html'\n",
        "mode = 'r'\n",
        "with open(file_name,mode) as file:\n",
        "  soup2 = file.read()"
      ],
      "metadata": {
        "id": "D7T9D_5I0M9w"
      },
      "execution_count": null,
      "outputs": []
    },
    {
      "cell_type": "code",
      "source": [
        "soup2"
      ],
      "metadata": {
        "id": "T6mw3Dt30d_e",
        "outputId": "245bee17-3587-4e0b-9626-3068942f7627",
        "colab": {
          "base_uri": "https://localhost:8080/",
          "height": 235
        }
      },
      "execution_count": null,
      "outputs": [
        {
          "output_type": "execute_result",
          "data": {
            "text/plain": [
              "'<html style=\"height:100%\"><head><meta content=\"NOINDEX, NOFOLLOW\" name=\"ROBOTS\"/><meta content=\"telephone=no\" name=\"format-detection\"/><meta content=\"initial-scale=1.0\" name=\"viewport\"/><meta content=\"IE=edge,chrome=1\" http-equiv=\"X-UA-Compatible\"/><script async=\"\" src=\"/u-How-Aleppose-Yet-this-gone-Bear-Bound-say-Hayl\"></script></head><body style=\"margin:0px;height:100%\"><iframe frameborder=\"0\" height=\"100%\" id=\"main-iframe\" marginheight=\"0px\" marginwidth=\"0px\" src=\"/_Incapsula_Resource?SWUDNSAI=31&amp;xinfo=11-19270781-0%200NNN%20RT%281707412952325%2040%29%20q%280%20-1%20-1%20-1%29%20r%280%20-1%29%20B12%284%2c316%2c0%29%20U5&amp;incident_id=1248001260056860368-102228304855048075&amp;edet=12&amp;cinfo=04000000&amp;rpinfo=0&amp;cts=Abe2UVpE8YyFbanSVzMdoY7DK4DO%2fp1PHZBvD2K1HRyOMVSmYrEyHd5N3jAINQKf&amp;mth=GET\" width=\"100%\">Request unsuccessful. Incapsula incident ID: 1248001260056860368-102228304855048075</iframe></body></html>'"
            ],
            "application/vnd.google.colaboratory.intrinsic+json": {
              "type": "string"
            }
          },
          "metadata": {},
          "execution_count": 43
        }
      ]
    },
    {
      "cell_type": "code",
      "source": [
        "type(soup)"
      ],
      "metadata": {
        "colab": {
          "base_uri": "https://localhost:8080/"
        },
        "id": "WVWuogbsyjDF",
        "outputId": "a8217330-53d3-4942-d5d2-13918a0f15f3"
      },
      "execution_count": null,
      "outputs": [
        {
          "output_type": "execute_result",
          "data": {
            "text/plain": [
              "bs4.BeautifulSoup"
            ]
          },
          "metadata": {},
          "execution_count": 39
        }
      ]
    },
    {
      "cell_type": "markdown",
      "source": [
        "## creating promotional fyler\n",
        "- matplotlib module"
      ],
      "metadata": {
        "id": "9nYHjkAXlMVm"
      }
    },
    {
      "cell_type": "markdown",
      "source": [
        "## Creating customer invoice\n",
        "- matplotlib module\n",
        "- or other pdf generation module?"
      ],
      "metadata": {
        "id": "CVm9u6h0lT7Q"
      }
    },
    {
      "cell_type": "markdown",
      "source": [],
      "metadata": {
        "id": "lnvDHtB5BpSd"
      }
    },
    {
      "cell_type": "markdown",
      "source": [
        "# Homework 1\n",
        "- Automated email sending with different options, due, next Tuesday"
      ],
      "metadata": {
        "id": "VoUNw3zel3xC"
      }
    },
    {
      "cell_type": "code",
      "source": [],
      "metadata": {
        "colab": {
          "base_uri": "https://localhost:8080/"
        },
        "id": "HOKfx00der8I",
        "outputId": "eda084a9-226f-42e1-f612-e3705838f278"
      },
      "execution_count": null,
      "outputs": [
        {
          "output_type": "stream",
          "name": "stdout",
          "text": [
            "\u001b[0m\u001b[01;34msample_data\u001b[0m/\n"
          ]
        }
      ]
    },
    {
      "cell_type": "code",
      "source": [],
      "metadata": {
        "id": "kBDa1DPdessq"
      },
      "execution_count": null,
      "outputs": []
    },
    {
      "cell_type": "code",
      "source": [
        "# how to connect google drive in python\n",
        "from google.colab import drive\n",
        "drive.mount('/content/drive')"
      ],
      "metadata": {
        "colab": {
          "base_uri": "https://localhost:8080/"
        },
        "id": "bCNeB3KGYC5X",
        "outputId": "dae52c4d-418c-477b-addd-438251f1022c"
      },
      "execution_count": null,
      "outputs": [
        {
          "output_type": "stream",
          "name": "stdout",
          "text": [
            "Drive already mounted at /content/drive; to attempt to forcibly remount, call drive.mount(\"/content/drive\", force_remount=True).\n"
          ]
        }
      ]
    },
    {
      "cell_type": "markdown",
      "source": [
        "# Project 2: Exploratory Data Analysis"
      ],
      "metadata": {
        "id": "6COSwnPSaeRu"
      }
    },
    {
      "cell_type": "markdown",
      "source": [
        "# Final Project: Machine Learning"
      ],
      "metadata": {
        "id": "22a3MSWUan3y"
      }
    },
    {
      "cell_type": "markdown",
      "source": [
        "## Request modulde"
      ],
      "metadata": {
        "id": "FrezbYtza-dt"
      }
    },
    {
      "cell_type": "code",
      "source": [
        "import requests"
      ],
      "metadata": {
        "id": "wtDCH_zGbFR0"
      },
      "execution_count": null,
      "outputs": []
    },
    {
      "cell_type": "code",
      "source": [
        "import requests\n",
        "from bs4 import BeautifulSoup\n",
        "\n",
        "# URL of the page you want to scrape\n",
        "url = 'https://www.alamofarmstx.com/shop/chicken/'\n",
        "\n",
        "# Send a GET request to the webpage\n",
        "response = requests.get(url)\n",
        "\n",
        "# Parse the HTML content of the page\n",
        "soup = BeautifulSoup(response.text, 'html.parser')"
      ],
      "metadata": {
        "id": "rVQM6ceGb-df"
      },
      "execution_count": null,
      "outputs": []
    },
    {
      "cell_type": "code",
      "source": [
        "soup"
      ],
      "metadata": {
        "colab": {
          "base_uri": "https://localhost:8080/"
        },
        "id": "UVD3irWjcAgI",
        "outputId": "ce7d861b-da0e-44c5-9924-413d35f003e7"
      },
      "execution_count": null,
      "outputs": [
        {
          "output_type": "execute_result",
          "data": {
            "text/plain": [
              "<!DOCTYPE html>\n",
              "\n",
              "<html lang=\"en\">\n",
              "<head>\n",
              "<meta charset=\"utf-8\"/>\n",
              "<meta content=\"width=device-width, initial-scale=1, maximum-scale=1\" name=\"viewport\"/>\n",
              "<link href=\"http://gmpg.org/xfn/11\" rel=\"profile\"/>\n",
              "<link href=\"https://www.alamofarmstx.com/xmlrpc.php\" rel=\"pingback\"/>\n",
              "<title>Chicken – Alamo Farms</title>\n",
              "<meta content=\"max-image-preview:large\" name=\"robots\"/>\n",
              "<script>window._wca = window._wca || [];</script>\n",
              "<link href=\"//stats.wp.com\" rel=\"dns-prefetch\"/>\n",
              "<link href=\"//i0.wp.com\" rel=\"dns-prefetch\"/>\n",
              "<link href=\"//c0.wp.com\" rel=\"dns-prefetch\"/>\n",
              "<link href=\"https://www.alamofarmstx.com/feed/\" rel=\"alternate\" title=\"Alamo Farms » Feed\" type=\"application/rss+xml\"/>\n",
              "<link href=\"https://www.alamofarmstx.com/comments/feed/\" rel=\"alternate\" title=\"Alamo Farms » Comments Feed\" type=\"application/rss+xml\"/>\n",
              "<script>\n",
              "window._wpemojiSettings = {\"baseUrl\":\"https:\\/\\/s.w.org\\/images\\/core\\/emoji\\/14.0.0\\/72x72\\/\",\"ext\":\".png\",\"svgUrl\":\"https:\\/\\/s.w.org\\/images\\/core\\/emoji\\/14.0.0\\/svg\\/\",\"svgExt\":\".svg\",\"source\":{\"concatemoji\":\"https:\\/\\/www.alamofarmstx.com\\/wp-includes\\/js\\/wp-emoji-release.min.js?ver=6.1.5\"}};\n",
              "/*! This file is auto-generated */\n",
              "!function(e,a,t){var n,r,o,i=a.createElement(\"canvas\"),p=i.getContext&&i.getContext(\"2d\");function s(e,t){var a=String.fromCharCode,e=(p.clearRect(0,0,i.width,i.height),p.fillText(a.apply(this,e),0,0),i.toDataURL());return p.clearRect(0,0,i.width,i.height),p.fillText(a.apply(this,t),0,0),e===i.toDataURL()}function c(e){var t=a.createElement(\"script\");t.src=e,t.defer=t.type=\"text/javascript\",a.getElementsByTagName(\"head\")[0].appendChild(t)}for(o=Array(\"flag\",\"emoji\"),t.supports={everything:!0,everythingExceptFlag:!0},r=0;r<o.length;r++)t.supports[o[r]]=function(e){if(p&&p.fillText)switch(p.textBaseline=\"top\",p.font=\"600 32px Arial\",e){case\"flag\":return s([127987,65039,8205,9895,65039],[127987,65039,8203,9895,65039])?!1:!s([55356,56826,55356,56819],[55356,56826,8203,55356,56819])&&!s([55356,57332,56128,56423,56128,56418,56128,56421,56128,56430,56128,56423,56128,56447],[55356,57332,8203,56128,56423,8203,56128,56418,8203,56128,56421,8203,56128,56430,8203,56128,56423,8203,56128,56447]);case\"emoji\":return!s([129777,127995,8205,129778,127999],[129777,127995,8203,129778,127999])}return!1}(o[r]),t.supports.everything=t.supports.everything&&t.supports[o[r]],\"flag\"!==o[r]&&(t.supports.everythingExceptFlag=t.supports.everythingExceptFlag&&t.supports[o[r]]);t.supports.everythingExceptFlag=t.supports.everythingExceptFlag&&!t.supports.flag,t.DOMReady=!1,t.readyCallback=function(){t.DOMReady=!0},t.supports.everything||(n=function(){t.readyCallback()},a.addEventListener?(a.addEventListener(\"DOMContentLoaded\",n,!1),e.addEventListener(\"load\",n,!1)):(e.attachEvent(\"onload\",n),a.attachEvent(\"onreadystatechange\",function(){\"complete\"===a.readyState&&t.readyCallback()})),(e=t.source||{}).concatemoji?c(e.concatemoji):e.wpemoji&&e.twemoji&&(c(e.twemoji),c(e.wpemoji)))}(window,document,window._wpemojiSettings);\n",
              "</script>\n",
              "<style>\n",
              "img.wp-smiley,\n",
              "img.emoji {\n",
              "\tdisplay: inline !important;\n",
              "\tborder: none !important;\n",
              "\tbox-shadow: none !important;\n",
              "\theight: 1em !important;\n",
              "\twidth: 1em !important;\n",
              "\tmargin: 0 0.07em !important;\n",
              "\tvertical-align: -0.1em !important;\n",
              "\tbackground: none !important;\n",
              "\tpadding: 0 !important;\n",
              "}\n",
              "</style>\n",
              "<link href=\"https://www.alamofarmstx.com/wp-content/plugins/instagram-feed/css/sbi-styles.min.css?ver=6.1.3\" id=\"sbi_styles-css\" media=\"all\" rel=\"stylesheet\"/>\n",
              "<link href=\"https://www.alamofarmstx.com/wp-content/plugins/jeg-elementor-kit/assets/css/elements/main.css?ver=2.6.1\" id=\"jkit-elements-main-css\" media=\"all\" rel=\"stylesheet\"/>\n",
              "<link href=\"https://c0.wp.com/c/6.1.5/wp-includes/css/dist/block-library/style.min.css\" id=\"wp-block-library-css\" media=\"all\" rel=\"stylesheet\"/>\n",
              "<style id=\"wp-block-library-inline-css\">\n",
              ".has-text-align-justify{text-align:justify;}\n",
              "</style>\n",
              "<link href=\"https://c0.wp.com/c/6.1.5/wp-includes/js/mediaelement/mediaelementplayer-legacy.min.css\" id=\"mediaelement-css\" media=\"all\" rel=\"stylesheet\"/>\n",
              "<link href=\"https://c0.wp.com/c/6.1.5/wp-includes/js/mediaelement/wp-mediaelement.min.css\" id=\"wp-mediaelement-css\" media=\"all\" rel=\"stylesheet\"/>\n",
              "<link href=\"https://c0.wp.com/p/woocommerce/7.5.1/packages/woocommerce-blocks/build/wc-blocks-vendors-style.css\" id=\"wc-blocks-vendors-style-css\" media=\"all\" rel=\"stylesheet\"/>\n",
              "<link href=\"https://c0.wp.com/p/woocommerce/7.5.1/packages/woocommerce-blocks/build/wc-blocks-style.css\" id=\"wc-blocks-style-css\" media=\"all\" rel=\"stylesheet\"/>\n",
              "<link href=\"https://c0.wp.com/c/6.1.5/wp-includes/css/classic-themes.min.css\" id=\"classic-theme-styles-css\" media=\"all\" rel=\"stylesheet\"/>\n",
              "<style id=\"global-styles-inline-css\">\n",
              "body{--wp--preset--color--black: #000000;--wp--preset--color--cyan-bluish-gray: #abb8c3;--wp--preset--color--white: #ffffff;--wp--preset--color--pale-pink: #f78da7;--wp--preset--color--vivid-red: #cf2e2e;--wp--preset--color--luminous-vivid-orange: #ff6900;--wp--preset--color--luminous-vivid-amber: #fcb900;--wp--preset--color--light-green-cyan: #7bdcb5;--wp--preset--color--vivid-green-cyan: #00d084;--wp--preset--color--pale-cyan-blue: #8ed1fc;--wp--preset--color--vivid-cyan-blue: #0693e3;--wp--preset--color--vivid-purple: #9b51e0;--wp--preset--color--accent: #ee0606;--wp--preset--color--primary: #000000;--wp--preset--color--secondary: #6d6d6d;--wp--preset--color--subtle-background: #dbdbdb;--wp--preset--color--background: #fff;--wp--preset--gradient--vivid-cyan-blue-to-vivid-purple: linear-gradient(135deg,rgba(6,147,227,1) 0%,rgb(155,81,224) 100%);--wp--preset--gradient--light-green-cyan-to-vivid-green-cyan: linear-gradient(135deg,rgb(122,220,180) 0%,rgb(0,208,130) 100%);--wp--preset--gradient--luminous-vivid-amber-to-luminous-vivid-orange: linear-gradient(135deg,rgba(252,185,0,1) 0%,rgba(255,105,0,1) 100%);--wp--preset--gradient--luminous-vivid-orange-to-vivid-red: linear-gradient(135deg,rgba(255,105,0,1) 0%,rgb(207,46,46) 100%);--wp--preset--gradient--very-light-gray-to-cyan-bluish-gray: linear-gradient(135deg,rgb(238,238,238) 0%,rgb(169,184,195) 100%);--wp--preset--gradient--cool-to-warm-spectrum: linear-gradient(135deg,rgb(74,234,220) 0%,rgb(151,120,209) 20%,rgb(207,42,186) 40%,rgb(238,44,130) 60%,rgb(251,105,98) 80%,rgb(254,248,76) 100%);--wp--preset--gradient--blush-light-purple: linear-gradient(135deg,rgb(255,206,236) 0%,rgb(152,150,240) 100%);--wp--preset--gradient--blush-bordeaux: linear-gradient(135deg,rgb(254,205,165) 0%,rgb(254,45,45) 50%,rgb(107,0,62) 100%);--wp--preset--gradient--luminous-dusk: linear-gradient(135deg,rgb(255,203,112) 0%,rgb(199,81,192) 50%,rgb(65,88,208) 100%);--wp--preset--gradient--pale-ocean: linear-gradient(135deg,rgb(255,245,203) 0%,rgb(182,227,212) 50%,rgb(51,167,181) 100%);--wp--preset--gradient--electric-grass: linear-gradient(135deg,rgb(202,248,128) 0%,rgb(113,206,126) 100%);--wp--preset--gradient--midnight: linear-gradient(135deg,rgb(2,3,129) 0%,rgb(40,116,252) 100%);--wp--preset--duotone--dark-grayscale: url('#wp-duotone-dark-grayscale');--wp--preset--duotone--grayscale: url('#wp-duotone-grayscale');--wp--preset--duotone--purple-yellow: url('#wp-duotone-purple-yellow');--wp--preset--duotone--blue-red: url('#wp-duotone-blue-red');--wp--preset--duotone--midnight: url('#wp-duotone-midnight');--wp--preset--duotone--magenta-yellow: url('#wp-duotone-magenta-yellow');--wp--preset--duotone--purple-green: url('#wp-duotone-purple-green');--wp--preset--duotone--blue-orange: url('#wp-duotone-blue-orange');--wp--preset--font-size--small: 18px;--wp--preset--font-size--medium: 20px;--wp--preset--font-size--large: 26.25px;--wp--preset--font-size--x-large: 42px;--wp--preset--font-size--normal: 21px;--wp--preset--font-size--larger: 32px;--wp--preset--spacing--20: 0.44rem;--wp--preset--spacing--30: 0.67rem;--wp--preset--spacing--40: 1rem;--wp--preset--spacing--50: 1.5rem;--wp--preset--spacing--60: 2.25rem;--wp--preset--spacing--70: 3.38rem;--wp--preset--spacing--80: 5.06rem;}:where(.is-layout-flex){gap: 0.5em;}body .is-layout-flow > .alignleft{float: left;margin-inline-start: 0;margin-inline-end: 2em;}body .is-layout-flow > .alignright{float: right;margin-inline-start: 2em;margin-inline-end: 0;}body .is-layout-flow > .aligncenter{margin-left: auto !important;margin-right: auto !important;}body .is-layout-constrained > .alignleft{float: left;margin-inline-start: 0;margin-inline-end: 2em;}body .is-layout-constrained > .alignright{float: right;margin-inline-start: 2em;margin-inline-end: 0;}body .is-layout-constrained > .aligncenter{margin-left: auto !important;margin-right: auto !important;}body .is-layout-constrained > :where(:not(.alignleft):not(.alignright):not(.alignfull)){max-width: var(--wp--style--global--content-size);margin-left: auto !important;margin-right: auto !important;}body .is-layout-constrained > .alignwide{max-width: var(--wp--style--global--wide-size);}body .is-layout-flex{display: flex;}body .is-layout-flex{flex-wrap: wrap;align-items: center;}body .is-layout-flex > *{margin: 0;}:where(.wp-block-columns.is-layout-flex){gap: 2em;}.has-black-color{color: var(--wp--preset--color--black) !important;}.has-cyan-bluish-gray-color{color: var(--wp--preset--color--cyan-bluish-gray) !important;}.has-white-color{color: var(--wp--preset--color--white) !important;}.has-pale-pink-color{color: var(--wp--preset--color--pale-pink) !important;}.has-vivid-red-color{color: var(--wp--preset--color--vivid-red) !important;}.has-luminous-vivid-orange-color{color: var(--wp--preset--color--luminous-vivid-orange) !important;}.has-luminous-vivid-amber-color{color: var(--wp--preset--color--luminous-vivid-amber) !important;}.has-light-green-cyan-color{color: var(--wp--preset--color--light-green-cyan) !important;}.has-vivid-green-cyan-color{color: var(--wp--preset--color--vivid-green-cyan) !important;}.has-pale-cyan-blue-color{color: var(--wp--preset--color--pale-cyan-blue) !important;}.has-vivid-cyan-blue-color{color: var(--wp--preset--color--vivid-cyan-blue) !important;}.has-vivid-purple-color{color: var(--wp--preset--color--vivid-purple) !important;}.has-black-background-color{background-color: var(--wp--preset--color--black) !important;}.has-cyan-bluish-gray-background-color{background-color: var(--wp--preset--color--cyan-bluish-gray) !important;}.has-white-background-color{background-color: var(--wp--preset--color--white) !important;}.has-pale-pink-background-color{background-color: var(--wp--preset--color--pale-pink) !important;}.has-vivid-red-background-color{background-color: var(--wp--preset--color--vivid-red) !important;}.has-luminous-vivid-orange-background-color{background-color: var(--wp--preset--color--luminous-vivid-orange) !important;}.has-luminous-vivid-amber-background-color{background-color: var(--wp--preset--color--luminous-vivid-amber) !important;}.has-light-green-cyan-background-color{background-color: var(--wp--preset--color--light-green-cyan) !important;}.has-vivid-green-cyan-background-color{background-color: var(--wp--preset--color--vivid-green-cyan) !important;}.has-pale-cyan-blue-background-color{background-color: var(--wp--preset--color--pale-cyan-blue) !important;}.has-vivid-cyan-blue-background-color{background-color: var(--wp--preset--color--vivid-cyan-blue) !important;}.has-vivid-purple-background-color{background-color: var(--wp--preset--color--vivid-purple) !important;}.has-black-border-color{border-color: var(--wp--preset--color--black) !important;}.has-cyan-bluish-gray-border-color{border-color: var(--wp--preset--color--cyan-bluish-gray) !important;}.has-white-border-color{border-color: var(--wp--preset--color--white) !important;}.has-pale-pink-border-color{border-color: var(--wp--preset--color--pale-pink) !important;}.has-vivid-red-border-color{border-color: var(--wp--preset--color--vivid-red) !important;}.has-luminous-vivid-orange-border-color{border-color: var(--wp--preset--color--luminous-vivid-orange) !important;}.has-luminous-vivid-amber-border-color{border-color: var(--wp--preset--color--luminous-vivid-amber) !important;}.has-light-green-cyan-border-color{border-color: var(--wp--preset--color--light-green-cyan) !important;}.has-vivid-green-cyan-border-color{border-color: var(--wp--preset--color--vivid-green-cyan) !important;}.has-pale-cyan-blue-border-color{border-color: var(--wp--preset--color--pale-cyan-blue) !important;}.has-vivid-cyan-blue-border-color{border-color: var(--wp--preset--color--vivid-cyan-blue) !important;}.has-vivid-purple-border-color{border-color: var(--wp--preset--color--vivid-purple) !important;}.has-vivid-cyan-blue-to-vivid-purple-gradient-background{background: var(--wp--preset--gradient--vivid-cyan-blue-to-vivid-purple) !important;}.has-light-green-cyan-to-vivid-green-cyan-gradient-background{background: var(--wp--preset--gradient--light-green-cyan-to-vivid-green-cyan) !important;}.has-luminous-vivid-amber-to-luminous-vivid-orange-gradient-background{background: var(--wp--preset--gradient--luminous-vivid-amber-to-luminous-vivid-orange) !important;}.has-luminous-vivid-orange-to-vivid-red-gradient-background{background: var(--wp--preset--gradient--luminous-vivid-orange-to-vivid-red) !important;}.has-very-light-gray-to-cyan-bluish-gray-gradient-background{background: var(--wp--preset--gradient--very-light-gray-to-cyan-bluish-gray) !important;}.has-cool-to-warm-spectrum-gradient-background{background: var(--wp--preset--gradient--cool-to-warm-spectrum) !important;}.has-blush-light-purple-gradient-background{background: var(--wp--preset--gradient--blush-light-purple) !important;}.has-blush-bordeaux-gradient-background{background: var(--wp--preset--gradient--blush-bordeaux) !important;}.has-luminous-dusk-gradient-background{background: var(--wp--preset--gradient--luminous-dusk) !important;}.has-pale-ocean-gradient-background{background: var(--wp--preset--gradient--pale-ocean) !important;}.has-electric-grass-gradient-background{background: var(--wp--preset--gradient--electric-grass) !important;}.has-midnight-gradient-background{background: var(--wp--preset--gradient--midnight) !important;}.has-small-font-size{font-size: var(--wp--preset--font-size--small) !important;}.has-medium-font-size{font-size: var(--wp--preset--font-size--medium) !important;}.has-large-font-size{font-size: var(--wp--preset--font-size--large) !important;}.has-x-large-font-size{font-size: var(--wp--preset--font-size--x-large) !important;}\n",
              ".wp-block-navigation a:where(:not(.wp-element-button)){color: inherit;}\n",
              ":where(.wp-block-columns.is-layout-flex){gap: 2em;}\n",
              ".wp-block-pullquote{font-size: 1.5em;line-height: 1.6;}\n",
              "</style>\n",
              "<link href=\"https://www.alamofarmstx.com/wp-content/plugins/contact-form-7/includes/css/styles.css?ver=5.7.5.1\" id=\"contact-form-7-css\" media=\"all\" rel=\"stylesheet\"/>\n",
              "<link href=\"https://c0.wp.com/p/woocommerce/7.5.1/assets/css/woocommerce-layout.css\" id=\"woocommerce-layout-css\" media=\"all\" rel=\"stylesheet\"/>\n",
              "<style id=\"woocommerce-layout-inline-css\">\n",
              "\n",
              "\t.infinite-scroll .woocommerce-pagination {\n",
              "\t\tdisplay: none;\n",
              "\t}\n",
              "</style>\n",
              "<link href=\"https://c0.wp.com/p/woocommerce/7.5.1/assets/css/woocommerce-smallscreen.css\" id=\"woocommerce-smallscreen-css\" media=\"only screen and (max-width: 768px)\" rel=\"stylesheet\"/>\n",
              "<link href=\"//www.alamofarmstx.com/wp-content/plugins/woocommerce/assets/css/twenty-twenty.css?ver=7.5.1\" id=\"woocommerce-general-css\" media=\"all\" rel=\"stylesheet\"/>\n",
              "<style id=\"woocommerce-inline-inline-css\">\n",
              ".woocommerce form .form-row .required { visibility: visible; }\n",
              "</style>\n",
              "<link href=\"https://www.alamofarmstx.com/wp-content/plugins/wp-opening-hours/dist/styles/main.css?ver=6.1.5\" id=\"op_css-css\" media=\"all\" rel=\"stylesheet\"/>\n",
              "<link href=\"https://www.alamofarmstx.com/wp-content/plugins/elementor/assets/lib/eicons/css/elementor-icons.min.css?ver=5.18.0\" id=\"elementor-icons-css\" media=\"all\" rel=\"stylesheet\"/>\n",
              "<link href=\"https://www.alamofarmstx.com/wp-content/plugins/elementor/assets/css/frontend-lite.min.css?ver=3.11.5\" id=\"elementor-frontend-css\" media=\"all\" rel=\"stylesheet\"/>\n",
              "<link href=\"https://www.alamofarmstx.com/wp-content/plugins/elementor/assets/lib/swiper/css/swiper.min.css?ver=5.3.6\" id=\"swiper-css\" media=\"all\" rel=\"stylesheet\"/>\n",
              "<link href=\"https://www.alamofarmstx.com/wp-content/uploads/elementor/css/post-13.css?ver=1679979862\" id=\"elementor-post-13-css\" media=\"all\" rel=\"stylesheet\"/>\n",
              "<link href=\"https://www.alamofarmstx.com/wp-content/uploads/elementor/css/post-379.css?ver=1679979896\" id=\"elementor-post-379-css\" media=\"all\" rel=\"stylesheet\"/>\n",
              "<link href=\"https://www.alamofarmstx.com/wp-content/plugins/elementor/assets/lib/font-awesome/css/all.min.css?ver=3.11.5\" id=\"font-awesome-5-all-css\" media=\"all\" rel=\"stylesheet\"/>\n",
              "<link href=\"https://www.alamofarmstx.com/wp-content/plugins/elementor/assets/lib/font-awesome/css/v4-shims.min.css?ver=3.11.5\" id=\"font-awesome-4-shim-css\" media=\"all\" rel=\"stylesheet\"/>\n",
              "<link href=\"https://www.alamofarmstx.com/wp-content/themes/twentytwenty/style.css?ver=2.1\" id=\"twentytwenty-style-css\" media=\"all\" rel=\"stylesheet\"/>\n",
              "<style id=\"twentytwenty-style-inline-css\">\n",
              ".color-accent,.color-accent-hover:hover,.color-accent-hover:focus,:root .has-accent-color,.has-drop-cap:not(:focus):first-letter,.wp-block-button.is-style-outline,a { color: #ee0606; }blockquote,.border-color-accent,.border-color-accent-hover:hover,.border-color-accent-hover:focus { border-color: #ee0606; }button,.button,.faux-button,.wp-block-button__link,.wp-block-file .wp-block-file__button,input[type=\"button\"],input[type=\"reset\"],input[type=\"submit\"],.bg-accent,.bg-accent-hover:hover,.bg-accent-hover:focus,:root .has-accent-background-color,.comment-reply-link { background-color: #ee0606; }.fill-children-accent,.fill-children-accent * { fill: #ee0606; }:root .has-background-color,button,.button,.faux-button,.wp-block-button__link,.wp-block-file__button,input[type=\"button\"],input[type=\"reset\"],input[type=\"submit\"],.wp-block-button,.comment-reply-link,.has-background.has-primary-background-color:not(.has-text-color),.has-background.has-primary-background-color *:not(.has-text-color),.has-background.has-accent-background-color:not(.has-text-color),.has-background.has-accent-background-color *:not(.has-text-color) { color: #fff; }:root .has-background-background-color { background-color: #fff; }body,.entry-title a,:root .has-primary-color { color: #000000; }:root .has-primary-background-color { background-color: #000000; }cite,figcaption,.wp-caption-text,.post-meta,.entry-content .wp-block-archives li,.entry-content .wp-block-categories li,.entry-content .wp-block-latest-posts li,.wp-block-latest-comments__comment-date,.wp-block-latest-posts__post-date,.wp-block-embed figcaption,.wp-block-image figcaption,.wp-block-pullquote cite,.comment-metadata,.comment-respond .comment-notes,.comment-respond .logged-in-as,.pagination .dots,.entry-content hr:not(.has-background),hr.styled-separator,:root .has-secondary-color { color: #6d6d6d; }:root .has-secondary-background-color { background-color: #6d6d6d; }pre,fieldset,input,textarea,table,table *,hr { border-color: #dbdbdb; }caption,code,code,kbd,samp,.wp-block-table.is-style-stripes tbody tr:nth-child(odd),:root .has-subtle-background-background-color { background-color: #dbdbdb; }.wp-block-table.is-style-stripes { border-bottom-color: #dbdbdb; }.wp-block-latest-posts.is-grid li { border-top-color: #dbdbdb; }:root .has-subtle-background-color { color: #dbdbdb; }body:not(.overlay-header) .primary-menu > li > a,body:not(.overlay-header) .primary-menu > li > .icon,.modal-menu a,.footer-menu a, .footer-widgets a,#site-footer .wp-block-button.is-style-outline,.wp-block-pullquote:before,.singular:not(.overlay-header) .entry-header a,.archive-header a,.header-footer-group .color-accent,.header-footer-group .color-accent-hover:hover { color: #ee0606; }.social-icons a,#site-footer button:not(.toggle),#site-footer .button,#site-footer .faux-button,#site-footer .wp-block-button__link,#site-footer .wp-block-file__button,#site-footer input[type=\"button\"],#site-footer input[type=\"reset\"],#site-footer input[type=\"submit\"] { background-color: #ee0606; }.social-icons a,body:not(.overlay-header) .primary-menu ul,.header-footer-group button,.header-footer-group .button,.header-footer-group .faux-button,.header-footer-group .wp-block-button:not(.is-style-outline) .wp-block-button__link,.header-footer-group .wp-block-file__button,.header-footer-group input[type=\"button\"],.header-footer-group input[type=\"reset\"],.header-footer-group input[type=\"submit\"] { color: #ffffff; }#site-header,.footer-nav-widgets-wrapper,#site-footer,.menu-modal,.menu-modal-inner,.search-modal-inner,.archive-header,.singular .entry-header,.singular .featured-media:before,.wp-block-pullquote:before { background-color: #ffffff; }.header-footer-group,body:not(.overlay-header) #site-header .toggle,.menu-modal .toggle { color: #000000; }body:not(.overlay-header) .primary-menu ul { background-color: #000000; }body:not(.overlay-header) .primary-menu > li > ul:after { border-bottom-color: #000000; }body:not(.overlay-header) .primary-menu ul ul:after { border-left-color: #000000; }.site-description,body:not(.overlay-header) .toggle-inner .toggle-text,.widget .post-date,.widget .rss-date,.widget_archive li,.widget_categories li,.widget cite,.widget_pages li,.widget_meta li,.widget_nav_menu li,.powered-by-wordpress,.to-the-top,.singular .entry-header .post-meta,.singular:not(.overlay-header) .entry-header .post-meta a { color: #6d6d6d; }.header-footer-group pre,.header-footer-group fieldset,.header-footer-group input,.header-footer-group textarea,.header-footer-group table,.header-footer-group table *,.footer-nav-widgets-wrapper,#site-footer,.menu-modal nav *,.footer-widgets-outer-wrapper,.footer-top { border-color: #dbdbdb; }.header-footer-group table caption,body:not(.overlay-header) .header-inner .toggle-wrapper::before { background-color: #dbdbdb; }\n",
              ".post-date, .entry-categories, .post-tags, .post-author { clip: rect(1px, 1px, 1px, 1px); height: 1px; position: absolute; overflow: hidden; width: 1px; }\n",
              "</style>\n",
              "<link href=\"https://www.alamofarmstx.com/wp-content/themes/twentytwenty/print.css?ver=2.1\" id=\"twentytwenty-print-style-css\" media=\"print\" rel=\"stylesheet\"/>\n",
              "<link href=\"https://c0.wp.com/p/jetpack/11.9.1/modules/theme-tools/compat/twentytwenty.css\" id=\"twentytwenty-jetpack-css\" media=\"all\" rel=\"stylesheet\"/>\n",
              "<style id=\"twentytwenty-jetpack-inline-css\">\n",
              "\n",
              "\t\t.infinite-scroll #site-content #infinite-handle span button,\n",
              "\t\t.infinite-scroll #site-content #infinite-handle span button:hover,\n",
              "\t\t.infinite-scroll #site-content #infinite-handle span button:focus {\n",
              "\t\t\tbackground: #ee0606;\n",
              "\t\t\tcolor: #fff;\n",
              "\t\t}\n",
              "\t\t#site-content .entry-content div.sharedaddy h3.sd-title,\n",
              "\t\t#site-content .entry-content h3.sd-title,\n",
              "\t\t#site-content .entry-content #jp-relatedposts h3.jp-relatedposts-headline {\n",
              "\t\t\tcolor: #6d6d6d;\n",
              "\t\t}\n",
              "\t\t\n",
              "</style>\n",
              "<link href=\"https://fonts.googleapis.com/css?family=Commissioner%3A100%2C100italic%2C200%2C200italic%2C300%2C300italic%2C400%2C400italic%2C500%2C500italic%2C600%2C600italic%2C700%2C700italic%2C800%2C800italic%2C900%2C900italic%7CDM+Sans%3A100%2C100italic%2C200%2C200italic%2C300%2C300italic%2C400%2C400italic%2C500%2C500italic%2C600%2C600italic%2C700%2C700italic%2C800%2C800italic%2C900%2C900italic&amp;display=auto&amp;ver=6.1.5\" id=\"google-fonts-1-css\" media=\"all\" rel=\"stylesheet\"/>\n",
              "<link href=\"https://www.alamofarmstx.com/wp-content/plugins/elementor/assets/lib/font-awesome/css/fontawesome.min.css?ver=5.15.3\" id=\"elementor-icons-shared-0-css\" media=\"all\" rel=\"stylesheet\"/>\n",
              "<link href=\"https://www.alamofarmstx.com/wp-content/plugins/elementor/assets/lib/font-awesome/css/solid.min.css?ver=5.15.3\" id=\"elementor-icons-fa-solid-css\" media=\"all\" rel=\"stylesheet\"/>\n",
              "<link href=\"https://c0.wp.com/p/jetpack/11.9.1/css/jetpack.css\" id=\"jetpack_css-css\" media=\"all\" rel=\"stylesheet\"/>\n",
              "<link crossorigin=\"\" href=\"https://fonts.gstatic.com/\" rel=\"preconnect\"/><script id=\"jquery-core-js\" src=\"https://c0.wp.com/c/6.1.5/wp-includes/js/jquery/jquery.min.js\"></script>\n",
              "<script id=\"jquery-migrate-js\" src=\"https://c0.wp.com/c/6.1.5/wp-includes/js/jquery/jquery-migrate.min.js\"></script>\n",
              "<script id=\"font-awesome-4-shim-js\" src=\"https://www.alamofarmstx.com/wp-content/plugins/elementor/assets/lib/font-awesome/js/v4-shims.min.js?ver=3.11.5\"></script>\n",
              "<script defer=\"\" id=\"woocommerce-analytics-js\" src=\"https://stats.wp.com/s-202406.js\"></script>\n",
              "<script async=\"\" id=\"twentytwenty-js-js\" src=\"https://www.alamofarmstx.com/wp-content/themes/twentytwenty/assets/js/index.js?ver=2.1\"></script>\n",
              "<link href=\"https://www.alamofarmstx.com/wp-json/\" rel=\"https://api.w.org/\"><link href=\"https://www.alamofarmstx.com/wp-json/wp/v2/pages/379\" rel=\"alternate\" type=\"application/json\"/><link href=\"https://www.alamofarmstx.com/xmlrpc.php?rsd\" rel=\"EditURI\" title=\"RSD\" type=\"application/rsd+xml\"/>\n",
              "<link href=\"https://www.alamofarmstx.com/wp-includes/wlwmanifest.xml\" rel=\"wlwmanifest\" type=\"application/wlwmanifest+xml\"/>\n",
              "<meta content=\"WordPress 6.1.5\" name=\"generator\"/>\n",
              "<meta content=\"WooCommerce 7.5.1\" name=\"generator\"/>\n",
              "<link href=\"https://www.alamofarmstx.com/shop/chicken/\" rel=\"canonical\"/>\n",
              "<link href=\"https://www.alamofarmstx.com/?p=379\" rel=\"shortlink\"/>\n",
              "<link href=\"https://www.alamofarmstx.com/wp-json/oembed/1.0/embed?url=https%3A%2F%2Fwww.alamofarmstx.com%2Fshop%2Fchicken%2F\" rel=\"alternate\" type=\"application/json+oembed\"/>\n",
              "<link href=\"https://www.alamofarmstx.com/wp-json/oembed/1.0/embed?url=https%3A%2F%2Fwww.alamofarmstx.com%2Fshop%2Fchicken%2F&amp;format=xml\" rel=\"alternate\" type=\"text/xml+oembed\"/>\n",
              "<style>img#wpstats{display:none}</style>\n",
              "<script>document.documentElement.className = document.documentElement.className.replace( 'no-js', 'js' );</script>\n",
              "<noscript><style>.woocommerce-product-gallery{ opacity: 1 !important; }</style></noscript>\n",
              "<meta content=\"Elementor 3.11.5; features: e_dom_optimization, e_optimized_assets_loading, e_optimized_css_loading, a11y_improvements, additional_custom_breakpoints; settings: css_print_method-external, google_font-enabled, font_display-auto\" name=\"generator\"/>\n",
              "<style id=\"custom-background-css\">\n",
              "body.custom-background { background-color: #fff; }\n",
              "</style>\n",
              "<link href=\"https://i0.wp.com/www.alamofarmstx.com/wp-content/uploads/2022/08/cropped-alamo-farm-logo.png?fit=32%2C32&amp;ssl=1\" rel=\"icon\" sizes=\"32x32\"/>\n",
              "<link href=\"https://i0.wp.com/www.alamofarmstx.com/wp-content/uploads/2022/08/cropped-alamo-farm-logo.png?fit=192%2C192&amp;ssl=1\" rel=\"icon\" sizes=\"192x192\"/>\n",
              "<link href=\"https://i0.wp.com/www.alamofarmstx.com/wp-content/uploads/2022/08/cropped-alamo-farm-logo.png?fit=180%2C180&amp;ssl=1\" rel=\"apple-touch-icon\"/>\n",
              "<meta content=\"https://i0.wp.com/www.alamofarmstx.com/wp-content/uploads/2022/08/cropped-alamo-farm-logo.png?fit=270%2C270&amp;ssl=1\" name=\"msapplication-TileImage\">\n",
              "</meta></link></head>\n",
              "<body class=\"page-template page-template-elementor_header_footer page page-id-379 page-child parent-pageid-93 custom-background wp-custom-logo wp-embed-responsive theme-twentytwenty woocommerce-no-js jkit-color-scheme singular missing-post-thumbnail has-no-pagination not-showing-comments show-avatars elementor_header_footer footer-top-visible date-hidden categories-hidden tags-hidden author-hidden elementor-default elementor-template-full-width elementor-kit-13 elementor-page elementor-page-379\">\n",
              "<a class=\"skip-link screen-reader-text\" href=\"#site-content\">Skip to the content</a><svg focusable=\"false\" height=\"0\" role=\"none\" style=\"visibility: hidden; position: absolute; left: -9999px; overflow: hidden;\" viewbox=\"0 0 0 0\" width=\"0\" xmlns=\"http://www.w3.org/2000/svg\"><defs><filter id=\"wp-duotone-dark-grayscale\"><fecolormatrix color-interpolation-filters=\"sRGB\" type=\"matrix\" values=\" .299 .587 .114 0 0 .299 .587 .114 0 0 .299 .587 .114 0 0 .299 .587 .114 0 0 \"></fecolormatrix><fecomponenttransfer color-interpolation-filters=\"sRGB\"><fefuncr tablevalues=\"0 0.49803921568627\" type=\"table\"></fefuncr><fefuncg tablevalues=\"0 0.49803921568627\" type=\"table\"></fefuncg><fefuncb tablevalues=\"0 0.49803921568627\" type=\"table\"></fefuncb><fefunca tablevalues=\"1 1\" type=\"table\"></fefunca></fecomponenttransfer><fecomposite in2=\"SourceGraphic\" operator=\"in\"></fecomposite></filter></defs></svg><svg focusable=\"false\" height=\"0\" role=\"none\" style=\"visibility: hidden; position: absolute; left: -9999px; overflow: hidden;\" viewbox=\"0 0 0 0\" width=\"0\" xmlns=\"http://www.w3.org/2000/svg\"><defs><filter id=\"wp-duotone-grayscale\"><fecolormatrix color-interpolation-filters=\"sRGB\" type=\"matrix\" values=\" .299 .587 .114 0 0 .299 .587 .114 0 0 .299 .587 .114 0 0 .299 .587 .114 0 0 \"></fecolormatrix><fecomponenttransfer color-interpolation-filters=\"sRGB\"><fefuncr tablevalues=\"0 1\" type=\"table\"></fefuncr><fefuncg tablevalues=\"0 1\" type=\"table\"></fefuncg><fefuncb tablevalues=\"0 1\" type=\"table\"></fefuncb><fefunca tablevalues=\"1 1\" type=\"table\"></fefunca></fecomponenttransfer><fecomposite in2=\"SourceGraphic\" operator=\"in\"></fecomposite></filter></defs></svg><svg focusable=\"false\" height=\"0\" role=\"none\" style=\"visibility: hidden; position: absolute; left: -9999px; overflow: hidden;\" viewbox=\"0 0 0 0\" width=\"0\" xmlns=\"http://www.w3.org/2000/svg\"><defs><filter id=\"wp-duotone-purple-yellow\"><fecolormatrix color-interpolation-filters=\"sRGB\" type=\"matrix\" values=\" .299 .587 .114 0 0 .299 .587 .114 0 0 .299 .587 .114 0 0 .299 .587 .114 0 0 \"></fecolormatrix><fecomponenttransfer color-interpolation-filters=\"sRGB\"><fefuncr tablevalues=\"0.54901960784314 0.98823529411765\" type=\"table\"></fefuncr><fefuncg tablevalues=\"0 1\" type=\"table\"></fefuncg><fefuncb tablevalues=\"0.71764705882353 0.25490196078431\" type=\"table\"></fefuncb><fefunca tablevalues=\"1 1\" type=\"table\"></fefunca></fecomponenttransfer><fecomposite in2=\"SourceGraphic\" operator=\"in\"></fecomposite></filter></defs></svg><svg focusable=\"false\" height=\"0\" role=\"none\" style=\"visibility: hidden; position: absolute; left: -9999px; overflow: hidden;\" viewbox=\"0 0 0 0\" width=\"0\" xmlns=\"http://www.w3.org/2000/svg\"><defs><filter id=\"wp-duotone-blue-red\"><fecolormatrix color-interpolation-filters=\"sRGB\" type=\"matrix\" values=\" .299 .587 .114 0 0 .299 .587 .114 0 0 .299 .587 .114 0 0 .299 .587 .114 0 0 \"></fecolormatrix><fecomponenttransfer color-interpolation-filters=\"sRGB\"><fefuncr tablevalues=\"0 1\" type=\"table\"></fefuncr><fefuncg tablevalues=\"0 0.27843137254902\" type=\"table\"></fefuncg><fefuncb tablevalues=\"0.5921568627451 0.27843137254902\" type=\"table\"></fefuncb><fefunca tablevalues=\"1 1\" type=\"table\"></fefunca></fecomponenttransfer><fecomposite in2=\"SourceGraphic\" operator=\"in\"></fecomposite></filter></defs></svg><svg focusable=\"false\" height=\"0\" role=\"none\" style=\"visibility: hidden; position: absolute; left: -9999px; overflow: hidden;\" viewbox=\"0 0 0 0\" width=\"0\" xmlns=\"http://www.w3.org/2000/svg\"><defs><filter id=\"wp-duotone-midnight\"><fecolormatrix color-interpolation-filters=\"sRGB\" type=\"matrix\" values=\" .299 .587 .114 0 0 .299 .587 .114 0 0 .299 .587 .114 0 0 .299 .587 .114 0 0 \"></fecolormatrix><fecomponenttransfer color-interpolation-filters=\"sRGB\"><fefuncr tablevalues=\"0 0\" type=\"table\"></fefuncr><fefuncg tablevalues=\"0 0.64705882352941\" type=\"table\"></fefuncg><fefuncb tablevalues=\"0 1\" type=\"table\"></fefuncb><fefunca tablevalues=\"1 1\" type=\"table\"></fefunca></fecomponenttransfer><fecomposite in2=\"SourceGraphic\" operator=\"in\"></fecomposite></filter></defs></svg><svg focusable=\"false\" height=\"0\" role=\"none\" style=\"visibility: hidden; position: absolute; left: -9999px; overflow: hidden;\" viewbox=\"0 0 0 0\" width=\"0\" xmlns=\"http://www.w3.org/2000/svg\"><defs><filter id=\"wp-duotone-magenta-yellow\"><fecolormatrix color-interpolation-filters=\"sRGB\" type=\"matrix\" values=\" .299 .587 .114 0 0 .299 .587 .114 0 0 .299 .587 .114 0 0 .299 .587 .114 0 0 \"></fecolormatrix><fecomponenttransfer color-interpolation-filters=\"sRGB\"><fefuncr tablevalues=\"0.78039215686275 1\" type=\"table\"></fefuncr><fefuncg tablevalues=\"0 0.94901960784314\" type=\"table\"></fefuncg><fefuncb tablevalues=\"0.35294117647059 0.47058823529412\" type=\"table\"></fefuncb><fefunca tablevalues=\"1 1\" type=\"table\"></fefunca></fecomponenttransfer><fecomposite in2=\"SourceGraphic\" operator=\"in\"></fecomposite></filter></defs></svg><svg focusable=\"false\" height=\"0\" role=\"none\" style=\"visibility: hidden; position: absolute; left: -9999px; overflow: hidden;\" viewbox=\"0 0 0 0\" width=\"0\" xmlns=\"http://www.w3.org/2000/svg\"><defs><filter id=\"wp-duotone-purple-green\"><fecolormatrix color-interpolation-filters=\"sRGB\" type=\"matrix\" values=\" .299 .587 .114 0 0 .299 .587 .114 0 0 .299 .587 .114 0 0 .299 .587 .114 0 0 \"></fecolormatrix><fecomponenttransfer color-interpolation-filters=\"sRGB\"><fefuncr tablevalues=\"0.65098039215686 0.40392156862745\" type=\"table\"></fefuncr><fefuncg tablevalues=\"0 1\" type=\"table\"></fefuncg><fefuncb tablevalues=\"0.44705882352941 0.4\" type=\"table\"></fefuncb><fefunca tablevalues=\"1 1\" type=\"table\"></fefunca></fecomponenttransfer><fecomposite in2=\"SourceGraphic\" operator=\"in\"></fecomposite></filter></defs></svg><svg focusable=\"false\" height=\"0\" role=\"none\" style=\"visibility: hidden; position: absolute; left: -9999px; overflow: hidden;\" viewbox=\"0 0 0 0\" width=\"0\" xmlns=\"http://www.w3.org/2000/svg\"><defs><filter id=\"wp-duotone-blue-orange\"><fecolormatrix color-interpolation-filters=\"sRGB\" type=\"matrix\" values=\" .299 .587 .114 0 0 .299 .587 .114 0 0 .299 .587 .114 0 0 .299 .587 .114 0 0 \"></fecolormatrix><fecomponenttransfer color-interpolation-filters=\"sRGB\"><fefuncr tablevalues=\"0.098039215686275 1\" type=\"table\"></fefuncr><fefuncg tablevalues=\"0 0.66274509803922\" type=\"table\"></fefuncg><fefuncb tablevalues=\"0.84705882352941 0.41960784313725\" type=\"table\"></fefuncb><fefunca tablevalues=\"1 1\" type=\"table\"></fefunca></fecomponenttransfer><fecomposite in2=\"SourceGraphic\" operator=\"in\"></fecomposite></filter></defs></svg><div class=\"jkit-template site\" id=\"page\">\n",
              "<header id=\"masthead\" itemscope=\"itemscope\" itemtype=\"https://schema.org/WPHeader\">\n",
              "<style>.elementor-74 .elementor-element.elementor-element-20de6ee6 > .elementor-container{max-width:1200px;}.elementor-74 .elementor-element.elementor-element-20de6ee6:not(.elementor-motion-effects-element-type-background), .elementor-74 .elementor-element.elementor-element-20de6ee6 > .elementor-motion-effects-container > .elementor-motion-effects-layer{background-color:#d12d34;}.elementor-74 .elementor-element.elementor-element-20de6ee6{transition:background 0.3s, border 0.3s, border-radius 0.3s, box-shadow 0.3s;padding:0px 0px 0px 0px;}.elementor-74 .elementor-element.elementor-element-20de6ee6 > .elementor-background-overlay{transition:background 0.3s, border-radius 0.3s, opacity 0.3s;}.elementor-74 .elementor-element.elementor-element-610b70e0 .elementor-icon-list-items:not(.elementor-inline-items) .elementor-icon-list-item:not(:last-child){padding-bottom:calc(25px/2);}.elementor-74 .elementor-element.elementor-element-610b70e0 .elementor-icon-list-items:not(.elementor-inline-items) .elementor-icon-list-item:not(:first-child){margin-top:calc(25px/2);}.elementor-74 .elementor-element.elementor-element-610b70e0 .elementor-icon-list-items.elementor-inline-items .elementor-icon-list-item{margin-right:calc(25px/2);margin-left:calc(25px/2);}.elementor-74 .elementor-element.elementor-element-610b70e0 .elementor-icon-list-items.elementor-inline-items{margin-right:calc(-25px/2);margin-left:calc(-25px/2);}body.rtl .elementor-74 .elementor-element.elementor-element-610b70e0 .elementor-icon-list-items.elementor-inline-items .elementor-icon-list-item:after{left:calc(-25px/2);}body:not(.rtl) .elementor-74 .elementor-element.elementor-element-610b70e0 .elementor-icon-list-items.elementor-inline-items .elementor-icon-list-item:after{right:calc(-25px/2);}.elementor-74 .elementor-element.elementor-element-610b70e0 .elementor-icon-list-item:not(:last-child):after{content:\"\";height:100%;border-color:#FFFFFF3B;}.elementor-74 .elementor-element.elementor-element-610b70e0 .elementor-icon-list-items:not(.elementor-inline-items) .elementor-icon-list-item:not(:last-child):after{border-top-style:solid;border-top-width:1px;}.elementor-74 .elementor-element.elementor-element-610b70e0 .elementor-icon-list-items.elementor-inline-items .elementor-icon-list-item:not(:last-child):after{border-left-style:solid;}.elementor-74 .elementor-element.elementor-element-610b70e0 .elementor-inline-items .elementor-icon-list-item:not(:last-child):after{border-left-width:1px;}.elementor-74 .elementor-element.elementor-element-610b70e0 .elementor-icon-list-icon i{color:#FFE660;}.elementor-74 .elementor-element.elementor-element-610b70e0 .elementor-icon-list-icon svg{fill:#FFE660;}.elementor-74 .elementor-element.elementor-element-610b70e0{--e-icon-list-icon-size:16px;--e-icon-list-icon-align:left;--e-icon-list-icon-margin:0 calc(var(--e-icon-list-icon-size, 1em) * 0.25) 0 0;}.elementor-74 .elementor-element.elementor-element-610b70e0 .elementor-icon-list-text{color:var( --e-global-color-secondary );padding-left:3px;}.elementor-74 .elementor-element.elementor-element-610b70e0 .elementor-icon-list-item > .elementor-icon-list-text, .elementor-74 .elementor-element.elementor-element-610b70e0 .elementor-icon-list-item > a{font-family:var( --e-global-typography-accent-font-family ), Sans-serif;font-size:var( --e-global-typography-accent-font-size );font-weight:var( --e-global-typography-accent-font-weight );}.elementor-74 .elementor-element.elementor-element-45b8e3f .jeg-elementor-kit.jkit-heading{text-align:right;}.elementor-74 .elementor-element.elementor-element-45b8e3f .jeg-elementor-kit.jkit-heading .heading-title{-webkit-box-decoration-break:clone;box-decoration-break:clone;display:inline;font-family:var( --e-global-typography-64fd12c-font-family ), Sans-serif;font-size:var( --e-global-typography-64fd12c-font-size );font-weight:var( --e-global-typography-64fd12c-font-weight );line-height:var( --e-global-typography-64fd12c-line-height );letter-spacing:var( --e-global-typography-64fd12c-letter-spacing );word-spacing:var( --e-global-typography-64fd12c-word-spacing );color:var( --e-global-color-secondary );}.elementor-74 .elementor-element.elementor-element-45b8e3f .jeg-elementor-kit.jkit-heading .heading-section-title{margin:0px 0px 0px 0px;}.elementor-74 .elementor-element.elementor-element-45b8e3f .jeg-elementor-kit.jkit-heading .heading-title > span{color:var( --e-global-color-secondary );font-family:var( --e-global-typography-accent-font-family ), Sans-serif;font-size:var( --e-global-typography-accent-font-size );font-weight:var( --e-global-typography-accent-font-weight );padding:0px 0px 0px 0px;}.elementor-74 .elementor-element.elementor-element-4fab5fdc > .elementor-container{max-width:1200px;}.elementor-74 .elementor-element.elementor-element-4fab5fdc{padding:0px 0px 0px 0px;}.elementor-bc-flex-widget .elementor-74 .elementor-element.elementor-element-68a0d38e.elementor-column .elementor-widget-wrap{align-items:center;}.elementor-74 .elementor-element.elementor-element-68a0d38e.elementor-column.elementor-element[data-element_type=\"column\"] > .elementor-widget-wrap.elementor-element-populated{align-content:center;align-items:center;}.elementor-74 .elementor-element.elementor-element-393c696e{text-align:center;}.elementor-74 .elementor-element.elementor-element-393c696e img{width:180px;}.elementor-74 .elementor-element.elementor-element-393c696e > .elementor-widget-container{margin:0px 0px 0px 0px;}.elementor-74 .elementor-element.elementor-element-55c0df4.elementor-column > .elementor-widget-wrap{justify-content:center;}.elementor-74 .elementor-element.elementor-element-55c0df4 > .elementor-element-populated{padding:0px 0px 0px 0px;}.elementor-74 .elementor-element.elementor-element-49d009c1 .jeg-elementor-kit.jkit-nav-menu .jkit-menu > ul, .elementor-74 .elementor-element.elementor-element-49d009c1 .jeg-elementor-kit.jkit-nav-menu .jkit-menu-wrapper:not(.active) .jkit-menu, .elementor-74 .elementor-element.elementor-element-49d009c1 .jeg-elementor-kit.jkit-nav-menu .jkit-menu-wrapper:not(.active) .jkit-menu > li > a{display:flex;}.elementor-74 .elementor-element.elementor-element-49d009c1 .jeg-elementor-kit.jkit-nav-menu .jkit-menu-wrapper .jkit-menu{justify-content:center;}.elementor-74 .elementor-element.elementor-element-49d009c1 .jeg-elementor-kit.jkit-nav-menu .jkit-menu-wrapper .jkit-menu .menu-item .sub-menu{left:unset;top:100%;right:unset;bottom:unset;}.elementor-74 .elementor-element.elementor-element-49d009c1 .jeg-elementor-kit.jkit-nav-menu .jkit-menu-wrapper .jkit-menu .menu-item .sub-menu .menu-item .sub-menu{left:100%;top:unset;right:unset;bottom:unset;}.elementor-74 .elementor-element.elementor-element-49d009c1 .jeg-elementor-kit.jkit-nav-menu .jkit-menu-wrapper{height:112px;padding:0px 0px 0px 0px;margin:0px 0px 0px 0px;border-radius:0px 0px 0px 0px;}.elementor-74 .elementor-element.elementor-element-49d009c1 .jeg-elementor-kit.jkit-nav-menu .jkit-menu-wrapper .jkit-menu > li > a{font-family:\"Commissioner\", Sans-serif;font-size:17px;font-weight:500;padding:0px 20px 0px 20px;color:var( --e-global-color-primary );}.elementor-74 .elementor-element.elementor-element-49d009c1 .jeg-elementor-kit.jkit-nav-menu .jkit-menu-wrapper .jkit-menu > li > a svg{fill:var( --e-global-color-primary );}.elementor-74 .elementor-element.elementor-element-49d009c1 .jeg-elementor-kit.jkit-nav-menu .jkit-menu-wrapper .jkit-menu > li:hover > a{color:#d12d34;}.elementor-74 .elementor-element.elementor-element-49d009c1 .jeg-elementor-kit.jkit-nav-menu .jkit-menu-wrapper .jkit-menu > li:hover > a svg{fill:#d12d34;}.elementor-74 .elementor-element.elementor-element-49d009c1 .jeg-elementor-kit.jkit-nav-menu .jkit-menu-wrapper .jkit-menu > li.current-menu-item > a, .elementor-74 .elementor-element.elementor-element-49d009c1 .jeg-elementor-kit.jkit-nav-menu .jkit-menu-wrapper .jkit-menu > li.current-menu-ancestor > a{color:#d12d34;}.elementor-74 .elementor-element.elementor-element-49d009c1 .jeg-elementor-kit.jkit-nav-menu .jkit-menu-wrapper .jkit-menu > li.current-menu-item > a svg, .elementor-74 .elementor-element.elementor-element-49d009c1 .jeg-elementor-kit.jkit-nav-menu .jkit-menu-wrapper .jkit-menu > li.current-menu-ancestor > a svg{fill:#d12d34;}.elementor-74 .elementor-element.elementor-element-49d009c1 .jeg-elementor-kit.jkit-nav-menu .jkit-menu-wrapper .jkit-menu li.menu-item-has-children > a i, .elementor-74 .elementor-element.elementor-element-49d009c1 .jeg-elementor-kit.jkit-nav-menu .jkit-menu-wrapper .jkit-menu li.menu-item-has-children > a svg{margin:0px 0px 0px 7px;border-style:solid;border-width:0px 0px 0px 0px;}.elementor-74 .elementor-element.elementor-element-49d009c1 .jeg-elementor-kit.jkit-nav-menu .jkit-menu-wrapper .jkit-menu .sub-menu li a{font-family:var( --e-global-typography-e95cb2f-font-family ), Sans-serif;font-size:var( --e-global-typography-e95cb2f-font-size );font-weight:var( --e-global-typography-e95cb2f-font-weight );line-height:var( --e-global-typography-e95cb2f-line-height );letter-spacing:var( --e-global-typography-e95cb2f-letter-spacing );word-spacing:var( --e-global-typography-e95cb2f-word-spacing );padding:15px 15px 15px 15px;}.elementor-74 .elementor-element.elementor-element-49d009c1 .jeg-elementor-kit.jkit-nav-menu .jkit-menu-wrapper .jkit-menu .sub-menu li > a{color:var( --e-global-color-primary );}.elementor-74 .elementor-element.elementor-element-49d009c1 .jeg-elementor-kit.jkit-nav-menu .jkit-menu-wrapper .jkit-menu .sub-menu li > a svg{fill:var( --e-global-color-primary );}.elementor-74 .elementor-element.elementor-element-49d009c1 .jeg-elementor-kit.jkit-nav-menu .jkit-menu-wrapper .jkit-menu .sub-menu li:hover > a{color:#D12D34;}.elementor-74 .elementor-element.elementor-element-49d009c1 .jeg-elementor-kit.jkit-nav-menu .jkit-menu-wrapper .jkit-menu .sub-menu li:hover > a svg{fill:#D12D34;}.elementor-74 .elementor-element.elementor-element-49d009c1 .jeg-elementor-kit.jkit-nav-menu .jkit-menu-wrapper .jkit-menu .sub-menu li.current-menu-item > a{color:#D12D34;}.elementor-74 .elementor-element.elementor-element-49d009c1 .jeg-elementor-kit.jkit-nav-menu .jkit-menu-wrapper .jkit-menu .sub-menu li.current-menu-item > a svg{fill:#D12D34;}.elementor-74 .elementor-element.elementor-element-49d009c1 .jeg-elementor-kit.jkit-nav-menu .jkit-menu-wrapper .jkit-menu li.menu-item-has-children .sub-menu{padding:10px 10px 10px 10px;border-radius:10px 10px 10px 10px;min-width:220px;}.elementor-74 .elementor-element.elementor-element-49d009c1 .jeg-elementor-kit.jkit-nav-menu .jkit-hamburger-menu{float:right;background-color:#E91A2F00;border-style:solid;}.elementor-74 .elementor-element.elementor-element-49d009c1 .jeg-elementor-kit.jkit-nav-menu .jkit-hamburger-menu:hover{background-color:#C9172900;}.elementor-74 .elementor-element.elementor-element-49d009c1 .jeg-elementor-kit.jkit-nav-menu .jkit-menu-wrapper .jkit-nav-identity-panel .jkit-close-menu{background-color:#FFFFFF00;border-style:solid;}.elementor-74 .elementor-element.elementor-element-49d009c1 .jeg-elementor-kit.jkit-nav-menu .jkit-menu-wrapper .jkit-nav-identity-panel .jkit-nav-site-title .jkit-nav-logo img{object-fit:cover;}.elementor-74 .elementor-element.elementor-element-49d009c1 > .elementor-widget-container{padding:0px 0px 0px 0px;}.elementor-74 .elementor-element.elementor-element-49d009c1{width:100%;max-width:100%;}.elementor-bc-flex-widget .elementor-74 .elementor-element.elementor-element-aa4d9d8.elementor-column .elementor-widget-wrap{align-items:center;}.elementor-74 .elementor-element.elementor-element-aa4d9d8.elementor-column.elementor-element[data-element_type=\"column\"] > .elementor-widget-wrap.elementor-element-populated{align-content:center;align-items:center;}.elementor-74 .elementor-element.elementor-element-aa4d9d8.elementor-column > .elementor-widget-wrap{justify-content:flex-end;}.elementor-74 .elementor-element.elementor-element-2fce6580 .elementor-icon-wrapper{text-align:center;}.elementor-74 .elementor-element.elementor-element-2fce6580.elementor-view-stacked .elementor-icon{background-color:var( --e-global-color-primary );}.elementor-74 .elementor-element.elementor-element-2fce6580.elementor-view-framed .elementor-icon, .elementor-74 .elementor-element.elementor-element-2fce6580.elementor-view-default .elementor-icon{color:var( --e-global-color-primary );border-color:var( --e-global-color-primary );}.elementor-74 .elementor-element.elementor-element-2fce6580.elementor-view-framed .elementor-icon, .elementor-74 .elementor-element.elementor-element-2fce6580.elementor-view-default .elementor-icon svg{fill:var( --e-global-color-primary );}.elementor-74 .elementor-element.elementor-element-2fce6580.elementor-view-stacked .elementor-icon:hover{background-color:var( --e-global-color-0f06678 );}.elementor-74 .elementor-element.elementor-element-2fce6580.elementor-view-framed .elementor-icon:hover, .elementor-74 .elementor-element.elementor-element-2fce6580.elementor-view-default .elementor-icon:hover{color:var( --e-global-color-0f06678 );border-color:var( --e-global-color-0f06678 );}.elementor-74 .elementor-element.elementor-element-2fce6580.elementor-view-framed .elementor-icon:hover, .elementor-74 .elementor-element.elementor-element-2fce6580.elementor-view-default .elementor-icon:hover svg{fill:var( --e-global-color-0f06678 );}.elementor-74 .elementor-element.elementor-element-2fce6580 .elementor-icon{font-size:18px;}.elementor-74 .elementor-element.elementor-element-2fce6580 > .elementor-widget-container{padding:13px 13px 13px 13px;}.elementor-74 .elementor-element.elementor-element-2fce6580{width:auto;max-width:auto;}.elementor-74 .elementor-element.elementor-element-5fc4beb2 .jeg-elementor-kit.jkit-search .jkit-search-modal i{font-size:20px;}.elementor-74 .elementor-element.elementor-element-5fc4beb2 .jeg-elementor-kit.jkit-search .jkit-search-modal svg{width:20px;fill:var( --e-global-color-primary );}.elementor-74 .elementor-element.elementor-element-5fc4beb2 .jeg-elementor-kit.jkit-search .jkit-search-modal{color:var( --e-global-color-primary );margin:5px 5px 5px 5px;padding:0px 0px 0px 0px;text-align:center;width:40px;height:40px;line-height:40px;}.elementor-74 .elementor-element.elementor-element-5fc4beb2 .jeg-elementor-kit.jkit-search .jkit-search-modal:hover{color:var( --e-global-color-0f06678 );}.elementor-74 .elementor-element.elementor-element-5fc4beb2 .jeg-elementor-kit.jkit-search .jkit-search-modal:hover svg{fill:var( --e-global-color-0f06678 );}.elementor-74 .elementor-element.elementor-element-5fc4beb2{width:auto;max-width:auto;}.elementor-74 .elementor-element.elementor-element-6ed5b65 > .elementor-container{max-width:1200px;}.elementor-74 .elementor-element.elementor-element-6ed5b65{border-style:solid;border-width:1px 0px 0px 0px;border-color:#E4E4E4;transition:background 0.3s, border 0.3s, border-radius 0.3s, box-shadow 0.3s;padding:0px 0px 0px 0px;z-index:99;}.elementor-74 .elementor-element.elementor-element-6ed5b65 > .elementor-background-overlay{transition:background 0.3s, border-radius 0.3s, opacity 0.3s;}.elementor-74 .elementor-element.elementor-element-75353838 .jeg-elementor-kit.jkit-product-categories.display-grid{--product-grid-column:6;grid-column-gap:0px;grid-row-gap:0px;}.elementor-74 .elementor-element.elementor-element-75353838 .jeg-elementor-kit.jkit-product-categories.layout-horizontal{justify-content:center;}.elementor-74 .elementor-element.elementor-element-75353838 .jeg-elementor-kit.jkit-product-categories.layout-horizontal .jkit-product-category{margin-right:calc(80px/2);margin-left:calc(80px/2);}.elementor-74 .elementor-element.elementor-element-75353838 .jeg-elementor-kit.jkit-product-categories.layout-vertical .jkit-product-category:not(:last-child){padding-bottom:calc(80px/2);}.elementor-74 .elementor-element.elementor-element-75353838 .jeg-elementor-kit.jkit-product-categories .jkit-product-category-content{text-align:left;}.elementor-74 .elementor-element.elementor-element-75353838 .jeg-elementor-kit.jkit-product-categories .jkit-product-category .jkit-product-category-content{color:var( --e-global-color-primary );}.elementor-74 .elementor-element.elementor-element-75353838 .jeg-elementor-kit.jkit-product-categories .jkit-product-category > a .jkit-product-category-content{font-family:\"DM Sans\", Sans-serif;font-size:14px;font-weight:600;}.elementor-74 .elementor-element.elementor-element-75353838 .jeg-elementor-kit.jkit-product-categories .jkit-product-category .jkit-product-category-content .jkit-product-category-count{color:var( --e-global-color-text );}.elementor-74 .elementor-element.elementor-element-75353838 .jeg-elementor-kit.jkit-product-categories .jkit-product-category > a .jkit-product-category-count{font-family:var( --e-global-typography-64fd12c-font-family ), Sans-serif;font-size:var( --e-global-typography-64fd12c-font-size );font-weight:var( --e-global-typography-64fd12c-font-weight );line-height:var( --e-global-typography-64fd12c-line-height );letter-spacing:var( --e-global-typography-64fd12c-letter-spacing );word-spacing:var( --e-global-typography-64fd12c-word-spacing );}.elementor-74 .elementor-element.elementor-element-75353838 .jeg-elementor-kit.jkit-product-categories .jkit-category-thumbnail{text-align:left;}.elementor-74 .elementor-element.elementor-element-75353838 .jeg-elementor-kit.jkit-product-categories .jkit-product-category .jkit-category-thumbnail{width:70%;overflow:hidden;}.elementor-74 .elementor-element.elementor-element-75353838 .jeg-elementor-kit.jkit-product-categories .jkit-product-category .jkit-category-thumbnail img{margin:0px 0px 0px 0px;}.elementor-74 .elementor-element.elementor-element-75353838 > .elementor-widget-container{margin:20px 0px 20px 0px;}@media(max-width:1024px) and (min-width:768px){.elementor-74 .elementor-element.elementor-element-7c551929{width:100%;}.elementor-74 .elementor-element.elementor-element-3f91663e{width:100%;}.elementor-74 .elementor-element.elementor-element-68a0d38e{width:50%;}.elementor-74 .elementor-element.elementor-element-55c0df4{width:50%;}.elementor-74 .elementor-element.elementor-element-aa4d9d8{width:100%;}}@media(max-width:1024px){.elementor-74 .elementor-element.elementor-element-20de6ee6{padding:5px 10px 5px 10px;}.elementor-74 .elementor-element.elementor-element-610b70e0 .elementor-icon-list-items:not(.elementor-inline-items) .elementor-icon-list-item:not(:last-child){padding-bottom:calc(25px/2);}.elementor-74 .elementor-element.elementor-element-610b70e0 .elementor-icon-list-items:not(.elementor-inline-items) .elementor-icon-list-item:not(:first-child){margin-top:calc(25px/2);}.elementor-74 .elementor-element.elementor-element-610b70e0 .elementor-icon-list-items.elementor-inline-items .elementor-icon-list-item{margin-right:calc(25px/2);margin-left:calc(25px/2);}.elementor-74 .elementor-element.elementor-element-610b70e0 .elementor-icon-list-items.elementor-inline-items{margin-right:calc(-25px/2);margin-left:calc(-25px/2);}body.rtl .elementor-74 .elementor-element.elementor-element-610b70e0 .elementor-icon-list-items.elementor-inline-items .elementor-icon-list-item:after{left:calc(-25px/2);}body:not(.rtl) .elementor-74 .elementor-element.elementor-element-610b70e0 .elementor-icon-list-items.elementor-inline-items .elementor-icon-list-item:after{right:calc(-25px/2);}.elementor-74 .elementor-element.elementor-element-610b70e0 .elementor-icon-list-item > .elementor-icon-list-text, .elementor-74 .elementor-element.elementor-element-610b70e0 .elementor-icon-list-item > a{font-size:var( --e-global-typography-accent-font-size );}.elementor-74 .elementor-element.elementor-element-45b8e3f .jeg-elementor-kit.jkit-heading{text-align:center;}.elementor-74 .elementor-element.elementor-element-45b8e3f .jeg-elementor-kit.jkit-heading .heading-title{font-size:var( --e-global-typography-64fd12c-font-size );line-height:var( --e-global-typography-64fd12c-line-height );letter-spacing:var( --e-global-typography-64fd12c-letter-spacing );word-spacing:var( --e-global-typography-64fd12c-word-spacing );}.elementor-74 .elementor-element.elementor-element-45b8e3f .jeg-elementor-kit.jkit-heading .heading-title > span{font-size:var( --e-global-typography-accent-font-size );}.elementor-74 .elementor-element.elementor-element-68a0d38e > .elementor-element-populated{margin:0px 0px 0px 10px;--e-column-margin-right:0px;--e-column-margin-left:10px;}.elementor-74 .elementor-element.elementor-element-393c696e img{width:180px;}.elementor-bc-flex-widget .elementor-74 .elementor-element.elementor-element-55c0df4.elementor-column .elementor-widget-wrap{align-items:center;}.elementor-74 .elementor-element.elementor-element-55c0df4.elementor-column.elementor-element[data-element_type=\"column\"] > .elementor-widget-wrap.elementor-element-populated{align-content:center;align-items:center;}.elementor-74 .elementor-element.elementor-element-55c0df4.elementor-column > .elementor-widget-wrap{justify-content:flex-end;}.elementor-74 .elementor-element.elementor-element-55c0df4 > .elementor-element-populated{padding:0px 20px 0px 0px;}.elementor-74 .elementor-element.elementor-element-49d009c1 .jeg-elementor-kit.jkit-nav-menu .jkit-menu-wrapper{padding:25px 25px 25px 25px;}.elementor-74 .elementor-element.elementor-element-49d009c1 .jeg-elementor-kit.jkit-nav-menu .jkit-menu-wrapper .jkit-menu > li > a{font-size:14px;padding:15px 15px 15px 6px;color:var( --e-global-color-primary );}.elementor-74 .elementor-element.elementor-element-49d009c1 .jeg-elementor-kit.jkit-nav-menu .jkit-menu-wrapper .jkit-menu > li > a svg{fill:var( --e-global-color-primary );}.elementor-74 .elementor-element.elementor-element-49d009c1 .jeg-elementor-kit.jkit-nav-menu .jkit-menu-wrapper .jkit-menu > li:hover > a{color:var( --e-global-color-0f06678 );}.elementor-74 .elementor-element.elementor-element-49d009c1 .jeg-elementor-kit.jkit-nav-menu .jkit-menu-wrapper .jkit-menu > li:hover > a svg{fill:var( --e-global-color-0f06678 );}.elementor-74 .elementor-element.elementor-element-49d009c1 .jeg-elementor-kit.jkit-nav-menu .jkit-menu-wrapper .jkit-menu > li.current-menu-item > a, .elementor-74 .elementor-element.elementor-element-49d009c1 .jeg-elementor-kit.jkit-nav-menu .jkit-menu-wrapper .jkit-menu > li.current-menu-ancestor > a{color:var( --e-global-color-0f06678 );}.elementor-74 .elementor-element.elementor-element-49d009c1 .jeg-elementor-kit.jkit-nav-menu .jkit-menu-wrapper .jkit-menu > li.current-menu-item > a svg, .elementor-74 .elementor-element.elementor-element-49d009c1 .jeg-elementor-kit.jkit-nav-menu .jkit-menu-wrapper .jkit-menu > li.current-menu-ancestor > a svg{fill:var( --e-global-color-0f06678 );}.elementor-74 .elementor-element.elementor-element-49d009c1 .jeg-elementor-kit.jkit-nav-menu .jkit-menu-wrapper .jkit-menu li.menu-item-has-children > a i, .elementor-74 .elementor-element.elementor-element-49d009c1 .jeg-elementor-kit.jkit-nav-menu .jkit-menu-wrapper .jkit-menu li.menu-item-has-children > a svg{margin:0px 0px 0px 0px;border-width:0px 0px 0px 0px;}.elementor-74 .elementor-element.elementor-element-49d009c1 .jeg-elementor-kit.jkit-nav-menu .jkit-menu-wrapper .jkit-menu .sub-menu li a{font-size:var( --e-global-typography-e95cb2f-font-size );line-height:var( --e-global-typography-e95cb2f-line-height );letter-spacing:var( --e-global-typography-e95cb2f-letter-spacing );word-spacing:var( --e-global-typography-e95cb2f-word-spacing );}.elementor-74 .elementor-element.elementor-element-49d009c1 .jeg-elementor-kit.jkit-nav-menu .jkit-hamburger-menu i{font-size:26px;}.elementor-74 .elementor-element.elementor-element-49d009c1 .jeg-elementor-kit.jkit-nav-menu .jkit-hamburger-menu svg{width:26px;fill:#1E251C;}.elementor-74 .elementor-element.elementor-element-49d009c1 .jeg-elementor-kit.jkit-nav-menu .jkit-hamburger-menu{border-width:0px 0px 0px 0px;border-radius:0px 0px 0px 0px;color:#1E251C;margin:0px 0px 0px 0px;padding:10px 0px 10px 10px;}.elementor-74 .elementor-element.elementor-element-49d009c1 .jeg-elementor-kit.jkit-nav-menu .jkit-hamburger-menu:hover{color:#79D779;}.elementor-74 .elementor-element.elementor-element-49d009c1 .jeg-elementor-kit.jkit-nav-menu .jkit-hamburger-menu:hover svg{fill:#79D779;}.elementor-74 .elementor-element.elementor-element-49d009c1 .jeg-elementor-kit.jkit-nav-menu .jkit-menu-wrapper .jkit-nav-identity-panel .jkit-close-menu i{font-size:20px;}.elementor-74 .elementor-element.elementor-element-49d009c1 .jeg-elementor-kit.jkit-nav-menu .jkit-menu-wrapper .jkit-nav-identity-panel .jkit-close-menu svg{width:20px;fill:var( --e-global-color-f31ac8b );}.elementor-74 .elementor-element.elementor-element-49d009c1 .jeg-elementor-kit.jkit-nav-menu .jkit-menu-wrapper .jkit-nav-identity-panel .jkit-close-menu{border-width:0px 0px 0px 0px;border-radius:50px 50px 50px 50px;color:var( --e-global-color-f31ac8b );padding:22px 32px 15px 15px;}.elementor-74 .elementor-element.elementor-element-49d009c1 .jeg-elementor-kit.jkit-nav-menu .jkit-menu-wrapper .jkit-nav-identity-panel .jkit-close-menu:hover{color:var( --e-global-color-accent );}.elementor-74 .elementor-element.elementor-element-49d009c1 .jeg-elementor-kit.jkit-nav-menu .jkit-menu-wrapper .jkit-nav-identity-panel .jkit-close-menu:hover svg{fill:var( --e-global-color-accent );}.elementor-74 .elementor-element.elementor-element-49d009c1 .jeg-elementor-kit.jkit-nav-menu .jkit-menu-wrapper .jkit-nav-identity-panel .jkit-nav-site-title .jkit-nav-logo img{max-width:250px;width:135px;height:55px;object-fit:contain;}.elementor-74 .elementor-element.elementor-element-49d009c1 > .elementor-widget-container{margin:0px 0px 0px 0px;}.elementor-74 .elementor-element.elementor-element-6ed5b65{margin-top:0px;margin-bottom:0px;}.elementor-74 .elementor-element.elementor-element-75353838 .jeg-elementor-kit.jkit-product-categories.display-grid{--product-grid-column:3;grid-column-gap:2%;grid-row-gap:20px;}.elementor-74 .elementor-element.elementor-element-75353838 .jeg-elementor-kit.jkit-product-categories.layout-horizontal{justify-content:center;}.elementor-74 .elementor-element.elementor-element-75353838 .jeg-elementor-kit.jkit-product-categories.layout-horizontal .jkit-product-category{margin-right:calc(130px/2);margin-left:calc(130px/2);}.elementor-74 .elementor-element.elementor-element-75353838 .jeg-elementor-kit.jkit-product-categories.layout-vertical .jkit-product-category:not(:last-child){padding-bottom:calc(130px/2);}.elementor-74 .elementor-element.elementor-element-75353838 .jeg-elementor-kit.jkit-product-categories .jkit-product-category > a .jkit-product-category-content{font-size:14px;}.elementor-74 .elementor-element.elementor-element-75353838 .jeg-elementor-kit.jkit-product-categories .jkit-product-category > a .jkit-product-category-count{font-size:var( --e-global-typography-64fd12c-font-size );line-height:var( --e-global-typography-64fd12c-line-height );letter-spacing:var( --e-global-typography-64fd12c-letter-spacing );word-spacing:var( --e-global-typography-64fd12c-word-spacing );}.elementor-74 .elementor-element.elementor-element-75353838 .jeg-elementor-kit.jkit-product-categories .jkit-product-category .jkit-category-thumbnail{width:100%;height:0%;}}@media(max-width:767px){.elementor-74 .elementor-element.elementor-element-20de6ee6{padding:0px 5px 0px 5px;}.elementor-74 .elementor-element.elementor-element-610b70e0 .elementor-icon-list-item > .elementor-icon-list-text, .elementor-74 .elementor-element.elementor-element-610b70e0 .elementor-icon-list-item > a{font-size:var( --e-global-typography-accent-font-size );}.elementor-74 .elementor-element.elementor-element-45b8e3f .jeg-elementor-kit.jkit-heading{text-align:center;}.elementor-74 .elementor-element.elementor-element-45b8e3f .jeg-elementor-kit.jkit-heading .heading-title{font-size:var( --e-global-typography-64fd12c-font-size );line-height:var( --e-global-typography-64fd12c-line-height );letter-spacing:var( --e-global-typography-64fd12c-letter-spacing );word-spacing:var( --e-global-typography-64fd12c-word-spacing );}.elementor-74 .elementor-element.elementor-element-45b8e3f .jeg-elementor-kit.jkit-heading .heading-title > span{font-size:var( --e-global-typography-accent-font-size );}.elementor-74 .elementor-element.elementor-element-68a0d38e{width:50%;}.elementor-74 .elementor-element.elementor-element-68a0d38e > .elementor-element-populated{margin:0px 0px 0px 5px;--e-column-margin-right:0px;--e-column-margin-left:5px;}.elementor-74 .elementor-element.elementor-element-393c696e img{width:145px;}.elementor-74 .elementor-element.elementor-element-55c0df4{width:50%;}.elementor-74 .elementor-element.elementor-element-55c0df4 > .elementor-element-populated{padding:0px 15px 0px 0px;}.elementor-74 .elementor-element.elementor-element-49d009c1 .jeg-elementor-kit.jkit-nav-menu .jkit-menu-wrapper .jkit-menu > li > a{font-size:13px;}.elementor-74 .elementor-element.elementor-element-49d009c1 .jeg-elementor-kit.jkit-nav-menu .jkit-menu-wrapper .jkit-menu .sub-menu li a{font-size:var( --e-global-typography-e95cb2f-font-size );line-height:var( --e-global-typography-e95cb2f-line-height );letter-spacing:var( --e-global-typography-e95cb2f-letter-spacing );word-spacing:var( --e-global-typography-e95cb2f-word-spacing );}.elementor-74 .elementor-element.elementor-element-49d009c1 .jeg-elementor-kit.jkit-nav-menu .jkit-hamburger-menu i{font-size:25px;}.elementor-74 .elementor-element.elementor-element-49d009c1 .jeg-elementor-kit.jkit-nav-menu .jkit-hamburger-menu svg{width:25px;}.elementor-74 .elementor-element.elementor-element-49d009c1 .jeg-elementor-kit.jkit-nav-menu .jkit-hamburger-menu{padding:12px 0px 13px 14px;}.elementor-74 .elementor-element.elementor-element-49d009c1 .jeg-elementor-kit.jkit-nav-menu .jkit-menu-wrapper .jkit-nav-identity-panel .jkit-nav-site-title .jkit-nav-logo img{max-width:240px;}.elementor-74 .elementor-element.elementor-element-75353838 .jeg-elementor-kit.jkit-product-categories.display-grid{--product-grid-column:2;grid-column-gap:15px;grid-row-gap:15px;}.elementor-74 .elementor-element.elementor-element-75353838 .jeg-elementor-kit.jkit-product-categories.layout-horizontal .jkit-product-category{margin-right:calc(55px/2);margin-left:calc(55px/2);}.elementor-74 .elementor-element.elementor-element-75353838 .jeg-elementor-kit.jkit-product-categories.layout-vertical .jkit-product-category:not(:last-child){padding-bottom:calc(55px/2);}.elementor-74 .elementor-element.elementor-element-75353838 .jeg-elementor-kit.jkit-product-categories .jkit-product-category > a .jkit-product-category-content{font-size:13px;}.elementor-74 .elementor-element.elementor-element-75353838 .jeg-elementor-kit.jkit-product-categories .jkit-product-category > a .jkit-product-category-count{font-size:var( --e-global-typography-64fd12c-font-size );line-height:var( --e-global-typography-64fd12c-line-height );letter-spacing:var( --e-global-typography-64fd12c-letter-spacing );word-spacing:var( --e-global-typography-64fd12c-word-spacing );}}@media (max-width: 1024px) {.elementor-element.elementor-element-49d009c1 .jeg-elementor-kit.jkit-nav-menu .jkit-hamburger-menu { display: block; } }@media (max-width: 1024px) {.elementor-element.elementor-element-49d009c1 .jeg-elementor-kit.jkit-nav-menu .jkit-menu-wrapper { width: 100%; max-width: 360px; border-radius: 0; background-color: #f7f7f7; width: 100%; position: fixed; top: 0; left: -110%; height: 100%!important; box-shadow: 0 10px 30px 0 rgba(255,165,0,0); overflow-y: auto; overflow-x: hidden; padding-top: 0; padding-left: 0; padding-right: 0; display: flex; flex-direction: column-reverse; justify-content: flex-end; -moz-transition: left .6s cubic-bezier(.6,.1,.68,.53), width .6s; -webkit-transition: left .6s cubic-bezier(.6,.1,.68,.53), width .6s; -o-transition: left .6s cubic-bezier(.6,.1,.68,.53), width .6s; -ms-transition: left .6s cubic-bezier(.6,.1,.68,.53), width .6s; transition: left .6s cubic-bezier(.6,.1,.68,.53), width .6s; } }@media (max-width: 1024px) {.elementor-element.elementor-element-49d009c1 .jeg-elementor-kit.jkit-nav-menu .jkit-menu-wrapper.active { left: 0; } }@media (max-width: 1024px) {.elementor-element.elementor-element-49d009c1 .jeg-elementor-kit.jkit-nav-menu .jkit-menu-wrapper .jkit-menu-container { overflow-y: hidden; } }@media (max-width: 1024px) {.elementor-element.elementor-element-49d009c1 .jeg-elementor-kit.jkit-nav-menu .jkit-menu-wrapper .jkit-nav-identity-panel { padding: 10px 0px 10px 0px; display: block; position: relative; z-index: 5; width: 100%; } }@media (max-width: 1024px) {.elementor-element.elementor-element-49d009c1 .jeg-elementor-kit.jkit-nav-menu .jkit-menu-wrapper .jkit-nav-identity-panel .jkit-nav-site-title { display: inline-block; } }@media (max-width: 1024px) {.elementor-element.elementor-element-49d009c1 .jeg-elementor-kit.jkit-nav-menu .jkit-menu-wrapper .jkit-nav-identity-panel .jkit-close-menu { display: block; } }@media (max-width: 1024px) {.elementor-element.elementor-element-49d009c1 .jeg-elementor-kit.jkit-nav-menu .jkit-menu-wrapper .jkit-menu { display: block; height: 100%; overflow-y: auto; } }@media (max-width: 1024px) {.elementor-element.elementor-element-49d009c1 .jeg-elementor-kit.jkit-nav-menu .jkit-menu-wrapper .jkit-menu li.menu-item-has-children > a i { margin-left: auto; border: 1px solid var(--jkit-border-color); border-radius: 3px; padding: 4px 15px; } }@media (max-width: 1024px) {.elementor-element.elementor-element-49d009c1 .jeg-elementor-kit.jkit-nav-menu .jkit-menu-wrapper .jkit-menu li.menu-item-has-children > a svg { margin-left: auto; border: 1px solid var(--jkit-border-color); border-radius: 3px; } }@media (max-width: 1024px) {.elementor-element.elementor-element-49d009c1 .jeg-elementor-kit.jkit-nav-menu .jkit-menu-wrapper .jkit-menu li.menu-item-has-children .sub-menu { position: inherit; box-shadow: none; background: none; } }@media (max-width: 1024px) {.elementor-element.elementor-element-49d009c1 .jeg-elementor-kit.jkit-nav-menu .jkit-menu-wrapper .jkit-menu li { display: block; width: 100%; position: inherit; } }@media (max-width: 1024px) {.elementor-element.elementor-element-49d009c1 .jeg-elementor-kit.jkit-nav-menu .jkit-menu-wrapper .jkit-menu li .sub-menu { display: none; max-height: 2500px; opacity: 0; visibility: hidden; transition: max-height 5s ease-out; } }@media (max-width: 1024px) {.elementor-element.elementor-element-49d009c1 .jeg-elementor-kit.jkit-nav-menu .jkit-menu-wrapper .jkit-menu li .sub-menu.dropdown-open { display: block; opacity: 1; visibility: visible; } }@media (max-width: 1024px) {.elementor-element.elementor-element-49d009c1 .jeg-elementor-kit.jkit-nav-menu .jkit-menu-wrapper .jkit-menu li a { display: block; } }@media (max-width: 1024px) {.elementor-element.elementor-element-49d009c1 .jeg-elementor-kit.jkit-nav-menu .jkit-menu-wrapper .jkit-menu li a i { float: right; } }@media (max-width: 1024px) {.elementor-element.elementor-element-49d009c1 .jeg-elementor-kit.jkit-nav-menu .jkit-menu-wrapper .jkit-menu li a svg { float: right } }@media (min-width: 1025px) {.elementor-element.elementor-element-49d009c1 .jeg-elementor-kit.jkit-nav-menu .jkit-menu-wrapper .jkit-menu-container { height: 100%; } }@media (max-width: 1024px) {.admin-bar .elementor-element.elementor-element-49d009c1 .jeg-elementor-kit.jkit-nav-menu .jkit-menu-wrapper { top: 32px; } }@media (max-width: 782px) {.admin-bar .elementor-element.elementor-element-49d009c1 .jeg-elementor-kit.jkit-nav-menu .jkit-menu-wrapper { top: 46px; } }</style> <div class=\"elementor elementor-74\" data-elementor-id=\"74\" data-elementor-type=\"page\">\n",
              "<section class=\"elementor-section elementor-top-section elementor-element elementor-element-20de6ee6 elementor-section-boxed elementor-section-height-default elementor-section-height-default\" data-element_type=\"section\" data-id=\"20de6ee6\" data-settings='{\"background_background\":\"classic\"}'>\n",
              "<div class=\"elementor-container elementor-column-gap-default\">\n",
              "<div class=\"elementor-column elementor-col-50 elementor-top-column elementor-element elementor-element-7c551929\" data-element_type=\"column\" data-id=\"7c551929\">\n",
              "<div class=\"elementor-widget-wrap elementor-element-populated\">\n",
              "<div class=\"elementor-element elementor-element-610b70e0 elementor-icon-list--layout-inline elementor-tablet-align-center elementor-align-left elementor-list-item-link-full_width elementor-widget elementor-widget-icon-list\" data-element_type=\"widget\" data-id=\"610b70e0\" data-widget_type=\"icon-list.default\">\n",
              "<div class=\"elementor-widget-container\">\n",
              "<link href=\"https://www.alamofarmstx.com/wp-content/plugins/elementor/assets/css/widget-icon-list.min.css\" rel=\"stylesheet\"/> <ul class=\"elementor-icon-list-items elementor-inline-items\">\n",
              "<li class=\"elementor-icon-list-item elementor-inline-item\">\n",
              "<a href=\"tel:+12109982800\">\n",
              "<span class=\"elementor-icon-list-icon\">\n",
              "<i aria-hidden=\"true\" class=\"fas fa-phone-alt\"></i> </span>\n",
              "<span class=\"elementor-icon-list-text\">(210) 998-2800</span>\n",
              "</a>\n",
              "</li>\n",
              "<li class=\"elementor-icon-list-item elementor-inline-item\">\n",
              "<a href=\"https://g.page/alamofarms?share\">\n",
              "<span class=\"elementor-icon-list-icon\">\n",
              "<i aria-hidden=\"true\" class=\"fas fa-map-marker-alt\"></i> </span>\n",
              "<span class=\"elementor-icon-list-text\">Store Location</span>\n",
              "</a>\n",
              "</li>\n",
              "</ul>\n",
              "</div>\n",
              "</div>\n",
              "</div>\n",
              "</div>\n",
              "<div class=\"elementor-column elementor-col-50 elementor-top-column elementor-element elementor-element-3f91663e\" data-element_type=\"column\" data-id=\"3f91663e\">\n",
              "<div class=\"elementor-widget-wrap elementor-element-populated\">\n",
              "<div class=\"elementor-element elementor-element-45b8e3f elementor-widget elementor-widget-jkit_heading\" data-element_type=\"widget\" data-id=\"45b8e3f\" data-widget_type=\"jkit_heading.default\">\n",
              "<div class=\"elementor-widget-container\">\n",
              "<div class=\"jeg-elementor-kit jkit-heading align-right align-tablet-center align-mobile-center jeg_module_379__65c4f9c0bd15c\"><div class=\"heading-section-title display-inline-block\"><h2 class=\"heading-title\">STORE PICKUP <span class=\"style-color\"><span>READY IN 2 HOURS!</span></span></h2></div></div> </div>\n",
              "</div>\n",
              "</div>\n",
              "</div>\n",
              "</div>\n",
              "</section>\n",
              "<section class=\"elementor-section elementor-top-section elementor-element elementor-element-4fab5fdc elementor-section-boxed elementor-section-height-default elementor-section-height-default\" data-element_type=\"section\" data-id=\"4fab5fdc\">\n",
              "<div class=\"elementor-container elementor-column-gap-default\">\n",
              "<div class=\"elementor-column elementor-col-25 elementor-top-column elementor-element elementor-element-68a0d38e\" data-element_type=\"column\" data-id=\"68a0d38e\">\n",
              "<div class=\"elementor-widget-wrap elementor-element-populated\">\n",
              "<div class=\"elementor-element elementor-element-393c696e elementor-widget elementor-widget-image\" data-element_type=\"widget\" data-id=\"393c696e\" data-widget_type=\"image.default\">\n",
              "<div class=\"elementor-widget-container\">\n",
              "<style>/*! elementor - v3.11.5 - 14-03-2023 */\n",
              ".elementor-widget-image{text-align:center}.elementor-widget-image a{display:inline-block}.elementor-widget-image a img[src$=\".svg\"]{width:48px}.elementor-widget-image img{vertical-align:middle;display:inline-block}</style> <a href=\"https://www.alamofarmstx.com/\">\n",
              "<img alt=\"\" class=\"attachment-full size-full wp-image-83\" decoding=\"async\" height=\"764\" loading=\"lazy\" sizes=\"(max-width: 1490px) 100vw, 1490px\" src=\"https://i0.wp.com/www.alamofarmstx.com/wp-content/uploads/2022/08/alamo-farm-logo.png?fit=1490%2C764&amp;ssl=1\" srcset=\"https://i0.wp.com/www.alamofarmstx.com/wp-content/uploads/2022/08/alamo-farm-logo.png?w=1490&amp;ssl=1 1490w, https://i0.wp.com/www.alamofarmstx.com/wp-content/uploads/2022/08/alamo-farm-logo.png?resize=600%2C308&amp;ssl=1 600w, https://i0.wp.com/www.alamofarmstx.com/wp-content/uploads/2022/08/alamo-farm-logo.png?resize=300%2C154&amp;ssl=1 300w, https://i0.wp.com/www.alamofarmstx.com/wp-content/uploads/2022/08/alamo-farm-logo.png?resize=1024%2C525&amp;ssl=1 1024w, https://i0.wp.com/www.alamofarmstx.com/wp-content/uploads/2022/08/alamo-farm-logo.png?resize=768%2C394&amp;ssl=1 768w, https://i0.wp.com/www.alamofarmstx.com/wp-content/uploads/2022/08/alamo-farm-logo.png?resize=1200%2C615&amp;ssl=1 1200w\" width=\"1490\"/> </a>\n",
              "</div>\n",
              "</div>\n",
              "</div>\n",
              "</div>\n",
              "<div class=\"elementor-column elementor-col-50 elementor-top-column elementor-element elementor-element-55c0df4\" data-element_type=\"column\" data-id=\"55c0df4\">\n",
              "<div class=\"elementor-widget-wrap elementor-element-populated\">\n",
              "<div class=\"elementor-element elementor-element-49d009c1 elementor-widget__width-inherit elementor-widget elementor-widget-jkit_nav_menu\" data-element_type=\"widget\" data-id=\"49d009c1\" data-widget_type=\"jkit_nav_menu.default\">\n",
              "<div class=\"elementor-widget-container\">\n",
              "<div class=\"jeg-elementor-kit jkit-nav-menu break-point-tablet submenu-click-title jeg_module_379_1_65c4f9c0c2e2e\" data-item-indicator='&lt;i aria-hidden=\"true\" class=\"jki jki-angle-down-solid\"&gt;&lt;/i&gt;'><button class=\"jkit-hamburger-menu\"><i aria-hidden=\"true\" class=\"jki jki-menu1-light\"></i></button>\n",
              "<div class=\"jkit-menu-wrapper\"><div class=\"jkit-menu-container\"><ul class=\"jkit-menu jkit-menu-direction-flex jkit-submenu-position-top\" id=\"menu-alamo-farms\"><li class=\"menu-item menu-item-type-post_type menu-item-object-page menu-item-home menu-item-78\" id=\"menu-item-78\"><a href=\"https://www.alamofarmstx.com/\">Home</a></li>\n",
              "<li class=\"menu-item menu-item-type-post_type menu-item-object-page current-page-ancestor current-menu-ancestor current-menu-parent current-page-parent current_page_parent current_page_ancestor menu-item-has-children menu-item-357\" id=\"menu-item-357\"><a href=\"https://www.alamofarmstx.com/shop/\">Shop</a>\n",
              "<ul class=\"sub-menu\">\n",
              "<li class=\"menu-item menu-item-type-custom menu-item-object-custom menu-item-359\" id=\"menu-item-359\"><a href=\"https://www.alamofarmstx.com/shop/\">ALL</a></li>\n",
              "<li class=\"menu-item menu-item-type-post_type menu-item-object-page current-menu-item page_item page-item-379 current_page_item menu-item-381\" id=\"menu-item-381\"><a aria-current=\"page\" href=\"https://www.alamofarmstx.com/shop/chicken/\">Chicken</a></li>\n",
              "<li class=\"menu-item menu-item-type-post_type menu-item-object-page menu-item-393\" id=\"menu-item-393\"><a href=\"https://www.alamofarmstx.com/shop/eggs/\">Eggs</a></li>\n",
              "<li class=\"menu-item menu-item-type-post_type menu-item-object-page menu-item-417\" id=\"menu-item-417\"><a href=\"https://www.alamofarmstx.com/shop/meat-market/\">Meat Market</a></li>\n",
              "</ul>\n",
              "</li>\n",
              "<li class=\"menu-item menu-item-type-post_type menu-item-object-page menu-item-325\" id=\"menu-item-325\"><a href=\"https://www.alamofarmstx.com/faq/\">FAQ</a></li>\n",
              "<li class=\"menu-item menu-item-type-post_type menu-item-object-page menu-item-335\" id=\"menu-item-335\"><a href=\"https://www.alamofarmstx.com/contact-us/\">Contact Us</a></li>\n",
              "<li class=\"menu-item menu-item-type-post_type menu-item-object-page menu-item-430\" id=\"menu-item-430\"><a href=\"https://www.alamofarmstx.com/about-us/\">About Us</a></li>\n",
              "</ul></div>\n",
              "<div class=\"jkit-nav-identity-panel\">\n",
              "<div class=\"jkit-nav-site-title\"><a class=\"jkit-nav-logo\" href=\"https://www.alamofarmstx.com\"><img src=\"https://i0.wp.com/www.alamofarmstx.com/wp-content/uploads/2022/08/alamo-farm-logo.png?fit=1490%2C764&amp;ssl=1\"/></a></div>\n",
              "<button class=\"jkit-close-menu\"><i aria-hidden=\"true\" class=\"jki jki-times-solid\"></i></button>\n",
              "</div>\n",
              "</div>\n",
              "<div class=\"jkit-overlay\"></div></div> </div>\n",
              "</div>\n",
              "</div>\n",
              "</div>\n",
              "<div class=\"elementor-column elementor-col-25 elementor-top-column elementor-element elementor-element-aa4d9d8 elementor-hidden-tablet elementor-hidden-mobile\" data-element_type=\"column\" data-id=\"aa4d9d8\">\n",
              "<div class=\"elementor-widget-wrap elementor-element-populated\">\n",
              "<div class=\"elementor-element elementor-element-2fce6580 elementor-widget__width-auto elementor-view-default elementor-widget elementor-widget-icon\" data-element_type=\"widget\" data-id=\"2fce6580\" data-widget_type=\"icon.default\">\n",
              "<div class=\"elementor-widget-container\">\n",
              "<div class=\"elementor-icon-wrapper\">\n",
              "<a class=\"elementor-icon\" href=\"https://www.alamofarmstx.com/cart/\">\n",
              "<i aria-hidden=\"true\" class=\"jki jki-shopping-bag-1-light\"></i> </a>\n",
              "</div>\n",
              "</div>\n",
              "</div>\n",
              "<div class=\"elementor-element elementor-element-5fc4beb2 elementor-widget__width-auto elementor-widget elementor-widget-jkit_search\" data-element_type=\"widget\" data-id=\"5fc4beb2\" data-widget_type=\"jkit_search.default\">\n",
              "<div class=\"elementor-widget-container\">\n",
              "<div class=\"jeg-elementor-kit jkit-search jeg_module_379_2_65c4f9c0cb355\"><a class=\"jkit-search-modal\" href=\"#\"><i aria-hidden=\"true\" class=\"jki jki-search-line\"></i></a>\n",
              "<div class=\"jkit-modal-search-panel-wrapper\">\n",
              "<div class=\"jkit-modal-search-panel\">\n",
              "<div class=\"jkit-search-panel\">\n",
              "<form action=\"https://www.alamofarmstx.com/\" class=\"jkit-search-group\" method=\"get\" role=\"search\">\n",
              "<input class=\"jkit-search-field\" name=\"s\" placeholder=\"Search...\" type=\"search\" value=\"\"/>\n",
              "<button class=\"jkit-search-button\" type=\"submit\"><i aria-hidden=\"true\" class=\"jki jki-search-line\"></i></button>\n",
              "</form>\n",
              "</div>\n",
              "</div>\n",
              "</div></div> </div>\n",
              "</div>\n",
              "</div>\n",
              "</div>\n",
              "</div>\n",
              "</section>\n",
              "<section class=\"elementor-section elementor-top-section elementor-element elementor-element-6ed5b65 elementor-hidden-desktop elementor-hidden-tablet elementor-hidden-mobile elementor-section-boxed elementor-section-height-default elementor-section-height-default\" data-element_type=\"section\" data-id=\"6ed5b65\">\n",
              "<div class=\"elementor-container elementor-column-gap-default\">\n",
              "<div class=\"elementor-column elementor-col-100 elementor-top-column elementor-element elementor-element-e138577\" data-element_type=\"column\" data-id=\"e138577\">\n",
              "<div class=\"elementor-widget-wrap elementor-element-populated\">\n",
              "<div class=\"elementor-element elementor-element-75353838 elementor-widget elementor-widget-jkit_product_categories\" data-element_type=\"widget\" data-id=\"75353838\" data-widget_type=\"jkit_product_categories.default\">\n",
              "<div class=\"elementor-widget-container\">\n",
              "<div class=\"jeg-elementor-kit jkit-product-categories display-grid layout-horizontal content-position-after text-layout-vertical jeg_module_379_3_65c4f9c0ce486\"><div class=\"jkit-product-category\">\n",
              "<a href=\"https://www.alamofarmstx.com/product-category/chicken/\">\n",
              "<div class=\"jkit-category-thumbnail\"></div>\n",
              "<div class=\"jkit-product-category-content\">Chicken <span class=\"jkit-product-category-count\">(9)</span></div>\n",
              "</a>\n",
              "</div><div class=\"jkit-product-category\">\n",
              "<a href=\"https://www.alamofarmstx.com/product-category/eggs/\">\n",
              "<div class=\"jkit-category-thumbnail\"></div>\n",
              "<div class=\"jkit-product-category-content\">Eggs <span class=\"jkit-product-category-count\">(3)</span></div>\n",
              "</a>\n",
              "</div><div class=\"jkit-product-category\">\n",
              "<a href=\"https://www.alamofarmstx.com/product-category/meat-market/\">\n",
              "<div class=\"jkit-category-thumbnail\"></div>\n",
              "<div class=\"jkit-product-category-content\">Meat Market <span class=\"jkit-product-category-count\">(5)</span></div>\n",
              "</a>\n",
              "</div></div> </div>\n",
              "</div>\n",
              "</div>\n",
              "</div>\n",
              "</div>\n",
              "</section>\n",
              "</div>\n",
              "</header>\n",
              "<div class=\"elementor elementor-379\" data-elementor-id=\"379\" data-elementor-type=\"wp-page\">\n",
              "<section class=\"elementor-section elementor-top-section elementor-element elementor-element-5e0b219b elementor-reverse-tablet elementor-reverse-mobile elementor-section-boxed elementor-section-height-default elementor-section-height-default\" data-element_type=\"section\" data-id=\"5e0b219b\">\n",
              "<div class=\"elementor-container elementor-column-gap-default\">\n",
              "<div class=\"elementor-column elementor-col-33 elementor-top-column elementor-element elementor-element-2b8c75e6 jkit-sticky-element--enabled jkit-sticky-element-on--down jkit-sticky-position--sticky\" data-element_type=\"column\" data-id=\"2b8c75e6\" data-settings='{\"jkit_sticky_device\":[\"desktop\",\"tablet\",\"mobile\"],\"jkit_sticky_top_position\":{\"unit\":\"px\",\"size\":0,\"sizes\":[]}}'>\n",
              "<div class=\"elementor-widget-wrap elementor-element-populated\">\n",
              "<div class=\"elementor-element elementor-element-7a049457 elementor-widget elementor-widget-heading\" data-element_type=\"widget\" data-id=\"7a049457\" data-widget_type=\"heading.default\">\n",
              "<div class=\"elementor-widget-container\">\n",
              "<style>/*! elementor - v3.11.5 - 14-03-2023 */\n",
              ".elementor-heading-title{padding:0;margin:0;line-height:1}.elementor-widget-heading .elementor-heading-title[class*=elementor-size-]>a{color:inherit;font-size:inherit;line-height:inherit}.elementor-widget-heading .elementor-heading-title.elementor-size-small{font-size:15px}.elementor-widget-heading .elementor-heading-title.elementor-size-medium{font-size:19px}.elementor-widget-heading .elementor-heading-title.elementor-size-large{font-size:29px}.elementor-widget-heading .elementor-heading-title.elementor-size-xl{font-size:39px}.elementor-widget-heading .elementor-heading-title.elementor-size-xxl{font-size:59px}</style><h2 class=\"elementor-heading-title elementor-size-default\">Search Product</h2> </div>\n",
              "</div>\n",
              "<div class=\"elementor-element elementor-element-667d0fd9 elementor-widget elementor-widget-jkit_search\" data-element_type=\"widget\" data-id=\"667d0fd9\" data-widget_type=\"jkit_search.default\">\n",
              "<div class=\"elementor-widget-container\">\n",
              "<div class=\"jeg-elementor-kit jkit-search jeg_module_379_4_65c4f9c0d64f6\"><div class=\"jkit-search-panel\">\n",
              "<form action=\"https://www.alamofarmstx.com/\" class=\"jkit-search-group\" method=\"get\" role=\"search\">\n",
              "<input class=\"jkit-search-field\" name=\"s\" placeholder=\"Search Product...\" type=\"search\" value=\"\"/>\n",
              "<button class=\"jkit-search-button\" type=\"submit\"><i aria-hidden=\"true\" class=\"fas fa-search\"></i></button>\n",
              "</form>\n",
              "</div></div> </div>\n",
              "</div>\n",
              "<div class=\"elementor-element elementor-element-7f6fdc86 elementor-widget elementor-widget-heading\" data-element_type=\"widget\" data-id=\"7f6fdc86\" data-widget_type=\"heading.default\">\n",
              "<div class=\"elementor-widget-container\">\n",
              "<h2 class=\"elementor-heading-title elementor-size-default\">Categories Filter</h2> </div>\n",
              "</div>\n",
              "<div class=\"elementor-element elementor-element-12cd423 elementor-widget elementor-widget-text-editor\" data-element_type=\"widget\" data-id=\"12cd423\" data-widget_type=\"text-editor.default\">\n",
              "<div class=\"elementor-widget-container\">\n",
              "<style>/*! elementor - v3.11.5 - 14-03-2023 */\n",
              ".elementor-widget-text-editor.elementor-drop-cap-view-stacked .elementor-drop-cap{background-color:#818a91;color:#fff}.elementor-widget-text-editor.elementor-drop-cap-view-framed .elementor-drop-cap{color:#818a91;border:3px solid;background-color:transparent}.elementor-widget-text-editor:not(.elementor-drop-cap-view-default) .elementor-drop-cap{margin-top:8px}.elementor-widget-text-editor:not(.elementor-drop-cap-view-default) .elementor-drop-cap-letter{width:1em;height:1em}.elementor-widget-text-editor .elementor-drop-cap{float:left;text-align:center;line-height:1;font-size:50px}.elementor-widget-text-editor .elementor-drop-cap-letter{display:inline-block}</style> <ul><li><a href=\"https://www.alamofarmstx.com/shop/chicken/\">Chicken</a></li><li><a href=\"https://www.alamofarmstx.com/shop/eggs/\">Eggs</a></li><li><a href=\"https://www.alamofarmstx.com/shop/meat-market/\">Meat Market</a></li></ul> </div>\n",
              "</div>\n",
              "<section class=\"elementor-section elementor-inner-section elementor-element elementor-element-48b3f5f4 elementor-section-boxed elementor-section-height-default elementor-section-height-default\" data-element_type=\"section\" data-id=\"48b3f5f4\" data-settings='{\"background_background\":\"classic\"}'>\n",
              "<div class=\"elementor-container elementor-column-gap-no\">\n",
              "<div class=\"elementor-column elementor-col-100 elementor-inner-column elementor-element elementor-element-4dd1517c\" data-element_type=\"column\" data-id=\"4dd1517c\">\n",
              "<div class=\"elementor-widget-wrap elementor-element-populated\">\n",
              "<div class=\"elementor-element elementor-element-37d7af34 elementor-widget elementor-widget-jkit_heading\" data-element_type=\"widget\" data-id=\"37d7af34\" data-widget_type=\"jkit_heading.default\">\n",
              "<div class=\"elementor-widget-container\">\n",
              "<div class=\"jeg-elementor-kit jkit-heading align-center align-tablet-center align-mobile-center jeg_module_379_5_65c4f9c0da924\"><h3 class=\"heading-section-subtitle style-color\">Show you care with a</h3><div class=\"heading-section-title display-inline-block\"><h2 class=\"heading-title\">Gift Card</h2></div></div> </div>\n",
              "</div>\n",
              "<div class=\"elementor-element elementor-element-4433a4d4 elementor-widget elementor-widget-jkit_heading\" data-element_type=\"widget\" data-id=\"4433a4d4\" data-widget_type=\"jkit_heading.default\">\n",
              "<div class=\"elementor-widget-container\">\n",
              "<div class=\"jeg-elementor-kit jkit-heading align-center align-tablet-center align-mobile-center jeg_module_379_6_65c4f9c0dda44\"><div class=\"heading-section-title display-inline-block\"><h2 class=\"heading-title\">Starting from<span class=\"style-color\"><span>$20.00</span></span></h2></div></div> </div>\n",
              "</div>\n",
              "<div class=\"elementor-element elementor-element-2e2dbe24 e-transform e-transform elementor-widget elementor-widget-image\" data-element_type=\"widget\" data-id=\"2e2dbe24\" data-settings='{\"_transform_rotateZ_effect\":{\"unit\":\"px\",\"size\":12,\"sizes\":[]},\"_transform_rotateX_effect\":{\"unit\":\"px\",\"size\":0,\"sizes\":[]},\"_transform_rotateY_effect\":{\"unit\":\"px\",\"size\":0,\"sizes\":[]},\"_transform_perspective_effect\":{\"unit\":\"px\",\"size\":5008,\"sizes\":[]},\"_transform_rotateZ_effect_hover\":{\"unit\":\"px\",\"size\":0,\"sizes\":[]},\"_transform_rotateZ_effect_tablet\":{\"unit\":\"deg\",\"size\":\"\",\"sizes\":[]},\"_transform_rotateZ_effect_mobile\":{\"unit\":\"deg\",\"size\":\"\",\"sizes\":[]},\"_transform_rotateX_effect_tablet\":{\"unit\":\"deg\",\"size\":\"\",\"sizes\":[]},\"_transform_rotateX_effect_mobile\":{\"unit\":\"deg\",\"size\":\"\",\"sizes\":[]},\"_transform_rotateY_effect_tablet\":{\"unit\":\"deg\",\"size\":\"\",\"sizes\":[]},\"_transform_rotateY_effect_mobile\":{\"unit\":\"deg\",\"size\":\"\",\"sizes\":[]},\"_transform_perspective_effect_tablet\":{\"unit\":\"px\",\"size\":\"\",\"sizes\":[]},\"_transform_perspective_effect_mobile\":{\"unit\":\"px\",\"size\":\"\",\"sizes\":[]},\"_transform_rotateZ_effect_hover_tablet\":{\"unit\":\"deg\",\"size\":\"\",\"sizes\":[]},\"_transform_rotateZ_effect_hover_mobile\":{\"unit\":\"deg\",\"size\":\"\",\"sizes\":[]}}' data-widget_type=\"image.default\">\n",
              "<div class=\"elementor-widget-container\">\n",
              "<a href=\"https://www.alamofarmstx.com/product/gift-card/\">\n",
              "<img alt=\"\" class=\"attachment-large size-large wp-image-367\" decoding=\"async\" height=\"387\" loading=\"lazy\" sizes=\"(max-width: 580px) 100vw, 580px\" src=\"https://i0.wp.com/www.alamofarmstx.com/wp-content/uploads/2022/08/gift_card.png?fit=580%2C387&amp;ssl=1\" srcset=\"https://i0.wp.com/www.alamofarmstx.com/wp-content/uploads/2022/08/gift_card.png?w=1500&amp;ssl=1 1500w, https://i0.wp.com/www.alamofarmstx.com/wp-content/uploads/2022/08/gift_card.png?resize=600%2C400&amp;ssl=1 600w, https://i0.wp.com/www.alamofarmstx.com/wp-content/uploads/2022/08/gift_card.png?resize=300%2C200&amp;ssl=1 300w, https://i0.wp.com/www.alamofarmstx.com/wp-content/uploads/2022/08/gift_card.png?resize=1024%2C683&amp;ssl=1 1024w, https://i0.wp.com/www.alamofarmstx.com/wp-content/uploads/2022/08/gift_card.png?resize=768%2C512&amp;ssl=1 768w, https://i0.wp.com/www.alamofarmstx.com/wp-content/uploads/2022/08/gift_card.png?resize=1200%2C800&amp;ssl=1 1200w\" width=\"580\"> </img></a>\n",
              "</div>\n",
              "</div>\n",
              "</div>\n",
              "</div>\n",
              "</div>\n",
              "</section>\n",
              "</div>\n",
              "</div>\n",
              "<div class=\"elementor-column elementor-col-66 elementor-top-column elementor-element elementor-element-3c7caf3a\" data-element_type=\"column\" data-id=\"3c7caf3a\">\n",
              "<div class=\"elementor-widget-wrap elementor-element-populated\">\n",
              "<section class=\"elementor-section elementor-inner-section elementor-element elementor-element-1d620c7b elementor-reverse-tablet elementor-reverse-mobile elementor-section-boxed elementor-section-height-default elementor-section-height-default\" data-element_type=\"section\" data-id=\"1d620c7b\" data-settings='{\"background_background\":\"classic\"}'>\n",
              "<div class=\"elementor-container elementor-column-gap-default\">\n",
              "<div class=\"elementor-column elementor-col-50 elementor-inner-column elementor-element elementor-element-7bc3c05a\" data-element_type=\"column\" data-id=\"7bc3c05a\">\n",
              "<div class=\"elementor-widget-wrap elementor-element-populated\">\n",
              "<div class=\"elementor-element elementor-element-3448fc20 elementor-widget elementor-widget-jkit_heading\" data-element_type=\"widget\" data-id=\"3448fc20\" data-widget_type=\"jkit_heading.default\">\n",
              "<div class=\"elementor-widget-container\">\n",
              "<div class=\"jeg-elementor-kit jkit-heading align-left align-tablet- align-mobile- jeg_module_379_7_65c4f9c0e29bf\"><h3 class=\"heading-section-subtitle style-color\">Order Fresh from  Alamo Farms</h3><div class=\"heading-section-title display-inline-block\"><h2 class=\"heading-title\">CHICKEN</h2></div><div class=\"heading-section-description\"></div></div> </div>\n",
              "</div>\n",
              "</div>\n",
              "</div>\n",
              "<div class=\"elementor-column elementor-col-50 elementor-inner-column elementor-element elementor-element-4b538c37\" data-element_type=\"column\" data-id=\"4b538c37\">\n",
              "<div class=\"elementor-widget-wrap elementor-element-populated\">\n",
              "<div class=\"elementor-element elementor-element-64927f5 e-transform e-transform elementor-absolute elementor-widget-tablet__width-initial elementor-widget-mobile__width-initial elementor-hidden-mobile elementor-widget elementor-widget-image\" data-element_type=\"widget\" data-id=\"64927f5\" data-settings='{\"_transform_rotateZ_effect\":{\"unit\":\"px\",\"size\":17,\"sizes\":[]},\"_transform_rotateZ_effect_hover\":{\"unit\":\"px\",\"size\":0,\"sizes\":[]},\"_position\":\"absolute\",\"_transform_rotateZ_effect_tablet\":{\"unit\":\"deg\",\"size\":\"\",\"sizes\":[]},\"_transform_rotateZ_effect_mobile\":{\"unit\":\"deg\",\"size\":\"\",\"sizes\":[]},\"_transform_rotateZ_effect_hover_tablet\":{\"unit\":\"deg\",\"size\":\"\",\"sizes\":[]},\"_transform_rotateZ_effect_hover_mobile\":{\"unit\":\"deg\",\"size\":\"\",\"sizes\":[]}}' data-widget_type=\"image.default\">\n",
              "<div class=\"elementor-widget-container\">\n",
              "<img alt=\"\" class=\"attachment-full size-full wp-image-368\" decoding=\"async\" height=\"859\" loading=\"lazy\" sizes=\"(max-width: 580px) 100vw, 580px\" src=\"https://i0.wp.com/www.alamofarmstx.com/wp-content/uploads/2022/08/chicken.png?fit=840%2C859&amp;ssl=1\" srcset=\"https://i0.wp.com/www.alamofarmstx.com/wp-content/uploads/2022/08/chicken.png?w=840&amp;ssl=1 840w, https://i0.wp.com/www.alamofarmstx.com/wp-content/uploads/2022/08/chicken.png?resize=600%2C614&amp;ssl=1 600w, https://i0.wp.com/www.alamofarmstx.com/wp-content/uploads/2022/08/chicken.png?resize=293%2C300&amp;ssl=1 293w, https://i0.wp.com/www.alamofarmstx.com/wp-content/uploads/2022/08/chicken.png?resize=768%2C785&amp;ssl=1 768w\" width=\"840\"/> </div>\n",
              "</div>\n",
              "</div>\n",
              "</div>\n",
              "</div>\n",
              "</section>\n",
              "<div class=\"elementor-element elementor-element-3e924b4 elementor-widget elementor-widget-jkit_product_grid\" data-element_type=\"widget\" data-id=\"3e924b4\" data-widget_type=\"jkit_product_grid.default\">\n",
              "<div class=\"elementor-widget-container\">\n",
              "<div class=\"jeg-elementor-kit jkit-product-grid jkit-pagination-scrollload post-element jeg_module_379_8_65c4f9c0eaa27\" data-id=\"jeg_module_379_8_65c4f9c0eaa27\" data-settings='{\"sg_content_column\":4,\"sg_content_show_element\":\"image,price,title,rating\",\"sg_content_sorting\":\"yes\",\"sg_content_image_heading\":\"\",\"sg_content_image_size\":\"\",\"sg_content_sale\":\"\",\"sg_content_percentage\":\"yes\",\"number_post\":{\"unit\":\"px\",\"size\":12,\"sizes\":[]},\"post_offset\":0,\"wc_include_post\":\"\",\"wc_exclude_post\":\"\",\"wc_include_category\":\"20\",\"wc_exclude_category\":\"\",\"wc_include_tag\":\"\",\"wc_exclude_tag\":\"\",\"sort_by\":\"alphabet_asc\",\"pagination_mode\":\"scrollload\",\"pagination_loadmore_text\":\"Load More\",\"pagination_loading_text\":\"Loading...\",\"pagination_number_post\":{\"unit\":\"px\",\"size\":5,\"sizes\":[]},\"pagination_scroll_limit\":0,\"pagination_icon\":{\"value\":\"\",\"library\":\"\"},\"pagination_icon_position\":\"before\",\"sg_content_image_size_imagesize_size\":\"medium\",\"post_type\":\"product\",\"paged\":1,\"class\":\"jkit_product_grid\"}'><div class=\"jkit-block-container\"><div class=\"product-order\">\n",
              "<select class=\"orderby\">\n",
              "<option value=\"default\">Default sorting</option>\n",
              "<option value=\"popularity\">Sort by popularity</option>\n",
              "<option value=\"rating\">Sort by average rating</option>\n",
              "<option value=\"latest\">Sort by latest</option>\n",
              "<option value=\"price_high\">Sort by price: low to high</option>\n",
              "<option value=\"price_low\">Sort by price: high to low</option>\n",
              "</select>\n",
              "</div><div class=\"woocommerce\"><ul class=\"products jkit-products jkit-align-left jkit-ajax-flag\"><li class=\"product type-product post-271 status-publish first instock product_cat-chicken has-post-thumbnail shipping-taxable purchasable product-type-variable jkit-product-block\"><a class=\"jkit-product\" href=\"https://www.alamofarmstx.com/product/young-hen-oro-gallinita/\"><div class=\"product-link\"><img alt=\"\" class=\"wp-post-image product-image\" decoding=\"async\" height=\"300\" loading=\"lazy\" sizes=\"(max-width: 300px) 100vw, 300px\" src=\"https://i0.wp.com/www.alamofarmstx.com/wp-content/uploads/2022/08/Young-Hen.jpg?fit=300%2C300&amp;ssl=1\" srcset=\"https://i0.wp.com/www.alamofarmstx.com/wp-content/uploads/2022/08/Young-Hen.jpg?w=300&amp;ssl=1 300w, https://i0.wp.com/www.alamofarmstx.com/wp-content/uploads/2022/08/Young-Hen.jpg?resize=100%2C100&amp;ssl=1 100w, https://i0.wp.com/www.alamofarmstx.com/wp-content/uploads/2022/08/Young-Hen.jpg?resize=150%2C150&amp;ssl=1 150w\" width=\"300\"/></div><span class=\"price\"><span class=\"woocommerce-Price-amount amount\"><bdi><span class=\"woocommerce-Price-currencySymbol\">$</span>20.00</bdi></span> – <span class=\"woocommerce-Price-amount amount\"><bdi><span class=\"woocommerce-Price-currencySymbol\">$</span>21.00</bdi></span></span><h2 class=\"product-title\">Big Young Hen, Grande Oro Gallinita</h2></a><a aria-label=\"Select options for “Big Young Hen, Grande Oro Gallinita”\" class=\"button product_type_variable add_to_cart_button\" data-product_id=\"271\" data-product_sku=\"\" data-quantity=\"1\" href=\"https://www.alamofarmstx.com/product/young-hen-oro-gallinita/\" rel=\"nofollow\"><i class=\"fas fa-shopping-cart\"></i> Select options</a></li><li class=\"product type-product post-311 status-publish outofstock product_cat-chicken has-post-thumbnail shipping-taxable purchasable product-type-variable jkit-product-block\"><a class=\"jkit-product\" href=\"https://www.alamofarmstx.com/product/duck/\"><div class=\"product-link\"><img alt=\"\" class=\"wp-post-image product-image\" decoding=\"async\" height=\"200\" loading=\"lazy\" sizes=\"(max-width: 300px) 100vw, 300px\" src=\"https://i0.wp.com/www.alamofarmstx.com/wp-content/uploads/2022/08/duck.jpg?fit=300%2C200&amp;ssl=1\" srcset=\"https://i0.wp.com/www.alamofarmstx.com/wp-content/uploads/2022/08/duck.jpg?w=1200&amp;ssl=1 1200w, https://i0.wp.com/www.alamofarmstx.com/wp-content/uploads/2022/08/duck.jpg?resize=600%2C400&amp;ssl=1 600w, https://i0.wp.com/www.alamofarmstx.com/wp-content/uploads/2022/08/duck.jpg?resize=300%2C200&amp;ssl=1 300w, https://i0.wp.com/www.alamofarmstx.com/wp-content/uploads/2022/08/duck.jpg?resize=1024%2C683&amp;ssl=1 1024w, https://i0.wp.com/www.alamofarmstx.com/wp-content/uploads/2022/08/duck.jpg?resize=768%2C512&amp;ssl=1 768w\" width=\"300\"/></div><span class=\"price\"><span class=\"woocommerce-Price-amount amount\"><bdi><span class=\"woocommerce-Price-currencySymbol\">$</span>35.00</bdi></span> – <span class=\"woocommerce-Price-amount amount\"><bdi><span class=\"woocommerce-Price-currencySymbol\">$</span>45.00</bdi></span></span><h2 class=\"product-title\">Duck, Pato</h2></a><a aria-label=\"Select options for “Duck, Pato”\" class=\"button product_type_variable\" data-product_id=\"311\" data-product_sku=\"\" data-quantity=\"1\" href=\"https://www.alamofarmstx.com/product/duck/\" rel=\"nofollow\"><i class=\"fas fa-shopping-cart\"></i> Select options</a></li><li class=\"product type-product post-178 status-publish instock product_cat-chicken has-post-thumbnail shipping-taxable purchasable product-type-variable jkit-product-block\"><a class=\"jkit-product\" href=\"https://www.alamofarmstx.com/product/guinea-hens/\"><div class=\"product-link\"><img alt=\"\" class=\"wp-post-image product-image\" decoding=\"async\" height=\"184\" loading=\"lazy\" src=\"https://i0.wp.com/www.alamofarmstx.com/wp-content/uploads/2022/08/Guinea-Hen.jpg?fit=274%2C184&amp;ssl=1\" width=\"274\"/></div><span class=\"price\"><span class=\"woocommerce-Price-amount amount\"><bdi><span class=\"woocommerce-Price-currencySymbol\">$</span>22.00</bdi></span> – <span class=\"woocommerce-Price-amount amount\"><bdi><span class=\"woocommerce-Price-currencySymbol\">$</span>23.00</bdi></span></span><h2 class=\"product-title\">Guinea Hens</h2></a><a aria-label=\"Select options for “Guinea Hens”\" class=\"button product_type_variable add_to_cart_button\" data-product_id=\"178\" data-product_sku=\"\" data-quantity=\"1\" href=\"https://www.alamofarmstx.com/product/guinea-hens/\" rel=\"nofollow\"><i class=\"fas fa-shopping-cart\"></i> Select options</a></li><li class=\"product type-product post-705 status-publish last instock product_cat-chicken has-post-thumbnail shipping-taxable purchasable product-type-variable jkit-product-block\"><a class=\"jkit-product\" href=\"https://www.alamofarmstx.com/product/old-hen/\"><div class=\"product-link\"><img alt=\"\" class=\"wp-post-image product-image\" decoding=\"async\" height=\"219\" loading=\"lazy\" sizes=\"(max-width: 300px) 100vw, 300px\" src=\"https://i0.wp.com/www.alamofarmstx.com/wp-content/uploads/2022/12/1000007697.jpg?fit=300%2C219&amp;ssl=1\" srcset=\"https://i0.wp.com/www.alamofarmstx.com/wp-content/uploads/2022/12/1000007697.jpg?w=900&amp;ssl=1 900w, https://i0.wp.com/www.alamofarmstx.com/wp-content/uploads/2022/12/1000007697.jpg?resize=300%2C219&amp;ssl=1 300w, https://i0.wp.com/www.alamofarmstx.com/wp-content/uploads/2022/12/1000007697.jpg?resize=768%2C560&amp;ssl=1 768w, https://i0.wp.com/www.alamofarmstx.com/wp-content/uploads/2022/12/1000007697.jpg?resize=600%2C437&amp;ssl=1 600w\" width=\"300\"/></div><span class=\"price\"><span class=\"woocommerce-Price-amount amount\"><bdi><span class=\"woocommerce-Price-currencySymbol\">$</span>12.00</bdi></span> – <span class=\"woocommerce-Price-amount amount\"><bdi><span class=\"woocommerce-Price-currencySymbol\">$</span>13.00</bdi></span></span><h2 class=\"product-title\">Old Hen</h2></a><a aria-label=\"Select options for “Old Hen”\" class=\"button product_type_variable add_to_cart_button\" data-product_id=\"705\" data-product_sku=\"\" data-quantity=\"1\" href=\"https://www.alamofarmstx.com/product/old-hen/\" rel=\"nofollow\"><i class=\"fas fa-shopping-cart\"></i> Select options</a></li><li class=\"product type-product post-190 status-publish first instock product_cat-chicken has-post-thumbnail shipping-taxable purchasable product-type-variable jkit-product-block\"><a class=\"jkit-product\" href=\"https://www.alamofarmstx.com/product/pigeon/\"><div class=\"product-link\"><img alt=\"\" class=\"wp-post-image product-image\" decoding=\"async\" height=\"225\" loading=\"lazy\" sizes=\"(max-width: 300px) 100vw, 300px\" src=\"https://i0.wp.com/www.alamofarmstx.com/wp-content/uploads/2022/08/Pidgeon.jpg?fit=300%2C225&amp;ssl=1\" srcset=\"https://i0.wp.com/www.alamofarmstx.com/wp-content/uploads/2022/08/Pidgeon.jpg?w=480&amp;ssl=1 480w, https://i0.wp.com/www.alamofarmstx.com/wp-content/uploads/2022/08/Pidgeon.jpg?resize=416%2C312&amp;ssl=1 416w, https://i0.wp.com/www.alamofarmstx.com/wp-content/uploads/2022/08/Pidgeon.jpg?resize=300%2C225&amp;ssl=1 300w\" width=\"300\"/></div><span class=\"price\"><span class=\"woocommerce-Price-amount amount\"><bdi><span class=\"woocommerce-Price-currencySymbol\">$</span>20.00</bdi></span></span><h2 class=\"product-title\">Pigeon</h2></a><a aria-label=\"Select options for “Pigeon”\" class=\"button product_type_variable add_to_cart_button\" data-product_id=\"190\" data-product_sku=\"\" data-quantity=\"1\" href=\"https://www.alamofarmstx.com/product/pigeon/\" rel=\"nofollow\"><i class=\"fas fa-shopping-cart\"></i> Select options</a></li><li class=\"product type-product post-184 status-publish instock product_cat-chicken has-post-thumbnail shipping-taxable purchasable product-type-variable jkit-product-block\"><a class=\"jkit-product\" href=\"https://www.alamofarmstx.com/product/quail/\"><div class=\"product-link\"><img alt=\"\" class=\"wp-post-image product-image\" decoding=\"async\" height=\"158\" loading=\"lazy\" sizes=\"(max-width: 300px) 100vw, 300px\" src=\"https://i0.wp.com/www.alamofarmstx.com/wp-content/uploads/2022/08/Quail.jpg?fit=300%2C158&amp;ssl=1\" srcset=\"https://i0.wp.com/www.alamofarmstx.com/wp-content/uploads/2022/08/Quail.jpg?w=770&amp;ssl=1 770w, https://i0.wp.com/www.alamofarmstx.com/wp-content/uploads/2022/08/Quail.jpg?resize=600%2C316&amp;ssl=1 600w, https://i0.wp.com/www.alamofarmstx.com/wp-content/uploads/2022/08/Quail.jpg?resize=300%2C158&amp;ssl=1 300w, https://i0.wp.com/www.alamofarmstx.com/wp-content/uploads/2022/08/Quail.jpg?resize=768%2C404&amp;ssl=1 768w\" width=\"300\"/></div><span class=\"price\"><span class=\"woocommerce-Price-amount amount\"><bdi><span class=\"woocommerce-Price-currencySymbol\">$</span>6.00</bdi></span></span><h2 class=\"product-title\">Quail</h2></a><a aria-label=\"Select options for “Quail”\" class=\"button product_type_variable add_to_cart_button\" data-product_id=\"184\" data-product_sku=\"\" data-quantity=\"1\" href=\"https://www.alamofarmstx.com/product/quail/\" rel=\"nofollow\"><i class=\"fas fa-shopping-cart\"></i> Select options</a></li><li class=\"product type-product post-187 status-publish outofstock product_cat-chicken has-post-thumbnail shipping-taxable purchasable product-type-variable jkit-product-block\"><a class=\"jkit-product\" href=\"https://www.alamofarmstx.com/product/rabbit-conejo/\"><div class=\"product-link\"><img alt=\"\" class=\"wp-post-image product-image\" decoding=\"async\" height=\"200\" loading=\"lazy\" src=\"https://i0.wp.com/www.alamofarmstx.com/wp-content/uploads/2022/08/rabbit.jpg?fit=252%2C200&amp;ssl=1\" width=\"252\"/></div><span class=\"price\"><span class=\"woocommerce-Price-amount amount\"><bdi><span class=\"woocommerce-Price-currencySymbol\">$</span>30.00</bdi></span> – <span class=\"woocommerce-Price-amount amount\"><bdi><span class=\"woocommerce-Price-currencySymbol\">$</span>35.00</bdi></span></span><h2 class=\"product-title\">Rabbit, Conejo</h2></a><a aria-label=\"Select options for “Rabbit, Conejo”\" class=\"button product_type_variable\" data-product_id=\"187\" data-product_sku=\"\" data-quantity=\"1\" href=\"https://www.alamofarmstx.com/product/rabbit-conejo/\" rel=\"nofollow\"><i class=\"fas fa-shopping-cart\"></i> Select options</a></li><li class=\"product type-product post-298 status-publish last instock product_cat-chicken has-post-thumbnail shipping-taxable purchasable product-type-variable jkit-product-block\"><a class=\"jkit-product\" href=\"https://www.alamofarmstx.com/product/white-broiler/\"><div class=\"product-link\"><img alt=\"\" class=\"wp-post-image product-image\" decoding=\"async\" height=\"300\" loading=\"lazy\" sizes=\"(max-width: 300px) 100vw, 300px\" src=\"https://i0.wp.com/www.alamofarmstx.com/wp-content/uploads/2022/08/White-Broiler.jpg?fit=300%2C300&amp;ssl=1\" srcset=\"https://i0.wp.com/www.alamofarmstx.com/wp-content/uploads/2022/08/White-Broiler.jpg?w=500&amp;ssl=1 500w, https://i0.wp.com/www.alamofarmstx.com/wp-content/uploads/2022/08/White-Broiler.jpg?resize=450%2C450&amp;ssl=1 450w, https://i0.wp.com/www.alamofarmstx.com/wp-content/uploads/2022/08/White-Broiler.jpg?resize=100%2C100&amp;ssl=1 100w, https://i0.wp.com/www.alamofarmstx.com/wp-content/uploads/2022/08/White-Broiler.jpg?resize=416%2C416&amp;ssl=1 416w, https://i0.wp.com/www.alamofarmstx.com/wp-content/uploads/2022/08/White-Broiler.jpg?resize=300%2C300&amp;ssl=1 300w, https://i0.wp.com/www.alamofarmstx.com/wp-content/uploads/2022/08/White-Broiler.jpg?resize=150%2C150&amp;ssl=1 150w\" width=\"300\"/></div><span class=\"price\"><span class=\"woocommerce-Price-amount amount\"><bdi><span class=\"woocommerce-Price-currencySymbol\">$</span>20.00</bdi></span> – <span class=\"woocommerce-Price-amount amount\"><bdi><span class=\"woocommerce-Price-currencySymbol\">$</span>21.00</bdi></span></span><h2 class=\"product-title\">White Broiler, Pollo Blanco</h2></a><a aria-label=\"Select options for “White Broiler, Pollo Blanco”\" class=\"button product_type_variable add_to_cart_button\" data-product_id=\"298\" data-product_sku=\"\" data-quantity=\"1\" href=\"https://www.alamofarmstx.com/product/white-broiler/\" rel=\"nofollow\"><i class=\"fas fa-shopping-cart\"></i> Select options</a></li><li class=\"product type-product post-277 status-publish first instock product_cat-chicken has-post-thumbnail shipping-taxable purchasable product-type-variable jkit-product-block\"><a class=\"jkit-product\" href=\"https://www.alamofarmstx.com/product/young-rooster/\"><div class=\"product-link\"><img alt=\"\" class=\"wp-post-image product-image\" decoding=\"async\" height=\"225\" loading=\"lazy\" sizes=\"(max-width: 300px) 100vw, 300px\" src=\"https://i0.wp.com/www.alamofarmstx.com/wp-content/uploads/2022/08/Young-rooster.jpg?fit=300%2C225&amp;ssl=1\" srcset=\"https://i0.wp.com/www.alamofarmstx.com/wp-content/uploads/2022/08/Young-rooster.jpg?w=697&amp;ssl=1 697w, https://i0.wp.com/www.alamofarmstx.com/wp-content/uploads/2022/08/Young-rooster.jpg?resize=600%2C449&amp;ssl=1 600w, https://i0.wp.com/www.alamofarmstx.com/wp-content/uploads/2022/08/Young-rooster.jpg?resize=300%2C225&amp;ssl=1 300w\" width=\"300\"/></div><span class=\"price\"><span class=\"woocommerce-Price-amount amount\"><bdi><span class=\"woocommerce-Price-currencySymbol\">$</span>18.00</bdi></span> – <span class=\"woocommerce-Price-amount amount\"><bdi><span class=\"woocommerce-Price-currencySymbol\">$</span>19.00</bdi></span></span><h2 class=\"product-title\">Young Rooster, Oro Gallo</h2></a><a aria-label=\"Select options for “Young Rooster, Oro Gallo”\" class=\"button product_type_variable add_to_cart_button\" data-product_id=\"277\" data-product_sku=\"\" data-quantity=\"1\" href=\"https://www.alamofarmstx.com/product/young-rooster/\" rel=\"nofollow\"><i class=\"fas fa-shopping-cart\"></i> Select options</a></li></ul></div><div class=\"jkit-preloader-overlay\">\n",
              "<div class=\"jkit-preloader-type jkit-preloader-dot\">\n",
              "<div class=\"jkit-preloader\">\n",
              "<span></span><span></span><span></span>\n",
              "</div>\n",
              "</div>\n",
              "</div></div></div> </div>\n",
              "</div>\n",
              "</div>\n",
              "</div>\n",
              "</div>\n",
              "</section>\n",
              "</div>\n",
              "<footer itemscope=\"itemscope\" itemtype=\"https://schema.org/WPFooter\">\n",
              "<style>.elementor-79 .elementor-element.elementor-element-340d1d15 > .elementor-container{max-width:1200px;}.elementor-79 .elementor-element.elementor-element-340d1d15:not(.elementor-motion-effects-element-type-background), .elementor-79 .elementor-element.elementor-element-340d1d15 > .elementor-motion-effects-container > .elementor-motion-effects-layer{background-image:url(\"https://i0.wp.com/www.alamofarmstx.com/wp-content/uploads/2022/08/concrete-texture-background-grunge-texture-ZC32RXB.jpg?fit=1920%2C1280&ssl=1\");background-position:top center;background-size:cover;}.elementor-79 .elementor-element.elementor-element-340d1d15 > .elementor-background-overlay{opacity:0.02;}.elementor-79 .elementor-element.elementor-element-340d1d15{transition:background 0.3s, border 0.3s, border-radius 0.3s, box-shadow 0.3s;margin-top:0px;margin-bottom:0px;padding:100px 0px 15px 0px;z-index:0;}.elementor-79 .elementor-element.elementor-element-32ed2761 > .elementor-container{max-width:1290px;}.elementor-79 .elementor-element.elementor-element-32ed2761{margin-top:0px;margin-bottom:90px;padding:0px 0px 0px 0px;}.elementor-79 .elementor-element.elementor-element-4c533106:not(.elementor-motion-effects-element-type-background) > .elementor-widget-wrap, .elementor-79 .elementor-element.elementor-element-4c533106 > .elementor-widget-wrap > .elementor-motion-effects-container > .elementor-motion-effects-layer{background-color:#F8FCFF;}.elementor-79 .elementor-element.elementor-element-4c533106 > .elementor-element-populated, .elementor-79 .elementor-element.elementor-element-4c533106 > .elementor-element-populated > .elementor-background-overlay, .elementor-79 .elementor-element.elementor-element-4c533106 > .elementor-background-slideshow{border-radius:10px 10px 10px 10px;}.elementor-79 .elementor-element.elementor-element-4c533106 > .elementor-element-populated{transition:background 0.3s, border 0.3s, border-radius 0.3s, box-shadow 0.3s;margin:0px 0px 0px 0px;--e-column-margin-right:0px;--e-column-margin-left:0px;padding:30px 30px 30px 30px;}.elementor-79 .elementor-element.elementor-element-4c533106 > .elementor-element-populated > .elementor-background-overlay{transition:background 0.3s, border-radius 0.3s, opacity 0.3s;}.elementor-79 .elementor-element.elementor-element-791a81cf{text-align:center;}.elementor-79 .elementor-element.elementor-element-791a81cf img{width:453px;max-width:100%;height:174px;}.elementor-79 .elementor-element.elementor-element-2429c65d > .elementor-element-populated{margin:0px 0px 0px 70px;--e-column-margin-right:0px;--e-column-margin-left:70px;}.elementor-79 .elementor-element.elementor-element-3569260 .elementor-heading-title{color:var( --e-global-color-secondary );font-family:var( --e-global-typography-70e669c-font-family ), Sans-serif;font-size:var( --e-global-typography-70e669c-font-size );font-weight:var( --e-global-typography-70e669c-font-weight );line-height:var( --e-global-typography-70e669c-line-height );letter-spacing:var( --e-global-typography-70e669c-letter-spacing );word-spacing:var( --e-global-typography-70e669c-word-spacing );}.elementor-79 .elementor-element.elementor-element-7e0bfd29 .elementor-icon-list-items:not(.elementor-inline-items) .elementor-icon-list-item:not(:last-child){padding-bottom:calc(15px/2);}.elementor-79 .elementor-element.elementor-element-7e0bfd29 .elementor-icon-list-items:not(.elementor-inline-items) .elementor-icon-list-item:not(:first-child){margin-top:calc(15px/2);}.elementor-79 .elementor-element.elementor-element-7e0bfd29 .elementor-icon-list-items.elementor-inline-items .elementor-icon-list-item{margin-right:calc(15px/2);margin-left:calc(15px/2);}.elementor-79 .elementor-element.elementor-element-7e0bfd29 .elementor-icon-list-items.elementor-inline-items{margin-right:calc(-15px/2);margin-left:calc(-15px/2);}body.rtl .elementor-79 .elementor-element.elementor-element-7e0bfd29 .elementor-icon-list-items.elementor-inline-items .elementor-icon-list-item:after{left:calc(-15px/2);}body:not(.rtl) .elementor-79 .elementor-element.elementor-element-7e0bfd29 .elementor-icon-list-items.elementor-inline-items .elementor-icon-list-item:after{right:calc(-15px/2);}.elementor-79 .elementor-element.elementor-element-7e0bfd29 .elementor-icon-list-item:hover .elementor-icon-list-icon i{color:#E1D6CB;}.elementor-79 .elementor-element.elementor-element-7e0bfd29 .elementor-icon-list-item:hover .elementor-icon-list-icon svg{fill:#E1D6CB;}.elementor-79 .elementor-element.elementor-element-7e0bfd29{--e-icon-list-icon-size:14px;}.elementor-79 .elementor-element.elementor-element-7e0bfd29 .elementor-icon-list-text{color:var( --e-global-color-text );}.elementor-79 .elementor-element.elementor-element-7e0bfd29 .elementor-icon-list-item:hover .elementor-icon-list-text{color:var( --e-global-color-secondary );}.elementor-79 .elementor-element.elementor-element-7e0bfd29 .elementor-icon-list-item > .elementor-icon-list-text, .elementor-79 .elementor-element.elementor-element-7e0bfd29 .elementor-icon-list-item > a{font-family:var( --e-global-typography-e5b5240-font-family ), Sans-serif;font-size:var( --e-global-typography-e5b5240-font-size );font-weight:var( --e-global-typography-e5b5240-font-weight );line-height:var( --e-global-typography-e5b5240-line-height );letter-spacing:var( --e-global-typography-e5b5240-letter-spacing );word-spacing:var( --e-global-typography-e5b5240-word-spacing );}.elementor-79 .elementor-element.elementor-element-7e0bfd29 > .elementor-widget-container{margin:0px 0px 0px 0px;}.elementor-79 .elementor-element.elementor-element-05b138f iframe{height:141px;}.elementor-79 .elementor-element.elementor-element-05b138f > .elementor-widget-container{margin:0px 20px 0px -10px;padding:0px 0px 0px 0px;}.elementor-79 .elementor-element.elementor-element-508e9d4f > .elementor-element-populated{margin:0px 0px 0px 0px;--e-column-margin-right:0px;--e-column-margin-left:0px;}.elementor-79 .elementor-element.elementor-element-2ecc4e02 .elementor-heading-title{color:var( --e-global-color-secondary );font-family:var( --e-global-typography-70e669c-font-family ), Sans-serif;font-size:var( --e-global-typography-70e669c-font-size );font-weight:var( --e-global-typography-70e669c-font-weight );line-height:var( --e-global-typography-70e669c-line-height );letter-spacing:var( --e-global-typography-70e669c-letter-spacing );word-spacing:var( --e-global-typography-70e669c-word-spacing );}.elementor-79 .elementor-element.elementor-element-5ea7e34c .jeg-elementor-kit.jkit-icon-box .jkit-icon-box-wrapper{text-align:left;padding:0px 0px 0px 0px;border-style:solid;border-width:0px 0px 0px 0px;border-radius:0px 0px 0px 0px;}.elementor-79 .elementor-element.elementor-element-5ea7e34c.jkit-equal-height-enable, .elementor-79 .elementor-element.elementor-element-5ea7e34c.jkit-equal-height-enable .elementor-widget-container, .elementor-79 .elementor-element.elementor-element-5ea7e34c.jkit-equal-height-enable .jeg-elementor-kit.jkit-icon-box, .elementor-79 .elementor-element.elementor-element-5ea7e34c.jkit-equal-height-enable .jeg-elementor-kit.jkit-icon-box .jkit-icon-box-wrapper{height:100%;}.elementor-79 .elementor-element.elementor-element-5ea7e34c .jeg-elementor-kit.jkit-icon-box .title{margin:0px 0px 0px 0px;color:var( --e-global-color-secondary );font-family:var( --e-global-typography-958661d-font-family ), Sans-serif;font-size:var( --e-global-typography-958661d-font-size );font-weight:var( --e-global-typography-958661d-font-weight );line-height:var( --e-global-typography-958661d-line-height );letter-spacing:var( --e-global-typography-958661d-letter-spacing );word-spacing:var( --e-global-typography-958661d-word-spacing );}.elementor-79 .elementor-element.elementor-element-5ea7e34c .jeg-elementor-kit.jkit-icon-box .icon-box.icon-box-body .icon-box-description{color:var( --e-global-color-text );font-family:var( --e-global-typography-c721be5-font-family ), Sans-serif;font-size:var( --e-global-typography-c721be5-font-size );font-weight:var( --e-global-typography-c721be5-font-weight );line-height:var( --e-global-typography-c721be5-line-height );letter-spacing:var( --e-global-typography-c721be5-letter-spacing );word-spacing:var( --e-global-typography-c721be5-word-spacing );margin:0px 0px 0px 0px;}.elementor-79 .elementor-element.elementor-element-5ea7e34c .jeg-elementor-kit.jkit-icon-box .hover-watermark i{font-size:100px;}.elementor-79 .elementor-element.elementor-element-5ea7e34c .jeg-elementor-kit.jkit-icon-box .hover-watermark svg{width:100px;}.elementor-79 .elementor-element.elementor-element-5ea7e34c .jeg-elementor-kit.jkit-icon-box .icon-box > .icon{color:var( --e-global-color-secondary );background-color:var( --e-global-color-0f06678 );border-radius:5px 5px 5px 5px;margin:0px 0px 0px 0px;padding:15px 18px 15px 18px;}.elementor-79 .elementor-element.elementor-element-5ea7e34c .jeg-elementor-kit.jkit-icon-box .icon-box > .icon svg{fill:var( --e-global-color-secondary );width:20px;}.elementor-79 .elementor-element.elementor-element-5ea7e34c .jeg-elementor-kit.jkit-icon-box .icon-box > .icon i{font-size:20px;}.elementor-79 .elementor-element.elementor-element-2c3f29f7 .jeg-elementor-kit.jkit-icon-box .jkit-icon-box-wrapper{text-align:left;padding:0px 0px 0px 0px;border-style:solid;border-width:0px 0px 0px 0px;border-radius:0px 0px 0px 0px;}.elementor-79 .elementor-element.elementor-element-2c3f29f7.jkit-equal-height-enable, .elementor-79 .elementor-element.elementor-element-2c3f29f7.jkit-equal-height-enable .elementor-widget-container, .elementor-79 .elementor-element.elementor-element-2c3f29f7.jkit-equal-height-enable .jeg-elementor-kit.jkit-icon-box, .elementor-79 .elementor-element.elementor-element-2c3f29f7.jkit-equal-height-enable .jeg-elementor-kit.jkit-icon-box .jkit-icon-box-wrapper{height:100%;}.elementor-79 .elementor-element.elementor-element-2c3f29f7 .jeg-elementor-kit.jkit-icon-box .title{margin:0px 0px 0px 0px;color:var( --e-global-color-secondary );font-family:var( --e-global-typography-958661d-font-family ), Sans-serif;font-size:var( --e-global-typography-958661d-font-size );font-weight:var( --e-global-typography-958661d-font-weight );line-height:var( --e-global-typography-958661d-line-height );letter-spacing:var( --e-global-typography-958661d-letter-spacing );word-spacing:var( --e-global-typography-958661d-word-spacing );}.elementor-79 .elementor-element.elementor-element-2c3f29f7 .jeg-elementor-kit.jkit-icon-box .icon-box.icon-box-body .icon-box-description{color:var( --e-global-color-text );font-family:var( --e-global-typography-c721be5-font-family ), Sans-serif;font-size:var( --e-global-typography-c721be5-font-size );font-weight:var( --e-global-typography-c721be5-font-weight );line-height:var( --e-global-typography-c721be5-line-height );letter-spacing:var( --e-global-typography-c721be5-letter-spacing );word-spacing:var( --e-global-typography-c721be5-word-spacing );margin:0px 0px 0px 0px;}.elementor-79 .elementor-element.elementor-element-2c3f29f7 .jeg-elementor-kit.jkit-icon-box .hover-watermark i{font-size:100px;}.elementor-79 .elementor-element.elementor-element-2c3f29f7 .jeg-elementor-kit.jkit-icon-box .hover-watermark svg{width:100px;}.elementor-79 .elementor-element.elementor-element-2c3f29f7 .jeg-elementor-kit.jkit-icon-box .icon-box > .icon{color:var( --e-global-color-secondary );background-color:var( --e-global-color-f31ac8b );border-radius:5px 5px 5px 5px;margin:0px 0px 0px 0px;padding:15px 16px 15px 15px;}.elementor-79 .elementor-element.elementor-element-2c3f29f7 .jeg-elementor-kit.jkit-icon-box .icon-box > .icon svg{fill:var( --e-global-color-secondary );width:20px;}.elementor-79 .elementor-element.elementor-element-2c3f29f7 .jeg-elementor-kit.jkit-icon-box .icon-box > .icon i{font-size:20px;}.elementor-79 .elementor-element.elementor-element-2c3f29f7 > .elementor-widget-container{margin:0px 0px 30px 0px;}.elementor-79 .elementor-element.elementor-element-1ce6c7d4{--grid-template-columns:repeat(0, auto);--icon-size:15px;--grid-column-gap:12px;--grid-row-gap:0px;}.elementor-79 .elementor-element.elementor-element-1ce6c7d4 .elementor-widget-container{text-align:left;}.elementor-79 .elementor-element.elementor-element-1ce6c7d4 .elementor-social-icon{background-color:#FFFFFF1F;--icon-padding:0.7em;border-style:solid;border-width:1px 1px 1px 1px;border-color:#FFFFFF4A;}.elementor-79 .elementor-element.elementor-element-1ce6c7d4 .elementor-social-icon i{color:var( --e-global-color-secondary );}.elementor-79 .elementor-element.elementor-element-1ce6c7d4 .elementor-social-icon svg{fill:var( --e-global-color-secondary );}.elementor-79 .elementor-element.elementor-element-1ce6c7d4 .elementor-icon{border-radius:4px 4px 4px 4px;}.elementor-79 .elementor-element.elementor-element-1ce6c7d4 .elementor-social-icon:hover{background-color:var( --e-global-color-0f06678 );border-color:var( --e-global-color-0f06678 );}.elementor-79 .elementor-element.elementor-element-1ce6c7d4 .elementor-social-icon:hover i{color:var( --e-global-color-secondary );}.elementor-79 .elementor-element.elementor-element-1ce6c7d4 .elementor-social-icon:hover svg{fill:var( --e-global-color-secondary );}.elementor-79 .elementor-element.elementor-element-9a7e469{--divider-border-style:solid;--divider-color:#FFFFFF26;--divider-border-width:1px;}.elementor-79 .elementor-element.elementor-element-9a7e469 .elementor-divider-separator{width:100%;margin:0 auto;margin-center:0;}.elementor-79 .elementor-element.elementor-element-9a7e469 .elementor-divider{text-align:center;padding-top:2px;padding-bottom:2px;}.elementor-79 .elementor-element.elementor-element-90e7dd2 > .elementor-container{max-width:1290px;}.elementor-79 .elementor-element.elementor-element-90e7dd2{padding:0px 0px 0px 0px;}.elementor-79 .elementor-element.elementor-element-57d4a83e{text-align:left;color:var( --e-global-color-secondary );font-family:var( --e-global-typography-accent-font-family ), Sans-serif;font-size:var( --e-global-typography-accent-font-size );font-weight:var( --e-global-typography-accent-font-weight );}.elementor-79 .elementor-element.elementor-element-57d4a83e > .elementor-widget-container{margin:0px 0px 0px 0px;}.elementor-79 .elementor-element.elementor-element-362d2686{text-align:right;color:#FFFFFF;font-family:var( --e-global-typography-accent-font-family ), Sans-serif;font-size:var( --e-global-typography-accent-font-size );font-weight:var( --e-global-typography-accent-font-weight );}.elementor-79 .elementor-element.elementor-element-362d2686 > .elementor-widget-container{margin:0px 0px 0px 0px;}@media(max-width:1024px) and (min-width:768px){.elementor-79 .elementor-element.elementor-element-4c533106{width:25%;}.elementor-79 .elementor-element.elementor-element-2429c65d{width:50%;}.elementor-79 .elementor-element.elementor-element-508e9d4f{width:25%;}}@media(max-width:1024px){.elementor-79 .elementor-element.elementor-element-340d1d15{padding:80px 0px 15px 0px;}.elementor-79 .elementor-element.elementor-element-7f002431 > .elementor-element-populated{padding:10px 20px 10px 20px;}.elementor-79 .elementor-element.elementor-element-32ed2761{padding:0px 0px 0px 0px;}.elementor-79 .elementor-element.elementor-element-4c533106:not(.elementor-motion-effects-element-type-background) > .elementor-widget-wrap, .elementor-79 .elementor-element.elementor-element-4c533106 > .elementor-widget-wrap > .elementor-motion-effects-container > .elementor-motion-effects-layer{background-image:url(\"https://i0.wp.com/www.alamofarmstx.com/wp-content/uploads/2022/08/Screen-Shot-2022-08-22-at-1.13.46-PM.png?fit=1614%2C784&ssl=1\");background-size:initial;}.elementor-79 .elementor-element.elementor-element-4c533106 > .elementor-element-populated{margin:0px 20px 40px 0px;--e-column-margin-right:20px;--e-column-margin-left:0px;padding:0px 0px 0px 0px;}.elementor-79 .elementor-element.elementor-element-791a81cf img{width:100%;max-width:100%;height:264px;object-fit:contain;}.elementor-79 .elementor-element.elementor-element-791a81cf > .elementor-widget-container{margin:0px 0px 0px 0px;padding:0px 0px 0px 0px;}.elementor-79 .elementor-element.elementor-element-2429c65d > .elementor-element-populated{margin:0px 0px 40px 0px;--e-column-margin-right:0px;--e-column-margin-left:0px;padding:0px 0px 0px 0px;}.elementor-79 .elementor-element.elementor-element-7e0bfd29{--e-icon-list-icon-size:14px;}.elementor-79 .elementor-element.elementor-element-7e0bfd29 .elementor-icon-list-item > .elementor-icon-list-text, .elementor-79 .elementor-element.elementor-element-7e0bfd29 .elementor-icon-list-item > a{font-size:var( --e-global-typography-e5b5240-font-size );line-height:var( --e-global-typography-e5b5240-line-height );letter-spacing:var( --e-global-typography-e5b5240-letter-spacing );word-spacing:var( --e-global-typography-e5b5240-word-spacing );}.elementor-79 .elementor-element.elementor-element-508e9d4f > .elementor-element-populated{margin:0px 0px 40px 0px;--e-column-margin-right:0px;--e-column-margin-left:0px;padding:0px 0px 0px 0px;}.elementor-79 .elementor-element.elementor-element-5ea7e34c .jeg-elementor-kit.jkit-icon-box .jkit-icon-box-wrapper{text-align:left;}.elementor-79 .elementor-element.elementor-element-5ea7e34c .jeg-elementor-kit.jkit-icon-box .title{font-size:var( --e-global-typography-958661d-font-size );line-height:var( --e-global-typography-958661d-line-height );letter-spacing:var( --e-global-typography-958661d-letter-spacing );word-spacing:var( --e-global-typography-958661d-word-spacing );}.elementor-79 .elementor-element.elementor-element-5ea7e34c .jeg-elementor-kit.jkit-icon-box .icon-box.icon-box-body .icon-box-description{font-size:var( --e-global-typography-c721be5-font-size );line-height:var( --e-global-typography-c721be5-line-height );letter-spacing:var( --e-global-typography-c721be5-letter-spacing );word-spacing:var( --e-global-typography-c721be5-word-spacing );}.elementor-79 .elementor-element.elementor-element-2c3f29f7 .jeg-elementor-kit.jkit-icon-box .jkit-icon-box-wrapper{text-align:left;}.elementor-79 .elementor-element.elementor-element-2c3f29f7 .jeg-elementor-kit.jkit-icon-box .title{font-size:var( --e-global-typography-958661d-font-size );line-height:var( --e-global-typography-958661d-line-height );letter-spacing:var( --e-global-typography-958661d-letter-spacing );word-spacing:var( --e-global-typography-958661d-word-spacing );}.elementor-79 .elementor-element.elementor-element-2c3f29f7 .jeg-elementor-kit.jkit-icon-box .icon-box.icon-box-body .icon-box-description{font-size:var( --e-global-typography-c721be5-font-size );line-height:var( --e-global-typography-c721be5-line-height );letter-spacing:var( --e-global-typography-c721be5-letter-spacing );word-spacing:var( --e-global-typography-c721be5-word-spacing );}.elementor-79 .elementor-element.elementor-element-2c3f29f7 > .elementor-widget-container{margin:0px 0px 20px 0px;}.elementor-79 .elementor-element.elementor-element-9a7e469 .elementor-divider-separator{width:100%;}.elementor-79 .elementor-element.elementor-element-90e7dd2{padding:0px 0px 10px 0px;}.elementor-79 .elementor-element.elementor-element-7f8c140a > .elementor-element-populated{padding:0px 0px 0px 0px;}.elementor-79 .elementor-element.elementor-element-74cf6555 > .elementor-element-populated{padding:0px 0px 0px 0px;}}@media(max-width:767px){.elementor-79 .elementor-element.elementor-element-340d1d15{padding:50px 0px 15px 0px;}.elementor-79 .elementor-element.elementor-element-7f002431{width:100%;}.elementor-79 .elementor-element.elementor-element-7f002431 > .elementor-element-populated{padding:0px 15px 0px 15px;}.elementor-79 .elementor-element.elementor-element-32ed2761{padding:0px 0px 0px 0px;}.elementor-79 .elementor-element.elementor-element-4c533106 > .elementor-element-populated{margin:0px 0px 40px 0px;--e-column-margin-right:0px;--e-column-margin-left:0px;}.elementor-79 .elementor-element.elementor-element-791a81cf{text-align:center;}.elementor-79 .elementor-element.elementor-element-791a81cf img{width:180px;max-width:100%;height:100px;}.elementor-79 .elementor-element.elementor-element-2429c65d > .elementor-element-populated{margin:0px 0px 40px 0px;--e-column-margin-right:0px;--e-column-margin-left:0px;}.elementor-79 .elementor-element.elementor-element-7e0bfd29{--e-icon-list-icon-size:12px;}.elementor-79 .elementor-element.elementor-element-7e0bfd29 .elementor-icon-list-item > .elementor-icon-list-text, .elementor-79 .elementor-element.elementor-element-7e0bfd29 .elementor-icon-list-item > a{font-size:var( --e-global-typography-e5b5240-font-size );line-height:var( --e-global-typography-e5b5240-line-height );letter-spacing:var( --e-global-typography-e5b5240-letter-spacing );word-spacing:var( --e-global-typography-e5b5240-word-spacing );}.elementor-79 .elementor-element.elementor-element-508e9d4f > .elementor-element-populated{margin:0px 0px 0px 0px;--e-column-margin-right:0px;--e-column-margin-left:0px;}.elementor-79 .elementor-element.elementor-element-5ea7e34c .jeg-elementor-kit.jkit-icon-box .jkit-icon-box-wrapper{text-align:left;}.elementor-79 .elementor-element.elementor-element-5ea7e34c .jeg-elementor-kit.jkit-icon-box .title{font-size:var( --e-global-typography-958661d-font-size );line-height:var( --e-global-typography-958661d-line-height );letter-spacing:var( --e-global-typography-958661d-letter-spacing );word-spacing:var( --e-global-typography-958661d-word-spacing );}.elementor-79 .elementor-element.elementor-element-5ea7e34c .jeg-elementor-kit.jkit-icon-box .icon-box.icon-box-body .icon-box-description{font-size:var( --e-global-typography-c721be5-font-size );line-height:var( --e-global-typography-c721be5-line-height );letter-spacing:var( --e-global-typography-c721be5-letter-spacing );word-spacing:var( --e-global-typography-c721be5-word-spacing );}.elementor-79 .elementor-element.elementor-element-2c3f29f7 .jeg-elementor-kit.jkit-icon-box .jkit-icon-box-wrapper{text-align:left;}.elementor-79 .elementor-element.elementor-element-2c3f29f7 .jeg-elementor-kit.jkit-icon-box .title{font-size:var( --e-global-typography-958661d-font-size );line-height:var( --e-global-typography-958661d-line-height );letter-spacing:var( --e-global-typography-958661d-letter-spacing );word-spacing:var( --e-global-typography-958661d-word-spacing );}.elementor-79 .elementor-element.elementor-element-2c3f29f7 .jeg-elementor-kit.jkit-icon-box .icon-box.icon-box-body .icon-box-description{font-size:var( --e-global-typography-c721be5-font-size );line-height:var( --e-global-typography-c721be5-line-height );letter-spacing:var( --e-global-typography-c721be5-letter-spacing );word-spacing:var( --e-global-typography-c721be5-word-spacing );}.elementor-79 .elementor-element.elementor-element-7f8c140a > .elementor-element-populated{margin:0px 0px 15px 0px;--e-column-margin-right:0px;--e-column-margin-left:0px;}}@media (min-width: 1025px) {.elementor-element.elementor-element-5ea7e34c .jeg-elementor-kit.jkit-icon-box .jkit-icon-box-wrapper { display: -webkit-box; display: -ms-flexbox; display: flex; -webkit-box-align: start; -ms-flex-align: start; align-items: flex-start; flex-direction: row; } }@media (min-width: 1025px) {.elementor-element.elementor-element-5ea7e34c .jeg-elementor-kit.jkit-icon-box .jkit-icon-box-wrapper .icon-box.icon-box-header { margin-right: 15px; margin-left: unset; } }\n",
              "@media (min-width: 1025px) {.elementor-element.elementor-element-2c3f29f7 .jeg-elementor-kit.jkit-icon-box .jkit-icon-box-wrapper { display: -webkit-box; display: -ms-flexbox; display: flex; -webkit-box-align: start; -ms-flex-align: start; align-items: flex-start; flex-direction: row; } }@media (min-width: 1025px) {.elementor-element.elementor-element-2c3f29f7 .jeg-elementor-kit.jkit-icon-box .jkit-icon-box-wrapper .icon-box.icon-box-header { margin-right: 15px; margin-left: unset; } }</style> <div class=\"elementor elementor-79\" data-elementor-id=\"79\" data-elementor-type=\"page\">\n",
              "<section class=\"elementor-section elementor-top-section elementor-element elementor-element-340d1d15 elementor-section-boxed elementor-section-height-default elementor-section-height-default\" data-element_type=\"section\" data-id=\"340d1d15\" data-settings='{\"background_background\":\"classic\"}'>\n",
              "<div class=\"elementor-background-overlay\"></div>\n",
              "<div class=\"elementor-container elementor-column-gap-default\">\n",
              "<div class=\"elementor-column elementor-col-100 elementor-top-column elementor-element elementor-element-7f002431\" data-element_type=\"column\" data-id=\"7f002431\">\n",
              "<div class=\"elementor-widget-wrap elementor-element-populated\">\n",
              "<section class=\"elementor-section elementor-inner-section elementor-element elementor-element-32ed2761 elementor-section-boxed elementor-section-height-default elementor-section-height-default\" data-element_type=\"section\" data-id=\"32ed2761\">\n",
              "<div class=\"elementor-container elementor-column-gap-no\">\n",
              "<div class=\"elementor-column elementor-col-33 elementor-inner-column elementor-element elementor-element-4c533106\" data-element_type=\"column\" data-id=\"4c533106\" data-settings='{\"background_background\":\"classic\"}'>\n",
              "<div class=\"elementor-widget-wrap elementor-element-populated\">\n",
              "<div class=\"elementor-element elementor-element-791a81cf elementor-widget elementor-widget-image\" data-element_type=\"widget\" data-id=\"791a81cf\" data-widget_type=\"image.default\">\n",
              "<div class=\"elementor-widget-container\">\n",
              "<a href=\"https://www.alamofarmstx.com/\">\n",
              "<img alt=\"\" class=\"attachment-medium size-medium wp-image-514\" decoding=\"async\" height=\"146\" loading=\"lazy\" sizes=\"(max-width: 300px) 100vw, 300px\" src=\"https://i0.wp.com/www.alamofarmstx.com/wp-content/uploads/2022/08/Screen-Shot-2022-08-22-at-1.13.46-PM.png?fit=300%2C146&amp;ssl=1\" srcset=\"https://i0.wp.com/www.alamofarmstx.com/wp-content/uploads/2022/08/Screen-Shot-2022-08-22-at-1.13.46-PM.png?w=1614&amp;ssl=1 1614w, https://i0.wp.com/www.alamofarmstx.com/wp-content/uploads/2022/08/Screen-Shot-2022-08-22-at-1.13.46-PM.png?resize=600%2C291&amp;ssl=1 600w, https://i0.wp.com/www.alamofarmstx.com/wp-content/uploads/2022/08/Screen-Shot-2022-08-22-at-1.13.46-PM.png?resize=300%2C146&amp;ssl=1 300w, https://i0.wp.com/www.alamofarmstx.com/wp-content/uploads/2022/08/Screen-Shot-2022-08-22-at-1.13.46-PM.png?resize=1024%2C497&amp;ssl=1 1024w, https://i0.wp.com/www.alamofarmstx.com/wp-content/uploads/2022/08/Screen-Shot-2022-08-22-at-1.13.46-PM.png?resize=768%2C373&amp;ssl=1 768w, https://i0.wp.com/www.alamofarmstx.com/wp-content/uploads/2022/08/Screen-Shot-2022-08-22-at-1.13.46-PM.png?resize=1536%2C746&amp;ssl=1 1536w, https://i0.wp.com/www.alamofarmstx.com/wp-content/uploads/2022/08/Screen-Shot-2022-08-22-at-1.13.46-PM.png?resize=1200%2C583&amp;ssl=1 1200w\" width=\"300\"/> </a>\n",
              "</div>\n",
              "</div>\n",
              "</div>\n",
              "</div>\n",
              "<div class=\"elementor-column elementor-col-33 elementor-inner-column elementor-element elementor-element-2429c65d\" data-element_type=\"column\" data-id=\"2429c65d\">\n",
              "<div class=\"elementor-widget-wrap elementor-element-populated\">\n",
              "<div class=\"elementor-element elementor-element-3569260 elementor-widget elementor-widget-heading\" data-element_type=\"widget\" data-id=\"3569260\" data-widget_type=\"heading.default\">\n",
              "<div class=\"elementor-widget-container\">\n",
              "<h4 class=\"elementor-heading-title elementor-size-default\">Hours</h4> </div>\n",
              "</div>\n",
              "<div class=\"elementor-element elementor-element-7e0bfd29 elementor-icon-list--layout-traditional elementor-list-item-link-full_width elementor-widget elementor-widget-icon-list\" data-element_type=\"widget\" data-id=\"7e0bfd29\" data-widget_type=\"icon-list.default\">\n",
              "<div class=\"elementor-widget-container\">\n",
              "<ul class=\"elementor-icon-list-items\">\n",
              "<li class=\"elementor-icon-list-item\">\n",
              "<a href=\"#\">\n",
              "<span class=\"elementor-icon-list-text\"> Monday - Saturday 9:00 AM - 6 PM </span>\n",
              "</a>\n",
              "</li>\n",
              "<li class=\"elementor-icon-list-item\">\n",
              "<a href=\"#\">\n",
              "<span class=\"elementor-icon-list-text\">Sunday 9:00 AM - 3:00 PM</span>\n",
              "</a>\n",
              "</li>\n",
              "</ul>\n",
              "</div>\n",
              "</div>\n",
              "<div class=\"elementor-element elementor-element-05b138f elementor-widget elementor-widget-google_maps\" data-element_type=\"widget\" data-id=\"05b138f\" data-widget_type=\"google_maps.default\">\n",
              "<div class=\"elementor-widget-container\">\n",
              "<style>/*! elementor - v3.11.5 - 14-03-2023 */\n",
              ".elementor-widget-google_maps .elementor-widget-container{overflow:hidden}.elementor-widget-google_maps .elementor-custom-embed{line-height:0}.elementor-widget-google_maps iframe{height:300px}</style> <div class=\"elementor-custom-embed\">\n",
              "<iframe aria-label=\"200 chihuahua st, san antonio, tx 78207\" loading=\"lazy\" src=\"https://maps.google.com/maps?q=200%20chihuahua%20st%2C%20san%20antonio%2C%20tx%2078207&amp;t=m&amp;z=17&amp;output=embed&amp;iwloc=near\" title=\"200 chihuahua st, san antonio, tx 78207\"></iframe>\n",
              "</div>\n",
              "</div>\n",
              "</div>\n",
              "</div>\n",
              "</div>\n",
              "<div class=\"elementor-column elementor-col-33 elementor-inner-column elementor-element elementor-element-508e9d4f\" data-element_type=\"column\" data-id=\"508e9d4f\">\n",
              "<div class=\"elementor-widget-wrap elementor-element-populated\">\n",
              "<div class=\"elementor-element elementor-element-2ecc4e02 elementor-widget elementor-widget-heading\" data-element_type=\"widget\" data-id=\"2ecc4e02\" data-widget_type=\"heading.default\">\n",
              "<div class=\"elementor-widget-container\">\n",
              "<h4 class=\"elementor-heading-title elementor-size-default\">Store Location</h4> </div>\n",
              "</div>\n",
              "<div class=\"elementor-element elementor-element-5ea7e34c jkit-equal-height-disable elementor-widget elementor-widget-jkit_icon_box\" data-element_type=\"widget\" data-id=\"5ea7e34c\" data-widget_type=\"jkit_icon_box.default\">\n",
              "<div class=\"elementor-widget-container\">\n",
              "<div class=\"jeg-elementor-kit jkit-icon-box icon-position-left elementor-animation- jeg_module_379_9_65c4f9c121e49\"><a class=\"icon-box-link\" href=\"https://g.page/alamofarms?share\" target=\"_blank\"><div class=\"jkit-icon-box-wrapper hover-from-left\"><div class=\"icon-box icon-box-header elementor-animation-\"><div class=\"icon style-color\"><i aria-hidden=\"true\" class=\"fas fa-map-marker-alt\"></i></div></div><div class=\"icon-box icon-box-body\">\n",
              "<h2 class=\"title\">Location</h2><p class=\"icon-box-description\">200 Chihuahua St,<br/>\n",
              "San Antonio, TX 78207</p>\n",
              "</div>\n",
              "</div></a></div> </div>\n",
              "</div>\n",
              "<div class=\"elementor-element elementor-element-2c3f29f7 jkit-equal-height-disable elementor-widget elementor-widget-jkit_icon_box\" data-element_type=\"widget\" data-id=\"2c3f29f7\" data-widget_type=\"jkit_icon_box.default\">\n",
              "<div class=\"elementor-widget-container\">\n",
              "<div class=\"jeg-elementor-kit jkit-icon-box icon-position-left elementor-animation- jeg_module_379_10_65c4f9c1265db\"><a class=\"icon-box-link\" href=\"tel:+12109982800\" target=\"_blank\"><div class=\"jkit-icon-box-wrapper hover-from-left\"><div class=\"icon-box icon-box-header elementor-animation-\"><div class=\"icon style-color\"><i aria-hidden=\"true\" class=\"fas fa-headset\"></i></div></div><div class=\"icon-box icon-box-body\">\n",
              "<h2 class=\"title\">Phone</h2><p class=\"icon-box-description\">210 -998-2800</p>\n",
              "</div>\n",
              "</div></a></div> </div>\n",
              "</div>\n",
              "<div class=\"elementor-element elementor-element-1ce6c7d4 e-grid-align-left elementor-shape-square elementor-grid-0 elementor-widget elementor-widget-social-icons\" data-element_type=\"widget\" data-id=\"1ce6c7d4\" data-widget_type=\"social-icons.default\">\n",
              "<div class=\"elementor-widget-container\">\n",
              "<style>/*! elementor - v3.11.5 - 14-03-2023 */\n",
              ".elementor-widget-social-icons.elementor-grid-0 .elementor-widget-container,.elementor-widget-social-icons.elementor-grid-mobile-0 .elementor-widget-container,.elementor-widget-social-icons.elementor-grid-tablet-0 .elementor-widget-container{line-height:1;font-size:0}.elementor-widget-social-icons:not(.elementor-grid-0):not(.elementor-grid-tablet-0):not(.elementor-grid-mobile-0) .elementor-grid{display:inline-grid}.elementor-widget-social-icons .elementor-grid{grid-column-gap:var(--grid-column-gap,5px);grid-row-gap:var(--grid-row-gap,5px);grid-template-columns:var(--grid-template-columns);justify-content:var(--justify-content,center);justify-items:var(--justify-content,center)}.elementor-icon.elementor-social-icon{font-size:var(--icon-size,25px);line-height:var(--icon-size,25px);width:calc(var(--icon-size, 25px) + (2 * var(--icon-padding, .5em)));height:calc(var(--icon-size, 25px) + (2 * var(--icon-padding, .5em)))}.elementor-social-icon{--e-social-icon-icon-color:#fff;display:inline-flex;background-color:#818a91;align-items:center;justify-content:center;text-align:center;cursor:pointer}.elementor-social-icon i{color:var(--e-social-icon-icon-color)}.elementor-social-icon svg{fill:var(--e-social-icon-icon-color)}.elementor-social-icon:last-child{margin:0}.elementor-social-icon:hover{opacity:.9;color:#fff}.elementor-social-icon-android{background-color:#a4c639}.elementor-social-icon-apple{background-color:#999}.elementor-social-icon-behance{background-color:#1769ff}.elementor-social-icon-bitbucket{background-color:#205081}.elementor-social-icon-codepen{background-color:#000}.elementor-social-icon-delicious{background-color:#39f}.elementor-social-icon-deviantart{background-color:#05cc47}.elementor-social-icon-digg{background-color:#005be2}.elementor-social-icon-dribbble{background-color:#ea4c89}.elementor-social-icon-elementor{background-color:#d30c5c}.elementor-social-icon-envelope{background-color:#ea4335}.elementor-social-icon-facebook,.elementor-social-icon-facebook-f{background-color:#3b5998}.elementor-social-icon-flickr{background-color:#0063dc}.elementor-social-icon-foursquare{background-color:#2d5be3}.elementor-social-icon-free-code-camp,.elementor-social-icon-freecodecamp{background-color:#006400}.elementor-social-icon-github{background-color:#333}.elementor-social-icon-gitlab{background-color:#e24329}.elementor-social-icon-globe{background-color:#818a91}.elementor-social-icon-google-plus,.elementor-social-icon-google-plus-g{background-color:#dd4b39}.elementor-social-icon-houzz{background-color:#7ac142}.elementor-social-icon-instagram{background-color:#262626}.elementor-social-icon-jsfiddle{background-color:#487aa2}.elementor-social-icon-link{background-color:#818a91}.elementor-social-icon-linkedin,.elementor-social-icon-linkedin-in{background-color:#0077b5}.elementor-social-icon-medium{background-color:#00ab6b}.elementor-social-icon-meetup{background-color:#ec1c40}.elementor-social-icon-mixcloud{background-color:#273a4b}.elementor-social-icon-odnoklassniki{background-color:#f4731c}.elementor-social-icon-pinterest{background-color:#bd081c}.elementor-social-icon-product-hunt{background-color:#da552f}.elementor-social-icon-reddit{background-color:#ff4500}.elementor-social-icon-rss{background-color:#f26522}.elementor-social-icon-shopping-cart{background-color:#4caf50}.elementor-social-icon-skype{background-color:#00aff0}.elementor-social-icon-slideshare{background-color:#0077b5}.elementor-social-icon-snapchat{background-color:#fffc00}.elementor-social-icon-soundcloud{background-color:#f80}.elementor-social-icon-spotify{background-color:#2ebd59}.elementor-social-icon-stack-overflow{background-color:#fe7a15}.elementor-social-icon-steam{background-color:#00adee}.elementor-social-icon-stumbleupon{background-color:#eb4924}.elementor-social-icon-telegram{background-color:#2ca5e0}.elementor-social-icon-thumb-tack{background-color:#1aa1d8}.elementor-social-icon-tripadvisor{background-color:#589442}.elementor-social-icon-tumblr{background-color:#35465c}.elementor-social-icon-twitch{background-color:#6441a5}.elementor-social-icon-twitter{background-color:#1da1f2}.elementor-social-icon-viber{background-color:#665cac}.elementor-social-icon-vimeo{background-color:#1ab7ea}.elementor-social-icon-vk{background-color:#45668e}.elementor-social-icon-weibo{background-color:#dd2430}.elementor-social-icon-weixin{background-color:#31a918}.elementor-social-icon-whatsapp{background-color:#25d366}.elementor-social-icon-wordpress{background-color:#21759b}.elementor-social-icon-xing{background-color:#026466}.elementor-social-icon-yelp{background-color:#af0606}.elementor-social-icon-youtube{background-color:#cd201f}.elementor-social-icon-500px{background-color:#0099e5}.elementor-shape-rounded .elementor-icon.elementor-social-icon{border-radius:10%}.elementor-shape-circle .elementor-icon.elementor-social-icon{border-radius:50%}</style> <div class=\"elementor-social-icons-wrapper elementor-grid\">\n",
              "<span class=\"elementor-grid-item\">\n",
              "<a class=\"elementor-icon elementor-social-icon elementor-social-icon-jki-facebook-light elementor-animation-rotate elementor-repeater-item-db90cd2\" href=\"https://www.facebook.com/AlamoFarmsSA\" target=\"_blank\">\n",
              "<span class=\"elementor-screen-only\">Jki-facebook-light</span>\n",
              "<i class=\"jki jki-facebook-light\"></i> </a>\n",
              "</span>\n",
              "<span class=\"elementor-grid-item\">\n",
              "<a class=\"elementor-icon elementor-social-icon elementor-social-icon-instagram elementor-animation-rotate elementor-repeater-item-e3b0b63\" href=\"https://www.instagram.com/alamofarms/?hl=en\" target=\"_blank\">\n",
              "<span class=\"elementor-screen-only\">Instagram</span>\n",
              "<i class=\"fab fa-instagram\"></i> </a>\n",
              "</span>\n",
              "</div>\n",
              "</div>\n",
              "</div>\n",
              "</div>\n",
              "</div>\n",
              "</div>\n",
              "</section>\n",
              "<div class=\"elementor-element elementor-element-9a7e469 elementor-widget-divider--view-line elementor-widget elementor-widget-divider\" data-element_type=\"widget\" data-id=\"9a7e469\" data-widget_type=\"divider.default\">\n",
              "<div class=\"elementor-widget-container\">\n",
              "<style>/*! elementor - v3.11.5 - 14-03-2023 */\n",
              ".elementor-widget-divider{--divider-border-style:none;--divider-border-width:1px;--divider-color:#2c2c2c;--divider-icon-size:20px;--divider-element-spacing:10px;--divider-pattern-height:24px;--divider-pattern-size:20px;--divider-pattern-url:none;--divider-pattern-repeat:repeat-x}.elementor-widget-divider .elementor-divider{display:flex}.elementor-widget-divider .elementor-divider__text{font-size:15px;line-height:1;max-width:95%}.elementor-widget-divider .elementor-divider__element{margin:0 var(--divider-element-spacing);flex-shrink:0}.elementor-widget-divider .elementor-icon{font-size:var(--divider-icon-size)}.elementor-widget-divider .elementor-divider-separator{display:flex;margin:0;direction:ltr}.elementor-widget-divider--view-line_icon .elementor-divider-separator,.elementor-widget-divider--view-line_text .elementor-divider-separator{align-items:center}.elementor-widget-divider--view-line_icon .elementor-divider-separator:after,.elementor-widget-divider--view-line_icon .elementor-divider-separator:before,.elementor-widget-divider--view-line_text .elementor-divider-separator:after,.elementor-widget-divider--view-line_text .elementor-divider-separator:before{display:block;content:\"\";border-bottom:0;flex-grow:1;border-top:var(--divider-border-width) var(--divider-border-style) var(--divider-color)}.elementor-widget-divider--element-align-left .elementor-divider .elementor-divider-separator>.elementor-divider__svg:first-of-type{flex-grow:0;flex-shrink:100}.elementor-widget-divider--element-align-left .elementor-divider-separator:before{content:none}.elementor-widget-divider--element-align-left .elementor-divider__element{margin-left:0}.elementor-widget-divider--element-align-right .elementor-divider .elementor-divider-separator>.elementor-divider__svg:last-of-type{flex-grow:0;flex-shrink:100}.elementor-widget-divider--element-align-right .elementor-divider-separator:after{content:none}.elementor-widget-divider--element-align-right .elementor-divider__element{margin-right:0}.elementor-widget-divider:not(.elementor-widget-divider--view-line_text):not(.elementor-widget-divider--view-line_icon) .elementor-divider-separator{border-top:var(--divider-border-width) var(--divider-border-style) var(--divider-color)}.elementor-widget-divider--separator-type-pattern{--divider-border-style:none}.elementor-widget-divider--separator-type-pattern.elementor-widget-divider--view-line .elementor-divider-separator,.elementor-widget-divider--separator-type-pattern:not(.elementor-widget-divider--view-line) .elementor-divider-separator:after,.elementor-widget-divider--separator-type-pattern:not(.elementor-widget-divider--view-line) .elementor-divider-separator:before,.elementor-widget-divider--separator-type-pattern:not([class*=elementor-widget-divider--view]) .elementor-divider-separator{width:100%;min-height:var(--divider-pattern-height);-webkit-mask-size:var(--divider-pattern-size) 100%;mask-size:var(--divider-pattern-size) 100%;-webkit-mask-repeat:var(--divider-pattern-repeat);mask-repeat:var(--divider-pattern-repeat);background-color:var(--divider-color);-webkit-mask-image:var(--divider-pattern-url);mask-image:var(--divider-pattern-url)}.elementor-widget-divider--no-spacing{--divider-pattern-size:auto}.elementor-widget-divider--bg-round{--divider-pattern-repeat:round}.rtl .elementor-widget-divider .elementor-divider__text{direction:rtl}.e-con-inner>.elementor-widget-divider,.e-con>.elementor-widget-divider{width:var(--container-widget-width,100%);--flex-grow:var(--container-widget-flex-grow)}</style> <div class=\"elementor-divider\">\n",
              "<span class=\"elementor-divider-separator\">\n",
              "</span>\n",
              "</div>\n",
              "</div>\n",
              "</div>\n",
              "<section class=\"elementor-section elementor-inner-section elementor-element elementor-element-90e7dd2 elementor-section-boxed elementor-section-height-default elementor-section-height-default\" data-element_type=\"section\" data-id=\"90e7dd2\">\n",
              "<div class=\"elementor-container elementor-column-gap-no\">\n",
              "<div class=\"elementor-column elementor-col-50 elementor-inner-column elementor-element elementor-element-7f8c140a\" data-element_type=\"column\" data-id=\"7f8c140a\">\n",
              "<div class=\"elementor-widget-wrap elementor-element-populated\">\n",
              "<div class=\"elementor-element elementor-element-57d4a83e elementor-widget elementor-widget-text-editor\" data-element_type=\"widget\" data-id=\"57d4a83e\" data-widget_type=\"text-editor.default\">\n",
              "<div class=\"elementor-widget-container\">\n",
              "</div>\n",
              "</div>\n",
              "</div>\n",
              "</div>\n",
              "<div class=\"elementor-column elementor-col-50 elementor-inner-column elementor-element elementor-element-74cf6555\" data-element_type=\"column\" data-id=\"74cf6555\">\n",
              "<div class=\"elementor-widget-wrap elementor-element-populated\">\n",
              "<div class=\"elementor-element elementor-element-362d2686 elementor-widget elementor-widget-text-editor\" data-element_type=\"widget\" data-id=\"362d2686\" data-widget_type=\"text-editor.default\">\n",
              "<div class=\"elementor-widget-container\">\n",
              "<p>Copyright © 2022 <a href=\"http://www.mediabuzzmarketing.com\">MediaBuzz</a></p> </div>\n",
              "</div>\n",
              "</div>\n",
              "</div>\n",
              "</div>\n",
              "</section>\n",
              "</div>\n",
              "</div>\n",
              "</div>\n",
              "</section>\n",
              "</div>\n",
              "</footer>\n",
              "</div><!-- #page -->\n",
              "<!-- Instagram Feed JS -->\n",
              "<script type=\"text/javascript\">\n",
              "var sbiajaxurl = \"https://www.alamofarmstx.com/wp-admin/admin-ajax.php\";\n",
              "</script>\n",
              "<script type=\"text/javascript\">\n",
              "\t\t(function () {\n",
              "\t\t\tvar c = document.body.className;\n",
              "\t\t\tc = c.replace(/woocommerce-no-js/, 'woocommerce-js');\n",
              "\t\t\tdocument.body.className = c;\n",
              "\t\t})();\n",
              "\t</script>\n",
              "<link href=\"https://www.alamofarmstx.com/wp-content/plugins/jeg-elementor-kit/lib/jeg-framework/assets/css/jeg-dynamic-styles.css?ver=1.2.9\" id=\"jeg-dynamic-style-css\" media=\"all\" rel=\"stylesheet\">\n",
              "<link href=\"https://www.alamofarmstx.com/wp-content/uploads/elementor/css/post-74.css?ver=1679979863\" id=\"elementor-post-74-css\" media=\"all\" rel=\"stylesheet\"/>\n",
              "<link href=\"https://www.alamofarmstx.com/wp-content/plugins/jeg-elementor-kit/assets/fonts/jkiticon/jkiticon.css?ver=2.6.1\" id=\"elementor-icons-jkiticon-css\" media=\"all\" rel=\"stylesheet\"/>\n",
              "<link href=\"https://www.alamofarmstx.com/wp-content/plugins/jeg-elementor-kit/assets/js/sweetalert2/sweetalert2.min.css?ver=11.6.16\" id=\"sweetalert2-css\" media=\"all\" rel=\"stylesheet\"/>\n",
              "<link href=\"https://www.alamofarmstx.com/wp-content/plugins/jeg-elementor-kit/assets/fonts/jkiticon/jkiticon.css?ver=2.6.1\" id=\"jkit-icons-css\" media=\"all\" rel=\"stylesheet\"/>\n",
              "<link href=\"https://www.alamofarmstx.com/wp-content/uploads/elementor/css/post-79.css?ver=1679979864\" id=\"elementor-post-79-css\" media=\"all\" rel=\"stylesheet\"/>\n",
              "<link href=\"https://www.alamofarmstx.com/wp-content/plugins/elementor/assets/lib/font-awesome/css/brands.min.css?ver=5.15.3\" id=\"elementor-icons-fa-brands-css\" media=\"all\" rel=\"stylesheet\"/>\n",
              "<link href=\"https://www.alamofarmstx.com/wp-content/plugins/elementor/assets/lib/animations/animations.min.css?ver=3.11.5\" id=\"e-animations-css\" media=\"all\" rel=\"stylesheet\"/>\n",
              "<script id=\"jetpack-photon-js\" src=\"https://c0.wp.com/p/jetpack/11.9.1/_inc/build/photon/photon.min.js\"></script>\n",
              "<script id=\"swv-js\" src=\"https://www.alamofarmstx.com/wp-content/plugins/contact-form-7/includes/swv/js/index.js?ver=5.7.5.1\"></script>\n",
              "<script id=\"contact-form-7-js-extra\">\n",
              "var wpcf7 = {\"api\":{\"root\":\"https:\\/\\/www.alamofarmstx.com\\/wp-json\\/\",\"namespace\":\"contact-form-7\\/v1\"}};\n",
              "</script>\n",
              "<script id=\"contact-form-7-js\" src=\"https://www.alamofarmstx.com/wp-content/plugins/contact-form-7/includes/js/index.js?ver=5.7.5.1\"></script>\n",
              "<script id=\"jquery-blockui-js\" src=\"https://c0.wp.com/p/woocommerce/7.5.1/assets/js/jquery-blockui/jquery.blockUI.min.js\"></script>\n",
              "<script id=\"wc-add-to-cart-js-extra\">\n",
              "var wc_add_to_cart_params = {\"ajax_url\":\"\\/wp-admin\\/admin-ajax.php\",\"wc_ajax_url\":\"\\/?wc-ajax=%%endpoint%%\",\"i18n_view_cart\":\"View cart\",\"cart_url\":\"https:\\/\\/www.alamofarmstx.com\\/cart\\/\",\"is_cart\":\"\",\"cart_redirect_after_add\":\"no\"};\n",
              "</script>\n",
              "<script id=\"wc-add-to-cart-js\" src=\"https://c0.wp.com/p/woocommerce/7.5.1/assets/js/frontend/add-to-cart.min.js\"></script>\n",
              "<script id=\"js-cookie-js\" src=\"https://c0.wp.com/p/woocommerce/7.5.1/assets/js/js-cookie/js.cookie.min.js\"></script>\n",
              "<script id=\"woocommerce-js-extra\">\n",
              "var woocommerce_params = {\"ajax_url\":\"\\/wp-admin\\/admin-ajax.php\",\"wc_ajax_url\":\"\\/?wc-ajax=%%endpoint%%\"};\n",
              "</script>\n",
              "<script id=\"woocommerce-js\" src=\"https://c0.wp.com/p/woocommerce/7.5.1/assets/js/frontend/woocommerce.min.js\"></script>\n",
              "<script id=\"wc-cart-fragments-js-extra\">\n",
              "var wc_cart_fragments_params = {\"ajax_url\":\"\\/wp-admin\\/admin-ajax.php\",\"wc_ajax_url\":\"\\/?wc-ajax=%%endpoint%%\",\"cart_hash_key\":\"wc_cart_hash_05c3b01bb5d599adfdb7448c93d8d3d6\",\"fragment_name\":\"wc_fragments_05c3b01bb5d599adfdb7448c93d8d3d6\",\"request_timeout\":\"5000\"};\n",
              "</script>\n",
              "<script id=\"wc-cart-fragments-js\" src=\"https://c0.wp.com/p/woocommerce/7.5.1/assets/js/frontend/cart-fragments.min.js\"></script>\n",
              "<script id=\"wc-cart-fragments-js-after\">\n",
              "\t\tjQuery( 'body' ).bind( 'wc_fragments_refreshed', function() {\n",
              "\t\t\tvar jetpackLazyImagesLoadEvent;\n",
              "\t\t\ttry {\n",
              "\t\t\t\tjetpackLazyImagesLoadEvent = new Event( 'jetpack-lazy-images-load', {\n",
              "\t\t\t\t\tbubbles: true,\n",
              "\t\t\t\t\tcancelable: true\n",
              "\t\t\t\t} );\n",
              "\t\t\t} catch ( e ) {\n",
              "\t\t\t\tjetpackLazyImagesLoadEvent = document.createEvent( 'Event' )\n",
              "\t\t\t\tjetpackLazyImagesLoadEvent.initEvent( 'jetpack-lazy-images-load', true, true );\n",
              "\t\t\t}\n",
              "\t\t\tjQuery( 'body' ).get( 0 ).dispatchEvent( jetpackLazyImagesLoadEvent );\n",
              "\t\t} );\n",
              "\t\t\n",
              "</script>\n",
              "<script id=\"elementor-webpack-runtime-js\" src=\"https://www.alamofarmstx.com/wp-content/plugins/elementor/assets/js/webpack.runtime.min.js?ver=3.11.5\"></script>\n",
              "<script id=\"elementor-frontend-modules-js\" src=\"https://www.alamofarmstx.com/wp-content/plugins/elementor/assets/js/frontend-modules.min.js?ver=3.11.5\"></script>\n",
              "<script id=\"elementor-waypoints-js\" src=\"https://www.alamofarmstx.com/wp-content/plugins/elementor/assets/lib/waypoints/waypoints.min.js?ver=4.0.2\"></script>\n",
              "<script id=\"jquery-ui-core-js\" src=\"https://c0.wp.com/c/6.1.5/wp-includes/js/jquery/ui/core.min.js\"></script>\n",
              "<script id=\"elementor-frontend-js-before\">\n",
              "var elementorFrontendConfig = {\"environmentMode\":{\"edit\":false,\"wpPreview\":false,\"isScriptDebug\":false},\"i18n\":{\"shareOnFacebook\":\"Share on Facebook\",\"shareOnTwitter\":\"Share on Twitter\",\"pinIt\":\"Pin it\",\"download\":\"Download\",\"downloadImage\":\"Download image\",\"fullscreen\":\"Fullscreen\",\"zoom\":\"Zoom\",\"share\":\"Share\",\"playVideo\":\"Play Video\",\"previous\":\"Previous\",\"next\":\"Next\",\"close\":\"Close\"},\"is_rtl\":false,\"breakpoints\":{\"xs\":0,\"sm\":480,\"md\":768,\"lg\":1025,\"xl\":1440,\"xxl\":1600},\"responsive\":{\"breakpoints\":{\"mobile\":{\"label\":\"Mobile\",\"value\":767,\"default_value\":767,\"direction\":\"max\",\"is_enabled\":true},\"mobile_extra\":{\"label\":\"Mobile Extra\",\"value\":880,\"default_value\":880,\"direction\":\"max\",\"is_enabled\":false},\"tablet\":{\"label\":\"Tablet\",\"value\":1024,\"default_value\":1024,\"direction\":\"max\",\"is_enabled\":true},\"tablet_extra\":{\"label\":\"Tablet Extra\",\"value\":1200,\"default_value\":1200,\"direction\":\"max\",\"is_enabled\":false},\"laptop\":{\"label\":\"Laptop\",\"value\":1366,\"default_value\":1366,\"direction\":\"max\",\"is_enabled\":false},\"widescreen\":{\"label\":\"Widescreen\",\"value\":2400,\"default_value\":2400,\"direction\":\"min\",\"is_enabled\":false}}},\"version\":\"3.11.5\",\"is_static\":false,\"experimentalFeatures\":{\"e_dom_optimization\":true,\"e_optimized_assets_loading\":true,\"e_optimized_css_loading\":true,\"a11y_improvements\":true,\"additional_custom_breakpoints\":true,\"landing-pages\":true,\"kit-elements-defaults\":true},\"urls\":{\"assets\":\"https:\\/\\/www.alamofarmstx.com\\/wp-content\\/plugins\\/elementor\\/assets\\/\"},\"swiperClass\":\"swiper-container\",\"settings\":{\"page\":[],\"editorPreferences\":[]},\"kit\":{\"body_background_background\":\"classic\",\"active_breakpoints\":[\"viewport_mobile\",\"viewport_tablet\"],\"global_image_lightbox\":\"yes\",\"lightbox_enable_counter\":\"yes\",\"lightbox_enable_fullscreen\":\"yes\",\"lightbox_enable_zoom\":\"yes\",\"lightbox_enable_share\":\"yes\",\"lightbox_title_src\":\"title\",\"lightbox_description_src\":\"description\"},\"post\":{\"id\":379,\"title\":\"Chicken%20%E2%80%93%20Alamo%20Farms\",\"excerpt\":\"\",\"featuredImage\":false}};\n",
              "</script>\n",
              "<script id=\"elementor-frontend-js\" src=\"https://www.alamofarmstx.com/wp-content/plugins/elementor/assets/js/frontend.min.js?ver=3.11.5\"></script>\n",
              "<script id=\"elementor-frontend-js-after\">\n",
              "var jkit_ajax_url = \"https://www.alamofarmstx.com/?jkit-ajax-request=jkit_elements\", jkit_nonce = \"dd819d5bc7\";\n",
              "</script>\n",
              "<script id=\"jkit-sticky-element-js\" src=\"https://www.alamofarmstx.com/wp-content/plugins/jeg-elementor-kit/assets/js/elements/sticky-element.js?ver=2.6.1\"></script>\n",
              "<script id=\"jkit-element-navmenu-js\" src=\"https://www.alamofarmstx.com/wp-content/plugins/jeg-elementor-kit/assets/js/elements/nav-menu.js?ver=2.6.1\"></script>\n",
              "<script id=\"jkit-element-search-js\" src=\"https://www.alamofarmstx.com/wp-content/plugins/jeg-elementor-kit/assets/js/elements/search.js?ver=2.6.1\"></script>\n",
              "<script id=\"sweetalert2-js\" src=\"https://www.alamofarmstx.com/wp-content/plugins/jeg-elementor-kit/assets/js/sweetalert2/sweetalert2.min.js?ver=11.6.16\"></script>\n",
              "<script id=\"jkit-element-pagination-js-extra\">\n",
              "var jkit_element_pagination_option = {\"element_prefix\":\"jkit_element_ajax_\"};\n",
              "</script>\n",
              "<script id=\"jkit-element-pagination-js\" src=\"https://www.alamofarmstx.com/wp-content/plugins/jeg-elementor-kit/assets/js/elements/post-pagination.js?ver=2.6.1\"></script>\n",
              "<script>\n",
              "\t/(trident|msie)/i.test(navigator.userAgent)&&document.getElementById&&window.addEventListener&&window.addEventListener(\"hashchange\",function(){var t,e=location.hash.substring(1);/^[A-z0-9_-]+$/.test(e)&&(t=document.getElementById(e))&&(/^(?:a|select|input|button|textarea)$/i.test(t.tagName)||(t.tabIndex=-1),t.focus())},!1);\n",
              "\t</script>\n",
              "<script defer=\"\" src=\"https://stats.wp.com/e-202406.js\"></script>\n",
              "<script>\n",
              "\t\t_stq = window._stq || [];\n",
              "\t\t_stq.push([ 'view', {v:'ext',blog:'209910502',post:'379',tz:'-5',srv:'www.alamofarmstx.com',j:'1:11.9.1'} ]);\n",
              "\t\t_stq.push([ 'clickTrackerInit', '209910502', '379' ]);\n",
              "\t</script></link></body>\n",
              "</html>"
            ]
          },
          "metadata": {},
          "execution_count": 4
        }
      ]
    },
    {
      "cell_type": "code",
      "source": [
        "# Find elements containing the product information\n",
        "# This is a placeholder; you'll need to update it based on the actual HTML structure\n",
        "products = soup.find_all('div', class_='product-class-or-id')\n",
        "\n",
        "for product in products:\n",
        "    # Extract and print the product details\n",
        "    # Update these based on the actual HTML structure\n",
        "    name = product.find('h3', class_='product-name-class').text\n",
        "    price = product.find('span', class_='product-price-class').text\n",
        "    print(f'Product Name: {name}, Price: {price}')\n"
      ],
      "metadata": {
        "id": "lmJbJTDibr7Q"
      },
      "execution_count": null,
      "outputs": []
    }
  ]
}